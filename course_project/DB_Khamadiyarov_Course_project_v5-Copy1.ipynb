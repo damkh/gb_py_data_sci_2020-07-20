{
 "cells": [
  {
   "cell_type": "markdown",
   "metadata": {},
   "source": [
    "# Курсовой проект"
   ]
  },
  {
   "cell_type": "markdown",
   "metadata": {},
   "source": [
    "## Описание проекта\n",
    "**Задача**\n",
    "\n",
    "Требуется, на основании имеющихся данных о клиентах банка, построить модель, используя обучающий датасет, для прогнозирования невыполнения долговых обязательств по текущему кредиту. Выполнить прогноз для примеров из тестового датасета.\n",
    "\n",
    "**Наименование файлов с данными**\n",
    "\n",
    "course_project_train.csv - обучающий датасет<br>\n",
    "course_project_test.csv - тестовый датасет\n",
    "\n",
    "**Целевая переменная**\n",
    "\n",
    "Credit Default - факт невыполнения кредитных обязательств\n",
    "\n",
    "**Метрика качества**\n",
    "\n",
    "F1-score (sklearn.metrics.f1_score)\n",
    "\n",
    "**Требования к решению**\n",
    "\n",
    "*Целевая метрика*\n",
    "* F1 > 0.5\n",
    "* Метрика оценивается по качеству прогноза для главного класса (1 - просрочка по кредиту)\n",
    "\n",
    "*Решение должно содержать*\n",
    "1. Тетрадка Jupyter Notebook с кодом Вашего решения, названная по образцу {ФИО}\\_solution.ipynb, пример SShirkin\\_solution.ipynb\n",
    "2. Файл CSV с прогнозами целевой переменной для тестового датасета, названный по образцу {ФИО}\\_predictions.csv, пример SShirkin\\_predictions.csv\n",
    "\n",
    "*Рекомендации для файла с кодом (ipynb)*\n",
    "1. Файл должен содержать заголовки и комментарии (markdown)\n",
    "2. Повторяющиеся операции лучше оформлять в виде функций\n",
    "3. Не делать вывод большого количества строк таблиц (5-10 достаточно)\n",
    "4. По возможности добавлять графики, описывающие данные (около 3-5)\n",
    "5. Добавлять только лучшую модель, то есть не включать в код все варианты решения проекта\n",
    "6. Скрипт проекта должен отрабатывать от начала и до конца (от загрузки данных до выгрузки предсказаний)\n",
    "7. Весь проект должен быть в одном скрипте (файл ipynb).\n",
    "8. Допускается применение библиотек Python и моделей машинного обучения,\n",
    "которые были в данном курсе."
   ]
  },
  {
   "cell_type": "markdown",
   "metadata": {},
   "source": [
    "## Обзор данных<a class=\"anchor\" id=\"course_project_review\"></a>\n",
    "**Описание датасета**\n",
    "\n",
    "* **Home Ownership** - домовладение\n",
    "* **Annual Income** - годовой доход\n",
    "* **Years in current job** - количество лет на текущем месте работы\n",
    "* **Tax Liens** - налоговые обременения\n",
    "* **Number of Open Accounts** - количество открытых счетов\n",
    "* **Years of Credit History** - количество лет кредитной истории\n",
    "* **Maximum Open Credit** - наибольший открытый кредит\n",
    "* **Number of Credit Problems** - количество проблем с кредитом\n",
    "* **Months since last delinquent** - количество месяцев с последней просрочки платежа\n",
    "* **Bankruptcies** - банкротства\n",
    "* **Purpose** - цель кредита\n",
    "* **Term** - срок кредита\n",
    "* **Current Loan Amount** - текущая сумма кредита\n",
    "* **Current Credit Balance** - текущий кредитный баланс\n",
    "* **Monthly Debt** - ежемесячный долг\n",
    "* **Credit Score** - кредитный рейтинг\n",
    "* **Credit Default** - факт невыполнения кредитных обязательств (0 - погашен вовремя, 1 - просрочка)"
   ]
  },
  {
   "cell_type": "code",
   "execution_count": 402,
   "metadata": {},
   "outputs": [],
   "source": [
    "import numpy as np\n",
    "import pandas as pd\n",
    "import scipy as sc\n",
    "import matplotlib.pyplot as plt\n",
    "import seaborn as sns\n",
    "import time\n",
    "import warnings\n",
    "from sklearn.model_selection import train_test_split\n",
    "\n",
    "from sklearn.linear_model import LinearRegression\n",
    "from sklearn.ensemble import RandomForestRegressor\n",
    "from sklearn.preprocessing import StandardScaler\n",
    "from sklearn.calibration import CalibratedClassifierCV\n",
    "\n",
    "%matplotlib inline\n",
    "warnings.filterwarnings('ignore')"
   ]
  },
  {
   "cell_type": "markdown",
   "metadata": {},
   "source": [
    "**Пути к директориям и файлам**"
   ]
  },
  {
   "cell_type": "code",
   "execution_count": 403,
   "metadata": {},
   "outputs": [],
   "source": [
    "TRAIN_DATASET_PATH = './kaggle/train.csv'\n",
    "TEST_DATASET_PATH = './kaggle/test.csv'"
   ]
  },
  {
   "cell_type": "code",
   "execution_count": 404,
   "metadata": {},
   "outputs": [],
   "source": [
    "tfull = pd.read_csv(TRAIN_DATASET_PATH)\n",
    "train_full = tfull.copy()"
   ]
  },
  {
   "cell_type": "code",
   "execution_count": 405,
   "metadata": {},
   "outputs": [],
   "source": [
    "# N = 5000\n",
    "# #train\n",
    "# train_full = tfull.iloc[:N,:].copy()\n",
    "# #test\n",
    "# test_full = tfull.iloc[N:,:-1].copy()\n",
    "# #key ans\n",
    "# test_full_ans = tfull.iloc[N:,-1].copy()\n",
    "\n",
    "# display(train_full.shape)\n",
    "# display(test_full.shape)"
   ]
  },
  {
   "cell_type": "code",
   "execution_count": 406,
   "metadata": {},
   "outputs": [],
   "source": [
    "TARGET_NAME = 'Credit Default'\n",
    "BASE_FEATURE_NAMES = train_full.columns.drop(TARGET_NAME).tolist()\n",
    "# TEST_BASE_FEATURE_NAMES = test_full.columns.tolist()\n",
    "NEW_FEATURE_NAMES = train_full.columns.drop([TARGET_NAME] + BASE_FEATURE_NAMES)"
   ]
  },
  {
   "cell_type": "code",
   "execution_count": 407,
   "metadata": {},
   "outputs": [
    {
     "data": {
      "text/html": [
       "<div>\n",
       "<style scoped>\n",
       "    .dataframe tbody tr th:only-of-type {\n",
       "        vertical-align: middle;\n",
       "    }\n",
       "\n",
       "    .dataframe tbody tr th {\n",
       "        vertical-align: top;\n",
       "    }\n",
       "\n",
       "    .dataframe thead th {\n",
       "        text-align: right;\n",
       "    }\n",
       "</style>\n",
       "<table border=\"1\" class=\"dataframe\">\n",
       "  <thead>\n",
       "    <tr style=\"text-align: right;\">\n",
       "      <th></th>\n",
       "      <th>count</th>\n",
       "      <th>mean</th>\n",
       "      <th>std</th>\n",
       "      <th>min</th>\n",
       "      <th>25%</th>\n",
       "      <th>50%</th>\n",
       "      <th>75%</th>\n",
       "      <th>max</th>\n",
       "    </tr>\n",
       "  </thead>\n",
       "  <tbody>\n",
       "    <tr>\n",
       "      <th>Id</th>\n",
       "      <td>7500.0</td>\n",
       "      <td>3.749500e+03</td>\n",
       "      <td>2.165208e+03</td>\n",
       "      <td>0.0</td>\n",
       "      <td>1874.75</td>\n",
       "      <td>3749.5</td>\n",
       "      <td>5624.25</td>\n",
       "      <td>7.499000e+03</td>\n",
       "    </tr>\n",
       "    <tr>\n",
       "      <th>Annual Income</th>\n",
       "      <td>5943.0</td>\n",
       "      <td>1.366392e+06</td>\n",
       "      <td>8.453392e+05</td>\n",
       "      <td>164597.0</td>\n",
       "      <td>844341.00</td>\n",
       "      <td>1168386.0</td>\n",
       "      <td>1640137.00</td>\n",
       "      <td>1.014934e+07</td>\n",
       "    </tr>\n",
       "    <tr>\n",
       "      <th>Tax Liens</th>\n",
       "      <td>7500.0</td>\n",
       "      <td>3.013333e-02</td>\n",
       "      <td>2.716035e-01</td>\n",
       "      <td>0.0</td>\n",
       "      <td>0.00</td>\n",
       "      <td>0.0</td>\n",
       "      <td>0.00</td>\n",
       "      <td>7.000000e+00</td>\n",
       "    </tr>\n",
       "    <tr>\n",
       "      <th>Number of Open Accounts</th>\n",
       "      <td>7500.0</td>\n",
       "      <td>1.113093e+01</td>\n",
       "      <td>4.908924e+00</td>\n",
       "      <td>2.0</td>\n",
       "      <td>8.00</td>\n",
       "      <td>10.0</td>\n",
       "      <td>14.00</td>\n",
       "      <td>4.300000e+01</td>\n",
       "    </tr>\n",
       "    <tr>\n",
       "      <th>Years of Credit History</th>\n",
       "      <td>7500.0</td>\n",
       "      <td>1.831747e+01</td>\n",
       "      <td>7.041946e+00</td>\n",
       "      <td>4.0</td>\n",
       "      <td>13.50</td>\n",
       "      <td>17.0</td>\n",
       "      <td>21.80</td>\n",
       "      <td>5.770000e+01</td>\n",
       "    </tr>\n",
       "    <tr>\n",
       "      <th>Maximum Open Credit</th>\n",
       "      <td>7500.0</td>\n",
       "      <td>9.451537e+05</td>\n",
       "      <td>1.602622e+07</td>\n",
       "      <td>0.0</td>\n",
       "      <td>279229.50</td>\n",
       "      <td>478159.0</td>\n",
       "      <td>793501.50</td>\n",
       "      <td>1.304726e+09</td>\n",
       "    </tr>\n",
       "    <tr>\n",
       "      <th>Number of Credit Problems</th>\n",
       "      <td>7500.0</td>\n",
       "      <td>1.700000e-01</td>\n",
       "      <td>4.985978e-01</td>\n",
       "      <td>0.0</td>\n",
       "      <td>0.00</td>\n",
       "      <td>0.0</td>\n",
       "      <td>0.00</td>\n",
       "      <td>7.000000e+00</td>\n",
       "    </tr>\n",
       "    <tr>\n",
       "      <th>Months since last delinquent</th>\n",
       "      <td>3419.0</td>\n",
       "      <td>3.469260e+01</td>\n",
       "      <td>2.168881e+01</td>\n",
       "      <td>0.0</td>\n",
       "      <td>16.00</td>\n",
       "      <td>32.0</td>\n",
       "      <td>50.00</td>\n",
       "      <td>1.180000e+02</td>\n",
       "    </tr>\n",
       "    <tr>\n",
       "      <th>Bankruptcies</th>\n",
       "      <td>7486.0</td>\n",
       "      <td>1.171520e-01</td>\n",
       "      <td>3.471917e-01</td>\n",
       "      <td>0.0</td>\n",
       "      <td>0.00</td>\n",
       "      <td>0.0</td>\n",
       "      <td>0.00</td>\n",
       "      <td>4.000000e+00</td>\n",
       "    </tr>\n",
       "    <tr>\n",
       "      <th>Current Loan Amount</th>\n",
       "      <td>7500.0</td>\n",
       "      <td>1.187318e+07</td>\n",
       "      <td>3.192612e+07</td>\n",
       "      <td>11242.0</td>\n",
       "      <td>180169.00</td>\n",
       "      <td>309573.0</td>\n",
       "      <td>519882.00</td>\n",
       "      <td>1.000000e+08</td>\n",
       "    </tr>\n",
       "    <tr>\n",
       "      <th>Current Credit Balance</th>\n",
       "      <td>7500.0</td>\n",
       "      <td>2.898332e+05</td>\n",
       "      <td>3.178714e+05</td>\n",
       "      <td>0.0</td>\n",
       "      <td>114256.50</td>\n",
       "      <td>209323.0</td>\n",
       "      <td>360406.25</td>\n",
       "      <td>6.506797e+06</td>\n",
       "    </tr>\n",
       "    <tr>\n",
       "      <th>Monthly Debt</th>\n",
       "      <td>7500.0</td>\n",
       "      <td>1.831445e+04</td>\n",
       "      <td>1.192676e+04</td>\n",
       "      <td>0.0</td>\n",
       "      <td>10067.50</td>\n",
       "      <td>16076.5</td>\n",
       "      <td>23818.00</td>\n",
       "      <td>1.366790e+05</td>\n",
       "    </tr>\n",
       "    <tr>\n",
       "      <th>Credit Score</th>\n",
       "      <td>5943.0</td>\n",
       "      <td>1.151087e+03</td>\n",
       "      <td>1.604451e+03</td>\n",
       "      <td>585.0</td>\n",
       "      <td>711.00</td>\n",
       "      <td>731.0</td>\n",
       "      <td>743.00</td>\n",
       "      <td>7.510000e+03</td>\n",
       "    </tr>\n",
       "    <tr>\n",
       "      <th>Credit Default</th>\n",
       "      <td>7500.0</td>\n",
       "      <td>2.817333e-01</td>\n",
       "      <td>4.498740e-01</td>\n",
       "      <td>0.0</td>\n",
       "      <td>0.00</td>\n",
       "      <td>0.0</td>\n",
       "      <td>1.00</td>\n",
       "      <td>1.000000e+00</td>\n",
       "    </tr>\n",
       "  </tbody>\n",
       "</table>\n",
       "</div>"
      ],
      "text/plain": [
       "                               count          mean           std       min  \\\n",
       "Id                            7500.0  3.749500e+03  2.165208e+03       0.0   \n",
       "Annual Income                 5943.0  1.366392e+06  8.453392e+05  164597.0   \n",
       "Tax Liens                     7500.0  3.013333e-02  2.716035e-01       0.0   \n",
       "Number of Open Accounts       7500.0  1.113093e+01  4.908924e+00       2.0   \n",
       "Years of Credit History       7500.0  1.831747e+01  7.041946e+00       4.0   \n",
       "Maximum Open Credit           7500.0  9.451537e+05  1.602622e+07       0.0   \n",
       "Number of Credit Problems     7500.0  1.700000e-01  4.985978e-01       0.0   \n",
       "Months since last delinquent  3419.0  3.469260e+01  2.168881e+01       0.0   \n",
       "Bankruptcies                  7486.0  1.171520e-01  3.471917e-01       0.0   \n",
       "Current Loan Amount           7500.0  1.187318e+07  3.192612e+07   11242.0   \n",
       "Current Credit Balance        7500.0  2.898332e+05  3.178714e+05       0.0   \n",
       "Monthly Debt                  7500.0  1.831445e+04  1.192676e+04       0.0   \n",
       "Credit Score                  5943.0  1.151087e+03  1.604451e+03     585.0   \n",
       "Credit Default                7500.0  2.817333e-01  4.498740e-01       0.0   \n",
       "\n",
       "                                    25%        50%         75%           max  \n",
       "Id                              1874.75     3749.5     5624.25  7.499000e+03  \n",
       "Annual Income                 844341.00  1168386.0  1640137.00  1.014934e+07  \n",
       "Tax Liens                          0.00        0.0        0.00  7.000000e+00  \n",
       "Number of Open Accounts            8.00       10.0       14.00  4.300000e+01  \n",
       "Years of Credit History           13.50       17.0       21.80  5.770000e+01  \n",
       "Maximum Open Credit           279229.50   478159.0   793501.50  1.304726e+09  \n",
       "Number of Credit Problems          0.00        0.0        0.00  7.000000e+00  \n",
       "Months since last delinquent      16.00       32.0       50.00  1.180000e+02  \n",
       "Bankruptcies                       0.00        0.0        0.00  4.000000e+00  \n",
       "Current Loan Amount           180169.00   309573.0   519882.00  1.000000e+08  \n",
       "Current Credit Balance        114256.50   209323.0   360406.25  6.506797e+06  \n",
       "Monthly Debt                   10067.50    16076.5    23818.00  1.366790e+05  \n",
       "Credit Score                     711.00      731.0      743.00  7.510000e+03  \n",
       "Credit Default                     0.00        0.0        1.00  1.000000e+00  "
      ]
     },
     "execution_count": 407,
     "metadata": {},
     "output_type": "execute_result"
    }
   ],
   "source": [
    "train_full.describe().T"
   ]
  },
  {
   "cell_type": "code",
   "execution_count": 408,
   "metadata": {
    "scrolled": true
   },
   "outputs": [
    {
     "name": "stdout",
     "output_type": "stream",
     "text": [
      "<class 'pandas.core.frame.DataFrame'>\n",
      "RangeIndex: 7500 entries, 0 to 7499\n",
      "Data columns (total 18 columns):\n",
      " #   Column                        Non-Null Count  Dtype  \n",
      "---  ------                        --------------  -----  \n",
      " 0   Id                            7500 non-null   int64  \n",
      " 1   Home Ownership                7500 non-null   object \n",
      " 2   Annual Income                 5943 non-null   float64\n",
      " 3   Years in current job          7129 non-null   object \n",
      " 4   Tax Liens                     7500 non-null   float64\n",
      " 5   Number of Open Accounts       7500 non-null   float64\n",
      " 6   Years of Credit History       7500 non-null   float64\n",
      " 7   Maximum Open Credit           7500 non-null   float64\n",
      " 8   Number of Credit Problems     7500 non-null   float64\n",
      " 9   Months since last delinquent  3419 non-null   float64\n",
      " 10  Bankruptcies                  7486 non-null   float64\n",
      " 11  Purpose                       7500 non-null   object \n",
      " 12  Term                          7500 non-null   object \n",
      " 13  Current Loan Amount           7500 non-null   float64\n",
      " 14  Current Credit Balance        7500 non-null   float64\n",
      " 15  Monthly Debt                  7500 non-null   float64\n",
      " 16  Credit Score                  5943 non-null   float64\n",
      " 17  Credit Default                7500 non-null   int64  \n",
      "dtypes: float64(12), int64(2), object(4)\n",
      "memory usage: 1.0+ MB\n"
     ]
    }
   ],
   "source": [
    "train_full.info()"
   ]
  },
  {
   "cell_type": "markdown",
   "metadata": {},
   "source": [
    "### Проверка значений базовых признаков\n",
    "Функция _check_feature_values(df)_ выводит информацию о типе данных признака, количество пропусков, уникальные значения, определяет возможность преобразования float &#8594; int"
   ]
  },
  {
   "cell_type": "code",
   "execution_count": 409,
   "metadata": {},
   "outputs": [],
   "source": [
    "def check_feature_values(df):\n",
    "    FEATURE_NAMES = BASE_FEATURE_NAMES\n",
    "    dataset_size = df.index.size\n",
    "    features_to_int = []\n",
    "    features_with_nans = {}\n",
    "    features_binary = []\n",
    "    features_dummies = []\n",
    "    for feature in FEATURE_NAMES:\n",
    "        non_nan_count = df[feature].count()\n",
    "        unique_values = df[feature].unique()\n",
    "        if len(unique_values) > 20:\n",
    "            unique_values_str = str(unique_values[:5]) + ' ... ' + str(unique_values[len(unique_values) - 5:])\n",
    "        else:\n",
    "            unique_values_str = str(unique_values)\n",
    "        print(f\"\\033[1m{feature}\\033[0m\")\n",
    "        print(f\"\\t\\033[1mUnique values:\\033[0m\\n\\t{unique_values_str}\")\n",
    "        print(f\"\\t\\033[1mFeature not NaN size:\\033[0m {non_nan_count}\")\n",
    "        print(f\"\\t\\033[1mType of values:\\033[0m {df.dtypes[feature]}\")\n",
    "        if non_nan_count == dataset_size:\n",
    "            print(f\"\\033[95mПропусков нет\\033[0m\")\n",
    "        elif non_nan_count / dataset_size > 0.9:\n",
    "            print(f\"\\033[95mНемного пропусков\\033[0m {dataset_size - non_nan_count}\")\n",
    "        else:\n",
    "            print(f\"\\033[95mМного пропусков\\033[0m {dataset_size - non_nan_count}\")\n",
    "\n",
    "        # Проверка float-значений на целые.\n",
    "        # Если тип float, но при этом дробные части всех элементов равны 0, можно преобразовать в int\n",
    "        int_flag = True\n",
    "\n",
    "        if df.dtypes[feature] == np.float64 and dataset_size == non_nan_count:\n",
    "            for i in df[feature]:\n",
    "                try:      \n",
    "                    if not pd.isna(i) and i != int(i):\n",
    "                        int_flag = False\n",
    "                        break\n",
    "                except:\n",
    "                    int_flag = False\n",
    "        else:\n",
    "            int_flag = False\n",
    "        if int_flag:\n",
    "            print(f\"\\033[92mПреобразовать в INT\\033[0m\")\n",
    "            features_to_int.append(feature)\n",
    "\n",
    "        # Формирование словаря признаков с пропусками\n",
    "        if dataset_size != non_nan_count:\n",
    "            features_with_nans[feature] = dataset_size - non_nan_count\n",
    "\n",
    "        # Если признак состоит из 2 значений типа object, можно заменить их на 0 и 1\n",
    "        if df.dtypes[feature] == np.object and len(unique_values) == 2:\n",
    "            features_binary.append(feature)\n",
    "            print(f\"\\033[94mПреобразовать значения категориального признака {feature} в 0 и 1\\033[0m\")\n",
    "        if df.dtypes[feature] == np.object and len(unique_values) > 2:\n",
    "            features_dummies.append(feature)\n",
    "        print('*' * 50)\n",
    "    return features_with_nans, features_to_int, features_binary, features_dummies"
   ]
  },
  {
   "cell_type": "code",
   "execution_count": 410,
   "metadata": {},
   "outputs": [
    {
     "name": "stdout",
     "output_type": "stream",
     "text": [
      "\u001b[1mId\u001b[0m\n",
      "\t\u001b[1mUnique values:\u001b[0m\n",
      "\t[0 1 2 3 4] ... [7495 7496 7497 7498 7499]\n",
      "\t\u001b[1mFeature not NaN size:\u001b[0m 7500\n",
      "\t\u001b[1mType of values:\u001b[0m int64\n",
      "\u001b[95mПропусков нет\u001b[0m\n",
      "**************************************************\n",
      "\u001b[1mHome Ownership\u001b[0m\n",
      "\t\u001b[1mUnique values:\u001b[0m\n",
      "\t['Own Home' 'Home Mortgage' 'Rent' 'Have Mortgage']\n",
      "\t\u001b[1mFeature not NaN size:\u001b[0m 7500\n",
      "\t\u001b[1mType of values:\u001b[0m object\n",
      "\u001b[95mПропусков нет\u001b[0m\n",
      "**************************************************\n",
      "\u001b[1mAnnual Income\u001b[0m\n",
      "\t\u001b[1mUnique values:\u001b[0m\n",
      "\t[ 482087. 1025487.  751412.  805068.  776264.] ... [5327372. 1368000. 2833185. 1257610.  402192.]\n",
      "\t\u001b[1mFeature not NaN size:\u001b[0m 5943\n",
      "\t\u001b[1mType of values:\u001b[0m float64\n",
      "\u001b[95mМного пропусков\u001b[0m 1557\n",
      "**************************************************\n",
      "\u001b[1mYears in current job\u001b[0m\n",
      "\t\u001b[1mUnique values:\u001b[0m\n",
      "\t[nan '10+ years' '8 years' '6 years' '7 years' '5 years' '1 year'\n",
      " '< 1 year' '4 years' '3 years' '2 years' '9 years']\n",
      "\t\u001b[1mFeature not NaN size:\u001b[0m 7129\n",
      "\t\u001b[1mType of values:\u001b[0m object\n",
      "\u001b[95mНемного пропусков\u001b[0m 371\n",
      "**************************************************\n",
      "\u001b[1mTax Liens\u001b[0m\n",
      "\t\u001b[1mUnique values:\u001b[0m\n",
      "\t[0. 3. 1. 2. 4. 6. 5. 7.]\n",
      "\t\u001b[1mFeature not NaN size:\u001b[0m 7500\n",
      "\t\u001b[1mType of values:\u001b[0m float64\n",
      "\u001b[95mПропусков нет\u001b[0m\n",
      "\u001b[92mПреобразовать в INT\u001b[0m\n",
      "**************************************************\n",
      "\u001b[1mNumber of Open Accounts\u001b[0m\n",
      "\t\u001b[1mUnique values:\u001b[0m\n",
      "\t[11. 15.  8. 13. 12.] ... [34. 38. 35. 37. 42.]\n",
      "\t\u001b[1mFeature not NaN size:\u001b[0m 7500\n",
      "\t\u001b[1mType of values:\u001b[0m float64\n",
      "\u001b[95mПропусков нет\u001b[0m\n",
      "\u001b[92mПреобразовать в INT\u001b[0m\n",
      "**************************************************\n",
      "\u001b[1mYears of Credit History\u001b[0m\n",
      "\t\u001b[1mUnique values:\u001b[0m\n",
      "\t[26.3 15.3 35.  22.5 13.6] ... [38.9 42.  51.  34.7 48.3]\n",
      "\t\u001b[1mFeature not NaN size:\u001b[0m 7500\n",
      "\t\u001b[1mType of values:\u001b[0m float64\n",
      "\u001b[95mПропусков нет\u001b[0m\n",
      "**************************************************\n",
      "\u001b[1mMaximum Open Credit\u001b[0m\n",
      "\t\u001b[1mUnique values:\u001b[0m\n",
      "\t[ 685960. 1181730. 1182434.  147400.  385836.] ... [ 107866.  686312. 1778920. 1141250.  480832.]\n",
      "\t\u001b[1mFeature not NaN size:\u001b[0m 7500\n",
      "\t\u001b[1mType of values:\u001b[0m float64\n",
      "\u001b[95mПропусков нет\u001b[0m\n",
      "\u001b[92mПреобразовать в INT\u001b[0m\n",
      "**************************************************\n",
      "\u001b[1mNumber of Credit Problems\u001b[0m\n",
      "\t\u001b[1mUnique values:\u001b[0m\n",
      "\t[1. 0. 3. 2. 6. 4. 5. 7.]\n",
      "\t\u001b[1mFeature not NaN size:\u001b[0m 7500\n",
      "\t\u001b[1mType of values:\u001b[0m float64\n",
      "\u001b[95mПропусков нет\u001b[0m\n",
      "\u001b[92mПреобразовать в INT\u001b[0m\n",
      "**************************************************\n",
      "\u001b[1mMonths since last delinquent\u001b[0m\n",
      "\t\u001b[1mUnique values:\u001b[0m\n",
      "\t[nan 73. 18.  6. 40.] ... [ 83. 118.  84.  91.  92.]\n",
      "\t\u001b[1mFeature not NaN size:\u001b[0m 3419\n",
      "\t\u001b[1mType of values:\u001b[0m float64\n",
      "\u001b[95mМного пропусков\u001b[0m 4081\n",
      "**************************************************\n",
      "\u001b[1mBankruptcies\u001b[0m\n",
      "\t\u001b[1mUnique values:\u001b[0m\n",
      "\t[ 1.  0.  3. nan  2.  4.]\n",
      "\t\u001b[1mFeature not NaN size:\u001b[0m 7486\n",
      "\t\u001b[1mType of values:\u001b[0m float64\n",
      "\u001b[95mНемного пропусков\u001b[0m 14\n",
      "**************************************************\n",
      "\u001b[1mPurpose\u001b[0m\n",
      "\t\u001b[1mUnique values:\u001b[0m\n",
      "\t['debt consolidation' 'other' 'home improvements' 'take a trip'\n",
      " 'buy a car' 'small business' 'business loan' 'wedding'\n",
      " 'educational expenses' 'buy house' 'medical bills' 'moving'\n",
      " 'major purchase' 'vacation' 'renewable energy']\n",
      "\t\u001b[1mFeature not NaN size:\u001b[0m 7500\n",
      "\t\u001b[1mType of values:\u001b[0m object\n",
      "\u001b[95mПропусков нет\u001b[0m\n",
      "**************************************************\n",
      "\u001b[1mTerm\u001b[0m\n",
      "\t\u001b[1mUnique values:\u001b[0m\n",
      "\t['Short Term' 'Long Term']\n",
      "\t\u001b[1mFeature not NaN size:\u001b[0m 7500\n",
      "\t\u001b[1mType of values:\u001b[0m object\n",
      "\u001b[95mПропусков нет\u001b[0m\n",
      "\u001b[94mПреобразовать значения категориального признака Term в 0 и 1\u001b[0m\n",
      "**************************************************\n",
      "\u001b[1mCurrent Loan Amount\u001b[0m\n",
      "\t\u001b[1mUnique values:\u001b[0m\n",
      "\t[99999999.   264968.   121396.   125840.   337304.] ... [448052. 290400. 444048. 615274.  26928.]\n",
      "\t\u001b[1mFeature not NaN size:\u001b[0m 7500\n",
      "\t\u001b[1mType of values:\u001b[0m float64\n",
      "\u001b[95mПропусков нет\u001b[0m\n",
      "\u001b[92mПреобразовать в INT\u001b[0m\n",
      "**************************************************\n",
      "\u001b[1mCurrent Credit Balance\u001b[0m\n",
      "\t\u001b[1mUnique values:\u001b[0m\n",
      "\t[ 47386. 394972. 308389.  95855.  93309.] ... [ 73492. 456399. 477812. 476064. 288192.]\n",
      "\t\u001b[1mFeature not NaN size:\u001b[0m 7500\n",
      "\t\u001b[1mType of values:\u001b[0m float64\n",
      "\u001b[95mПропусков нет\u001b[0m\n",
      "\u001b[92mПреобразовать в INT\u001b[0m\n",
      "**************************************************\n",
      "\u001b[1mMonthly Debt\u001b[0m\n",
      "\t\u001b[1mUnique values:\u001b[0m\n",
      "\t[ 7914. 18373. 13651. 11338.  7180.] ... [ 1900. 12783. 12479. 37118.  9061.]\n",
      "\t\u001b[1mFeature not NaN size:\u001b[0m 7500\n",
      "\t\u001b[1mType of values:\u001b[0m float64\n",
      "\u001b[95mПропусков нет\u001b[0m\n",
      "\u001b[92mПреобразовать в INT\u001b[0m\n",
      "**************************************************\n",
      "\u001b[1mCredit Score\u001b[0m\n",
      "\t\u001b[1mUnique values:\u001b[0m\n",
      "\t[749. 737. 742. 694. 719.] ... [6750. 6880. 6770. 6410. 6060.]\n",
      "\t\u001b[1mFeature not NaN size:\u001b[0m 5943\n",
      "\t\u001b[1mType of values:\u001b[0m float64\n",
      "\u001b[95mМного пропусков\u001b[0m 1557\n",
      "**************************************************\n"
     ]
    }
   ],
   "source": [
    "# Тренировочный датасет\n",
    "train_pass_features, train_features_to_int, train_features_binary, train_features_dummies = check_feature_values(train_full)"
   ]
  },
  {
   "cell_type": "markdown",
   "metadata": {},
   "source": [
    "### Обзор целевого признака"
   ]
  },
  {
   "cell_type": "code",
   "execution_count": 411,
   "metadata": {},
   "outputs": [
    {
     "data": {
      "text/plain": [
       "0    5387\n",
       "1    2113\n",
       "Name: Credit Default, dtype: int64"
      ]
     },
     "execution_count": 411,
     "metadata": {},
     "output_type": "execute_result"
    }
   ],
   "source": [
    "train_full[TARGET_NAME].value_counts()"
   ]
  },
  {
   "cell_type": "markdown",
   "metadata": {},
   "source": [
    "Данные разбалансированы"
   ]
  },
  {
   "cell_type": "markdown",
   "metadata": {},
   "source": [
    "## Преобразование признаков"
   ]
  },
  {
   "cell_type": "markdown",
   "metadata": {},
   "source": [
    "### Изменение типа признаков на int"
   ]
  },
  {
   "cell_type": "markdown",
   "metadata": {},
   "source": [
    "Функция *f_features_to_int* преобразует признаки из списка features_to_int к типу int:"
   ]
  },
  {
   "cell_type": "code",
   "execution_count": 412,
   "metadata": {
    "scrolled": true
   },
   "outputs": [],
   "source": [
    "def f_features_to_int(df, df_name, features_to_int):\n",
    "    print(f\"\\tПреобразование типа признаков для датасета \\033[1m{df_name}\\033[0m:\")\n",
    "    for feature in features_to_int:\n",
    "        try:\n",
    "            df[feature] = df[feature].astype(int)\n",
    "            print(f\"Значения признака \\033[1m{feature}\\033[0m преобразованы в int\")\n",
    "        except:\n",
    "            print(f\"Проблема с признаком {feature}:\\n {i}\")"
   ]
  },
  {
   "cell_type": "code",
   "execution_count": 413,
   "metadata": {},
   "outputs": [
    {
     "name": "stdout",
     "output_type": "stream",
     "text": [
      "\tПреобразование типа признаков для датасета \u001b[1mtrain_full\u001b[0m:\n",
      "Значения признака \u001b[1mTax Liens\u001b[0m преобразованы в int\n",
      "Значения признака \u001b[1mNumber of Open Accounts\u001b[0m преобразованы в int\n",
      "Значения признака \u001b[1mMaximum Open Credit\u001b[0m преобразованы в int\n",
      "Значения признака \u001b[1mNumber of Credit Problems\u001b[0m преобразованы в int\n",
      "Значения признака \u001b[1mCurrent Loan Amount\u001b[0m преобразованы в int\n",
      "Значения признака \u001b[1mCurrent Credit Balance\u001b[0m преобразованы в int\n",
      "Значения признака \u001b[1mMonthly Debt\u001b[0m преобразованы в int\n"
     ]
    }
   ],
   "source": [
    "f_features_to_int(train_full, 'train_full', train_features_to_int)"
   ]
  },
  {
   "cell_type": "markdown",
   "metadata": {},
   "source": [
    "### Изменение значений признаков"
   ]
  },
  {
   "cell_type": "markdown",
   "metadata": {},
   "source": [
    "#### Признак \"Years in current job\" "
   ]
  },
  {
   "cell_type": "markdown",
   "metadata": {},
   "source": [
    "Признак \"Years in current job\" обладает числовыми значениями, но в каждом значении присутствует слово \"year(s)\". Предлагается оставить только числовые значения. Строки со значениями \"10+ years\" и  \"< 1 year\" преобразовать в 10 и 0"
   ]
  },
  {
   "cell_type": "markdown",
   "metadata": {},
   "source": [
    "Функция _replace_year_to_num_ преобразовывает категориальные значения признака \"Years in current job\" в числовые int:"
   ]
  },
  {
   "cell_type": "code",
   "execution_count": 414,
   "metadata": {},
   "outputs": [],
   "source": [
    "def replace_year_to_num(df):\n",
    "    df.replace({'Years in current job': {\n",
    "    '< 1 year': 0,\n",
    "    '1 year': 1,\n",
    "    '2 years': 2, \n",
    "    '3 years': 3,\n",
    "    '4 years': 4,\n",
    "    '5 years': 5,\n",
    "    '6 years': 6,\n",
    "    '7 years': 7,\n",
    "    '8 years': 8,\n",
    "    '9 years': 9,\n",
    "    '10+ years': 10      \n",
    "}}, inplace=True)"
   ]
  },
  {
   "cell_type": "markdown",
   "metadata": {},
   "source": [
    "Преобразование признака \"Years in current job\" для обоих датасетов:"
   ]
  },
  {
   "cell_type": "code",
   "execution_count": 415,
   "metadata": {},
   "outputs": [],
   "source": [
    "replace_year_to_num(train_full)"
   ]
  },
  {
   "cell_type": "markdown",
   "metadata": {},
   "source": [
    "### Проверка выбросов"
   ]
  },
  {
   "cell_type": "markdown",
   "metadata": {},
   "source": [
    "**Функция _plot_outliers_ распечатывает 3 графика для каждого признака:**\n",
    " - ЯОП (KDE) обоих датасетов\n",
    " - Ящик с усами (BoxPlot) тренировачного датасета\n",
    " - Ящик с усами (BoxPlot) тестового датасета"
   ]
  },
  {
   "cell_type": "code",
   "execution_count": 416,
   "metadata": {},
   "outputs": [],
   "source": [
    "def plot_outliers(df_tr, col_n):\n",
    "# def plot_outliers(df_tr, df_te, col_n):\n",
    "#     fig, ax = plt.subplots(1, 2, figsize=(16,5))\n",
    "#     ax[0].set_title(f'KDE for both datasets on {col_n}')\n",
    "#     plt.set_title('Train Dataset')\n",
    "#     ax[2].set_title('Test Dataset')\n",
    "#     df_tr[col_n].plot.kde(color='#628cbf', ax=ax[0])\n",
    "#     df_te[col_n].plot.kde(color='#c95556', ax=ax[0])\n",
    "    sns.boxplot(data=df_tr, x=col_name, color='#628cbf')\n",
    "#     sns.boxplot(data=df_te, x=col_name, color='#c95556', ax=ax[2])\n",
    "    plt.show()"
   ]
  },
  {
   "cell_type": "code",
   "execution_count": 417,
   "metadata": {},
   "outputs": [],
   "source": [
    "cont_cols = [\n",
    "    'Annual Income',\n",
    "    'Years in current job',\n",
    "    'Tax Liens',\n",
    "    'Number of Open Accounts',\n",
    "    'Years of Credit History',\n",
    "    'Maximum Open Credit',\n",
    "    'Number of Credit Problems',\n",
    "    'Months since last delinquent',\n",
    "    'Current Loan Amount',\n",
    "    'Current Credit Balance',\n",
    "    'Credit Score']\n",
    "\n",
    "cat_cols =['Home Ownership',\n",
    "           'Bankruptcies',\n",
    "           'Purpose',\n",
    "           'Term']\n",
    "\n",
    "TARGET = ['Credit Default']\n",
    "\n",
    "# for col_name in cont_cols:\n",
    "#     plot_outliers(train_full, col_name)\n",
    "    \n",
    "#     plot_outliers(train_full, test_full, col_name)"
   ]
  },
  {
   "cell_type": "markdown",
   "metadata": {},
   "source": [
    "#### Выводы из визуального анализа:\n",
    "* В целом графики KDE похожи\n",
    "* Возможно есть выбросы сверху, особо заметные из них:\n",
    "    * В признаке **'Current Loan Amount'** есть много одинаковых больших значений\n",
    "    * В признаке **'Credit Score'** есть много одинаковых больших значений\n",
    "    \n",
    "Рассмотрим каждый из пунктов по отдельности"
   ]
  },
  {
   "cell_type": "markdown",
   "metadata": {},
   "source": [
    "### Обработка выбросов<a class=\"anchor\" id=\"outliers\"></a>"
   ]
  },
  {
   "cell_type": "markdown",
   "metadata": {},
   "source": [
    "#### Признак \"Current Loan Amount\""
   ]
  },
  {
   "cell_type": "code",
   "execution_count": 418,
   "metadata": {},
   "outputs": [
    {
     "name": "stdout",
     "output_type": "stream",
     "text": [
      "(870, 18)\n"
     ]
    }
   ],
   "source": [
    "print(train_full.loc[(train_full[\"Current Loan Amount\"] == 99999999), :].shape)"
   ]
  },
  {
   "cell_type": "markdown",
   "metadata": {},
   "source": [
    "Данный признак имеет много значений 99999999, скорее всего это выброс (ближайшее значение меньше 800000). Заменим эти значения медианными"
   ]
  },
  {
   "cell_type": "code",
   "execution_count": 419,
   "metadata": {},
   "outputs": [],
   "source": [
    "train_full.loc[train_full['Current Loan Amount'] == 99999999, 'Current Loan Amount'] = train_full['Current Loan Amount'].median()"
   ]
  },
  {
   "cell_type": "markdown",
   "metadata": {},
   "source": [
    "Проверим результат замены:"
   ]
  },
  {
   "cell_type": "code",
   "execution_count": 420,
   "metadata": {
    "scrolled": true
   },
   "outputs": [
    {
     "name": "stdout",
     "output_type": "stream",
     "text": [
      "(0, 18)\n"
     ]
    }
   ],
   "source": [
    "print(train_full.loc[(train_full[\"Current Loan Amount\"] == 99999999), :].shape)"
   ]
  },
  {
   "cell_type": "markdown",
   "metadata": {},
   "source": [
    "#### Признак \"Credit Score\""
   ]
  },
  {
   "cell_type": "code",
   "execution_count": 421,
   "metadata": {},
   "outputs": [
    {
     "name": "stdout",
     "output_type": "stream",
     "text": [
      "(400,)\n"
     ]
    }
   ],
   "source": [
    "print(train_full.loc[(train_full[\"Credit Score\"] > 850 ), \"Credit Score\"].shape)"
   ]
  },
  {
   "cell_type": "markdown",
   "metadata": {},
   "source": [
    "Данный признак имеет много значений больше 850 (850 - максимальный кредитный рейтинг по всем найденным шкалам). Все такие значения больше 6000, скорее всего это выброс. Проверим эти значения:"
   ]
  },
  {
   "cell_type": "code",
   "execution_count": 422,
   "metadata": {},
   "outputs": [
    {
     "data": {
      "text/plain": [
       "69     6470.0\n",
       "87     7440.0\n",
       "94     7010.0\n",
       "96     7320.0\n",
       "116    7390.0\n",
       "Name: Credit Score, dtype: float64"
      ]
     },
     "execution_count": 422,
     "metadata": {},
     "output_type": "execute_result"
    }
   ],
   "source": [
    "train_full.loc[(train_full[\"Credit Score\"] > 6000 ), \"Credit Score\"].head()"
   ]
  },
  {
   "cell_type": "markdown",
   "metadata": {},
   "source": [
    "Замечено, что многие значения оканчиваются на 0. Возможно он лишний, проверим все выбросные значения.\n",
    "Функция _check_credit_score_outliers_ проверяет значения выбросов, б**о**льших 850. Предполагается, что в эти значения дописан лишний 0:"
   ]
  },
  {
   "cell_type": "code",
   "execution_count": 423,
   "metadata": {},
   "outputs": [],
   "source": [
    "def check_credit_score_outliers(df):\n",
    "    x = []\n",
    "    for i in df.loc[(df[\"Credit Score\"] > 850 ), \"Credit Score\"]:\n",
    "        if i % 10 != 0:\n",
    "            x.append(i)\n",
    "    print(len(x))"
   ]
  },
  {
   "cell_type": "code",
   "execution_count": 424,
   "metadata": {},
   "outputs": [
    {
     "name": "stdout",
     "output_type": "stream",
     "text": [
      "0\n"
     ]
    }
   ],
   "source": [
    "check_credit_score_outliers(train_full)"
   ]
  },
  {
   "cell_type": "markdown",
   "metadata": {},
   "source": [
    " Таким образом, все выбросные значения оканчиваются на 0. Поделим все эти значения на 10:"
   ]
  },
  {
   "cell_type": "code",
   "execution_count": 425,
   "metadata": {},
   "outputs": [],
   "source": [
    "train_full.loc[train_full['Credit Score'] > 850, 'Credit Score'] = train_full.loc[train_full['Credit Score'] > 850, 'Credit Score'] / 10"
   ]
  },
  {
   "cell_type": "code",
   "execution_count": 426,
   "metadata": {},
   "outputs": [
    {
     "data": {
      "text/plain": [
       "0"
      ]
     },
     "execution_count": 426,
     "metadata": {},
     "output_type": "execute_result"
    }
   ],
   "source": [
    "train_full.loc[(train_full[\"Credit Score\"] > 850 ), \"Credit Score\"].count()"
   ]
  },
  {
   "cell_type": "markdown",
   "metadata": {},
   "source": [
    "#### Остальные признаки"
   ]
  },
  {
   "cell_type": "code",
   "execution_count": 427,
   "metadata": {},
   "outputs": [],
   "source": [
    "from collections import Counter\n",
    "def check_outliers(df, n, features):\n",
    "    outlier_idxs = [] \n",
    "    for col in features:\n",
    "        # 25%\n",
    "        q1 = np.percentile(df[col], 25)\n",
    "        # 75%\n",
    "        q3 = np.percentile(df[col], 75)\n",
    "        # IQR\n",
    "        outlier_step = 1.5 * (q3 - q1)\n",
    "        \n",
    "        # Определение индексов с отклонениями\n",
    "        outlier_list_col = df[(df[col] < q1 - outlier_step) | (df[col] > q3 + outlier_step )].index\n",
    "        \n",
    "        # Добавить найденные индексы в общий список\n",
    "        outlier_idxs.extend(outlier_list_col)\n",
    "        \n",
    "    # Выбрать наблюдения, содержащие более n отклонений\n",
    "    outlier_idxs = Counter(outlier_idxs)        \n",
    "    multiple_outliers = [k for k, v in outlier_idxs.items() if v > n]\n",
    "    \n",
    "    return multiple_outliers"
   ]
  },
  {
   "cell_type": "code",
   "execution_count": 428,
   "metadata": {},
   "outputs": [],
   "source": [
    "outliers_to_drop = check_outliers(train_full, 2, cont_cols)"
   ]
  },
  {
   "cell_type": "code",
   "execution_count": 429,
   "metadata": {},
   "outputs": [
    {
     "data": {
      "text/plain": [
       "110"
      ]
     },
     "execution_count": 429,
     "metadata": {},
     "output_type": "execute_result"
    }
   ],
   "source": [
    "len(outliers_to_drop)"
   ]
  },
  {
   "cell_type": "markdown",
   "metadata": {},
   "source": [
    "Удаление выбросных строк:"
   ]
  },
  {
   "cell_type": "code",
   "execution_count": 430,
   "metadata": {},
   "outputs": [],
   "source": [
    "train_full = train_full.drop(outliers_to_drop, axis=0).reset_index(drop=True)"
   ]
  },
  {
   "cell_type": "code",
   "execution_count": 431,
   "metadata": {},
   "outputs": [
    {
     "name": "stdout",
     "output_type": "stream",
     "text": [
      "<class 'pandas.core.frame.DataFrame'>\n",
      "RangeIndex: 7390 entries, 0 to 7389\n",
      "Data columns (total 18 columns):\n",
      " #   Column                        Non-Null Count  Dtype  \n",
      "---  ------                        --------------  -----  \n",
      " 0   Id                            7390 non-null   int64  \n",
      " 1   Home Ownership                7390 non-null   object \n",
      " 2   Annual Income                 5857 non-null   float64\n",
      " 3   Years in current job          7027 non-null   float64\n",
      " 4   Tax Liens                     7390 non-null   int64  \n",
      " 5   Number of Open Accounts       7390 non-null   int64  \n",
      " 6   Years of Credit History       7390 non-null   float64\n",
      " 7   Maximum Open Credit           7390 non-null   int64  \n",
      " 8   Number of Credit Problems     7390 non-null   int64  \n",
      " 9   Months since last delinquent  3373 non-null   float64\n",
      " 10  Bankruptcies                  7376 non-null   float64\n",
      " 11  Purpose                       7390 non-null   object \n",
      " 12  Term                          7390 non-null   object \n",
      " 13  Current Loan Amount           7390 non-null   int64  \n",
      " 14  Current Credit Balance        7390 non-null   int64  \n",
      " 15  Monthly Debt                  7390 non-null   int64  \n",
      " 16  Credit Score                  5857 non-null   float64\n",
      " 17  Credit Default                7390 non-null   int64  \n",
      "dtypes: float64(6), int64(9), object(3)\n",
      "memory usage: 1.0+ MB\n"
     ]
    }
   ],
   "source": [
    "train_full.info()"
   ]
  },
  {
   "cell_type": "markdown",
   "metadata": {},
   "source": [
    "Проверим описательные характеристики после проведенных преобразований:"
   ]
  },
  {
   "cell_type": "code",
   "execution_count": 432,
   "metadata": {},
   "outputs": [
    {
     "data": {
      "text/html": [
       "<div>\n",
       "<style scoped>\n",
       "    .dataframe tbody tr th:only-of-type {\n",
       "        vertical-align: middle;\n",
       "    }\n",
       "\n",
       "    .dataframe tbody tr th {\n",
       "        vertical-align: top;\n",
       "    }\n",
       "\n",
       "    .dataframe thead th {\n",
       "        text-align: right;\n",
       "    }\n",
       "</style>\n",
       "<table border=\"1\" class=\"dataframe\">\n",
       "  <thead>\n",
       "    <tr style=\"text-align: right;\">\n",
       "      <th></th>\n",
       "      <th>count</th>\n",
       "      <th>mean</th>\n",
       "      <th>std</th>\n",
       "      <th>min</th>\n",
       "      <th>25%</th>\n",
       "      <th>50%</th>\n",
       "      <th>75%</th>\n",
       "      <th>max</th>\n",
       "    </tr>\n",
       "  </thead>\n",
       "  <tbody>\n",
       "    <tr>\n",
       "      <th>Id</th>\n",
       "      <td>7390.0</td>\n",
       "      <td>3.752467e+03</td>\n",
       "      <td>2.165992e+03</td>\n",
       "      <td>0.0</td>\n",
       "      <td>1877.25</td>\n",
       "      <td>3752.5</td>\n",
       "      <td>5628.75</td>\n",
       "      <td>7.499000e+03</td>\n",
       "    </tr>\n",
       "    <tr>\n",
       "      <th>Annual Income</th>\n",
       "      <td>5857.0</td>\n",
       "      <td>1.345257e+06</td>\n",
       "      <td>8.125916e+05</td>\n",
       "      <td>164597.0</td>\n",
       "      <td>839610.00</td>\n",
       "      <td>1161983.0</td>\n",
       "      <td>1620662.00</td>\n",
       "      <td>1.014934e+07</td>\n",
       "    </tr>\n",
       "    <tr>\n",
       "      <th>Years in current job</th>\n",
       "      <td>7027.0</td>\n",
       "      <td>5.860680e+00</td>\n",
       "      <td>3.616993e+00</td>\n",
       "      <td>0.0</td>\n",
       "      <td>3.00</td>\n",
       "      <td>6.0</td>\n",
       "      <td>10.00</td>\n",
       "      <td>1.000000e+01</td>\n",
       "    </tr>\n",
       "    <tr>\n",
       "      <th>Tax Liens</th>\n",
       "      <td>7390.0</td>\n",
       "      <td>2.530447e-02</td>\n",
       "      <td>2.418710e-01</td>\n",
       "      <td>0.0</td>\n",
       "      <td>0.00</td>\n",
       "      <td>0.0</td>\n",
       "      <td>0.00</td>\n",
       "      <td>6.000000e+00</td>\n",
       "    </tr>\n",
       "    <tr>\n",
       "      <th>Number of Open Accounts</th>\n",
       "      <td>7390.0</td>\n",
       "      <td>1.102801e+01</td>\n",
       "      <td>4.791232e+00</td>\n",
       "      <td>2.0</td>\n",
       "      <td>8.00</td>\n",
       "      <td>10.0</td>\n",
       "      <td>14.00</td>\n",
       "      <td>4.300000e+01</td>\n",
       "    </tr>\n",
       "    <tr>\n",
       "      <th>Years of Credit History</th>\n",
       "      <td>7390.0</td>\n",
       "      <td>1.818743e+01</td>\n",
       "      <td>6.923227e+00</td>\n",
       "      <td>4.0</td>\n",
       "      <td>13.50</td>\n",
       "      <td>17.0</td>\n",
       "      <td>21.70</td>\n",
       "      <td>5.770000e+01</td>\n",
       "    </tr>\n",
       "    <tr>\n",
       "      <th>Maximum Open Credit</th>\n",
       "      <td>7390.0</td>\n",
       "      <td>8.767005e+05</td>\n",
       "      <td>1.584048e+07</td>\n",
       "      <td>0.0</td>\n",
       "      <td>276540.00</td>\n",
       "      <td>472538.0</td>\n",
       "      <td>779108.00</td>\n",
       "      <td>1.304726e+09</td>\n",
       "    </tr>\n",
       "    <tr>\n",
       "      <th>Number of Credit Problems</th>\n",
       "      <td>7390.0</td>\n",
       "      <td>1.654939e-01</td>\n",
       "      <td>4.817134e-01</td>\n",
       "      <td>0.0</td>\n",
       "      <td>0.00</td>\n",
       "      <td>0.0</td>\n",
       "      <td>0.00</td>\n",
       "      <td>6.000000e+00</td>\n",
       "    </tr>\n",
       "    <tr>\n",
       "      <th>Months since last delinquent</th>\n",
       "      <td>3373.0</td>\n",
       "      <td>3.470679e+01</td>\n",
       "      <td>2.167864e+01</td>\n",
       "      <td>0.0</td>\n",
       "      <td>16.00</td>\n",
       "      <td>32.0</td>\n",
       "      <td>50.00</td>\n",
       "      <td>1.180000e+02</td>\n",
       "    </tr>\n",
       "    <tr>\n",
       "      <th>Bankruptcies</th>\n",
       "      <td>7376.0</td>\n",
       "      <td>1.175434e-01</td>\n",
       "      <td>3.472097e-01</td>\n",
       "      <td>0.0</td>\n",
       "      <td>0.00</td>\n",
       "      <td>0.0</td>\n",
       "      <td>0.00</td>\n",
       "      <td>4.000000e+00</td>\n",
       "    </tr>\n",
       "    <tr>\n",
       "      <th>Current Loan Amount</th>\n",
       "      <td>7390.0</td>\n",
       "      <td>3.049438e+05</td>\n",
       "      <td>1.671069e+05</td>\n",
       "      <td>11242.0</td>\n",
       "      <td>179239.50</td>\n",
       "      <td>305173.0</td>\n",
       "      <td>391897.00</td>\n",
       "      <td>7.890300e+05</td>\n",
       "    </tr>\n",
       "    <tr>\n",
       "      <th>Current Credit Balance</th>\n",
       "      <td>7390.0</td>\n",
       "      <td>2.761580e+05</td>\n",
       "      <td>2.777107e+05</td>\n",
       "      <td>0.0</td>\n",
       "      <td>113306.50</td>\n",
       "      <td>206520.5</td>\n",
       "      <td>351058.25</td>\n",
       "      <td>4.249673e+06</td>\n",
       "    </tr>\n",
       "    <tr>\n",
       "      <th>Monthly Debt</th>\n",
       "      <td>7390.0</td>\n",
       "      <td>1.802209e+04</td>\n",
       "      <td>1.152697e+04</td>\n",
       "      <td>0.0</td>\n",
       "      <td>10015.00</td>\n",
       "      <td>15917.0</td>\n",
       "      <td>23526.00</td>\n",
       "      <td>1.103110e+05</td>\n",
       "    </tr>\n",
       "    <tr>\n",
       "      <th>Credit Score</th>\n",
       "      <td>5857.0</td>\n",
       "      <td>7.201328e+02</td>\n",
       "      <td>2.790631e+01</td>\n",
       "      <td>585.0</td>\n",
       "      <td>708.00</td>\n",
       "      <td>729.0</td>\n",
       "      <td>740.00</td>\n",
       "      <td>7.510000e+02</td>\n",
       "    </tr>\n",
       "    <tr>\n",
       "      <th>Credit Default</th>\n",
       "      <td>7390.0</td>\n",
       "      <td>2.818674e-01</td>\n",
       "      <td>4.499395e-01</td>\n",
       "      <td>0.0</td>\n",
       "      <td>0.00</td>\n",
       "      <td>0.0</td>\n",
       "      <td>1.00</td>\n",
       "      <td>1.000000e+00</td>\n",
       "    </tr>\n",
       "  </tbody>\n",
       "</table>\n",
       "</div>"
      ],
      "text/plain": [
       "                               count          mean           std       min  \\\n",
       "Id                            7390.0  3.752467e+03  2.165992e+03       0.0   \n",
       "Annual Income                 5857.0  1.345257e+06  8.125916e+05  164597.0   \n",
       "Years in current job          7027.0  5.860680e+00  3.616993e+00       0.0   \n",
       "Tax Liens                     7390.0  2.530447e-02  2.418710e-01       0.0   \n",
       "Number of Open Accounts       7390.0  1.102801e+01  4.791232e+00       2.0   \n",
       "Years of Credit History       7390.0  1.818743e+01  6.923227e+00       4.0   \n",
       "Maximum Open Credit           7390.0  8.767005e+05  1.584048e+07       0.0   \n",
       "Number of Credit Problems     7390.0  1.654939e-01  4.817134e-01       0.0   \n",
       "Months since last delinquent  3373.0  3.470679e+01  2.167864e+01       0.0   \n",
       "Bankruptcies                  7376.0  1.175434e-01  3.472097e-01       0.0   \n",
       "Current Loan Amount           7390.0  3.049438e+05  1.671069e+05   11242.0   \n",
       "Current Credit Balance        7390.0  2.761580e+05  2.777107e+05       0.0   \n",
       "Monthly Debt                  7390.0  1.802209e+04  1.152697e+04       0.0   \n",
       "Credit Score                  5857.0  7.201328e+02  2.790631e+01     585.0   \n",
       "Credit Default                7390.0  2.818674e-01  4.499395e-01       0.0   \n",
       "\n",
       "                                    25%        50%         75%           max  \n",
       "Id                              1877.25     3752.5     5628.75  7.499000e+03  \n",
       "Annual Income                 839610.00  1161983.0  1620662.00  1.014934e+07  \n",
       "Years in current job               3.00        6.0       10.00  1.000000e+01  \n",
       "Tax Liens                          0.00        0.0        0.00  6.000000e+00  \n",
       "Number of Open Accounts            8.00       10.0       14.00  4.300000e+01  \n",
       "Years of Credit History           13.50       17.0       21.70  5.770000e+01  \n",
       "Maximum Open Credit           276540.00   472538.0   779108.00  1.304726e+09  \n",
       "Number of Credit Problems          0.00        0.0        0.00  6.000000e+00  \n",
       "Months since last delinquent      16.00       32.0       50.00  1.180000e+02  \n",
       "Bankruptcies                       0.00        0.0        0.00  4.000000e+00  \n",
       "Current Loan Amount           179239.50   305173.0   391897.00  7.890300e+05  \n",
       "Current Credit Balance        113306.50   206520.5   351058.25  4.249673e+06  \n",
       "Monthly Debt                   10015.00    15917.0    23526.00  1.103110e+05  \n",
       "Credit Score                     708.00      729.0      740.00  7.510000e+02  \n",
       "Credit Default                     0.00        0.0        1.00  1.000000e+00  "
      ]
     },
     "execution_count": 432,
     "metadata": {},
     "output_type": "execute_result"
    }
   ],
   "source": [
    "train_full.describe().T"
   ]
  },
  {
   "cell_type": "code",
   "execution_count": 433,
   "metadata": {},
   "outputs": [],
   "source": [
    "# for col_name in cont_cols:\n",
    "#     plot_outliers(train_full, col_name)"
   ]
  },
  {
   "cell_type": "markdown",
   "metadata": {},
   "source": [
    "## Обработка пропусков"
   ]
  },
  {
   "cell_type": "markdown",
   "metadata": {},
   "source": [
    "### Признаки с пропусками"
   ]
  },
  {
   "cell_type": "code",
   "execution_count": 434,
   "metadata": {},
   "outputs": [
    {
     "name": "stdout",
     "output_type": "stream",
     "text": [
      "TRAIN:\n",
      "{'Annual Income': 1557, 'Years in current job': 371, 'Months since last delinquent': 4081, 'Bankruptcies': 14, 'Credit Score': 1557}\n"
     ]
    }
   ],
   "source": [
    "print(f\"TRAIN:\\n{train_pass_features}\")"
   ]
  },
  {
   "cell_type": "markdown",
   "metadata": {},
   "source": [
    "#### Признаки 'Annual Income', ' Credit Score', 'Years in current job', 'Bankruptcies'\n",
    "Признаки Annual Income' и 'Credit Score' имеют пропуски в одинаковых позициях:"
   ]
  },
  {
   "cell_type": "code",
   "execution_count": 435,
   "metadata": {},
   "outputs": [
    {
     "name": "stdout",
     "output_type": "stream",
     "text": [
      "ID совпадают\n"
     ]
    }
   ],
   "source": [
    "train_annual_income_nan_idx = train_full.index[train_full['Annual Income'].isna()]\n",
    "train_credit_score_nan_idx = train_full.index[train_full['Credit Score'].isna()]\n",
    "if sorted(train_annual_income_nan_idx) == sorted(train_credit_score_nan_idx):\n",
    "    print('ID совпадают')"
   ]
  },
  {
   "cell_type": "markdown",
   "metadata": {},
   "source": [
    "Заполним пропуски признаков 'Annual Income', 'Credit Score', 'Years in current job' медианными значениями, 'Bankruptcies' - модой:"
   ]
  },
  {
   "cell_type": "code",
   "execution_count": 436,
   "metadata": {},
   "outputs": [],
   "source": [
    "# Медианы\n",
    "annual_income_median = train_full['Annual Income'].median()\n",
    "credit_score_median = train_full['Credit Score'].median()\n",
    "years_in_current_job_median = train_full['Years in current job'].median()\n",
    "# bankruptcies_mode = train_full['Bankruptcies'].mode()"
   ]
  },
  {
   "cell_type": "code",
   "execution_count": 437,
   "metadata": {},
   "outputs": [],
   "source": [
    "# Замена\n",
    "train_full.loc[train_full['Annual Income'].isna(), 'Annual Income'] = annual_income_median\n",
    "train_full.loc[train_full['Credit Score'].isna(), 'Credit Score'] = credit_score_median\n",
    "train_full.loc[train_full['Years in current job'].isna(), 'Years in current job'] = years_in_current_job_median\n",
    "# train_full.loc[train_full['Bankruptcies'].isna(), 'Bankruptcies'] = bankruptcies_mode\n",
    "train_full['Bankruptcies'].fillna(train_full['Bankruptcies'].mode().iloc[0], inplace=True)"
   ]
  },
  {
   "cell_type": "markdown",
   "metadata": {},
   "source": [
    "#### Признак \"Bankruptcies\"\n",
    "Предполагается, что признак \"Bankruptcies\" категориальный, преобразуем его тип в object"
   ]
  },
  {
   "cell_type": "code",
   "execution_count": 438,
   "metadata": {},
   "outputs": [],
   "source": [
    "# train_full[\"Bankruptcies\"] = train_full[\"Bankruptcies\"].astype(int)\n",
    "train_full[\"Bankruptcies\"] = train_full[\"Bankruptcies\"].astype(object)"
   ]
  },
  {
   "cell_type": "markdown",
   "metadata": {},
   "source": [
    "Попробовать регрессию  \n",
    "**--- TODO_2 ---**"
   ]
  },
  {
   "cell_type": "markdown",
   "metadata": {},
   "source": [
    "#### Признак 'Months since last delinquent'\n",
    "Данный имеет пропуски более чем 50%\n",
    "1) попробуем удалить этот признак  \n",
    "2) предположим, что пропуски - это отсутсвие просрочек, заменим пропуски большими значениями, например, 1200  \n",
    "3) учтем признак 'Number of Credit Problems'  "
   ]
  },
  {
   "cell_type": "code",
   "execution_count": 439,
   "metadata": {},
   "outputs": [],
   "source": [
    "# 1)"
   ]
  },
  {
   "cell_type": "code",
   "execution_count": 440,
   "metadata": {},
   "outputs": [],
   "source": [
    "#train_full.drop(['Months since last delinquent'], axis=1, inplace=True)\n",
    "#cont_cols.remove('Months since last delinquent')"
   ]
  },
  {
   "cell_type": "code",
   "execution_count": 441,
   "metadata": {},
   "outputs": [],
   "source": [
    "# 2)"
   ]
  },
  {
   "cell_type": "code",
   "execution_count": 442,
   "metadata": {},
   "outputs": [],
   "source": [
    "train_full.loc[train_full['Months since last delinquent'].isna(), 'Months since last delinquent'] = 0"
   ]
  },
  {
   "cell_type": "code",
   "execution_count": 443,
   "metadata": {},
   "outputs": [],
   "source": [
    "# 3)\n",
    "#train_full.loc[train_full['Months since last delinquent'].isna(), ['Number of Credit Problems', 'Months since last delinquent']]"
   ]
  },
  {
   "cell_type": "markdown",
   "metadata": {},
   "source": [
    "Проверка пропусков после их удаления в обоих датасетах:"
   ]
  },
  {
   "cell_type": "code",
   "execution_count": 444,
   "metadata": {
    "scrolled": true
   },
   "outputs": [
    {
     "name": "stdout",
     "output_type": "stream",
     "text": [
      "Число пропусков в TRAIN:\n",
      "0\n"
     ]
    }
   ],
   "source": [
    "print(f'Число пропусков в TRAIN:\\n{train_full.isna().sum().sum()}')"
   ]
  },
  {
   "cell_type": "markdown",
   "metadata": {},
   "source": [
    "### Преобразование категориальных признаков в dummies"
   ]
  },
  {
   "cell_type": "markdown",
   "metadata": {},
   "source": [
    "#### Преобразование значений категориальных признаков, имеющих только 2 значения, в 0 и 1. "
   ]
  },
  {
   "cell_type": "code",
   "execution_count": 445,
   "metadata": {
    "scrolled": true
   },
   "outputs": [
    {
     "name": "stdout",
     "output_type": "stream",
     "text": [
      "Значения признака \u001b[1mTerm\u001b[0m преобразованы в 0 и 1\n"
     ]
    }
   ],
   "source": [
    "train_full.replace({'Term': {'Short Term': 0, 'Long Term': 1}}, inplace=True)\n",
    "print(f\"Значения признака \\033[1mTerm\\033[0m преобразованы в 0 и 1\")"
   ]
  },
  {
   "cell_type": "code",
   "execution_count": 446,
   "metadata": {},
   "outputs": [
    {
     "data": {
      "text/plain": [
       "['Home Ownership', 'Bankruptcies', 'Purpose']"
      ]
     },
     "execution_count": 446,
     "metadata": {},
     "output_type": "execute_result"
    }
   ],
   "source": [
    "cat_cols.remove('Term')\n",
    "cont_cols.append('Term')\n",
    "cat_cols"
   ]
  },
  {
   "cell_type": "markdown",
   "metadata": {},
   "source": [
    "#### Преобразование значений категориальных признаков, имеющих более 2 значений"
   ]
  },
  {
   "cell_type": "code",
   "execution_count": 447,
   "metadata": {},
   "outputs": [],
   "source": [
    "def cat_to_dummies(df):\n",
    "#     print(df)\n",
    "    for feature in df.select_dtypes(include='object').columns:\n",
    "        df = pd.concat([df, pd.get_dummies(df[feature], prefix=feature)], axis=1)\n",
    "        print(f\"Значения признака \\033[1m{feature}\\033[0m преобразованы в DUMMIES\")\n",
    "    return df"
   ]
  },
  {
   "cell_type": "code",
   "execution_count": 448,
   "metadata": {},
   "outputs": [
    {
     "name": "stdout",
     "output_type": "stream",
     "text": [
      "Значения признака \u001b[1mHome Ownership\u001b[0m преобразованы в DUMMIES\n",
      "Значения признака \u001b[1mBankruptcies\u001b[0m преобразованы в DUMMIES\n",
      "Значения признака \u001b[1mPurpose\u001b[0m преобразованы в DUMMIES\n"
     ]
    }
   ],
   "source": [
    "train_full_dum = cat_to_dummies(train_full)"
   ]
  },
  {
   "cell_type": "markdown",
   "metadata": {},
   "source": [
    "### Удаление лишних признаков"
   ]
  },
  {
   "cell_type": "code",
   "execution_count": 449,
   "metadata": {},
   "outputs": [],
   "source": [
    "TRAIN_FEATURES_NAMES = train_full.columns\n",
    "TRAIN_FEATURES_NAMES_DUM = train_full_dum.columns\n",
    "features_to_delete = ['Id', 'Purpose', 'Bankruptcies', 'Home Ownership', TARGET_NAME]\n",
    "for feature in features_to_delete:\n",
    "    TRAIN_FEATURES_NAMES_DUM = TRAIN_FEATURES_NAMES_DUM.drop(feature)"
   ]
  },
  {
   "cell_type": "code",
   "execution_count": 450,
   "metadata": {},
   "outputs": [],
   "source": [
    "TRAIN_FEATURES_NAMES = TRAIN_FEATURES_NAMES.drop(TARGET_NAME)\n",
    "TRAIN_FEATURES_NAMES = TRAIN_FEATURES_NAMES.drop('Id')"
   ]
  },
  {
   "cell_type": "markdown",
   "metadata": {},
   "source": [
    "### Матрица корреляций"
   ]
  },
  {
   "cell_type": "code",
   "execution_count": 451,
   "metadata": {},
   "outputs": [],
   "source": [
    "def correl_matrix(df):\n",
    "    plt.figure(figsize = (25, 20))\n",
    "\n",
    "    sns.set(font_scale=0.8)\n",
    "    sns.heatmap(df[:].corr().round(3), annot=True, linewidths=.5, cmap='GnBu')\n",
    "\n",
    "    plt.title('Матрица корреляции всех признаков')\n",
    "    plt.show()"
   ]
  },
  {
   "cell_type": "code",
   "execution_count": 452,
   "metadata": {},
   "outputs": [],
   "source": [
    "# correl_matrix(train_full)"
   ]
  },
  {
   "cell_type": "markdown",
   "metadata": {},
   "source": [
    "## Подбор гиперпараметров"
   ]
  },
  {
   "cell_type": "code",
   "execution_count": 453,
   "metadata": {},
   "outputs": [],
   "source": [
    "from sklearn.svm import SVC, LinearSVC\n",
    "from sklearn.linear_model import LogisticRegression\n",
    "from sklearn.naive_bayes import GaussianNB\n",
    "from sklearn.ensemble import RandomForestClassifier\n",
    "from sklearn.model_selection import KFold, GridSearchCV, RandomizedSearchCV\n",
    "import xgboost as xgb, lightgbm as lgbm, catboost as catb\n",
    "from sklearn.metrics import classification_report, f1_score, confusion_matrix\n",
    "from sklearn.metrics import accuracy_score, recall_score, precision_score\n",
    "from imblearn.over_sampling import SMOTE\n",
    "import itertools\n",
    "from imblearn.pipeline import Pipeline as SM_Pipeline\n",
    "from sklearn.metrics import roc_curve, auc\n",
    "from sklearn.ensemble import AdaBoostClassifier\n",
    "from sklearn.preprocessing import MinMaxScaler"
   ]
  },
  {
   "cell_type": "markdown",
   "metadata": {},
   "source": [
    "### Нормализация данных<a class=\"anchor\" id=\"normalization\"></a>"
   ]
  },
  {
   "cell_type": "code",
   "execution_count": 454,
   "metadata": {},
   "outputs": [],
   "source": [
    "def norm_stand_scal(df, num_features):\n",
    "    scaler = StandardScaler()\n",
    "#     df_norm = df.copy()\n",
    "    df[num_features] = scaler.fit_transform(df[num_features])\n",
    "    return df"
   ]
  },
  {
   "cell_type": "markdown",
   "metadata": {},
   "source": [
    "### Разделение датасетов для обучения"
   ]
  },
  {
   "cell_type": "code",
   "execution_count": 455,
   "metadata": {},
   "outputs": [],
   "source": [
    "def train_test_dev(df, features):\n",
    "    X = df[features]\n",
    "    y = df[TARGET_NAME]\n",
    "    return train_test_split(X, y, shuffle=True, test_size=0.25)"
   ]
  },
  {
   "cell_type": "markdown",
   "metadata": {},
   "source": [
    "### Балансировка целевого признака<a class=\"anchor\" id=\"target_balancing\"></a>"
   ]
  },
  {
   "cell_type": "markdown",
   "metadata": {},
   "source": [
    "Функция _balance_df_by_target_ проводит балансировку"
   ]
  },
  {
   "cell_type": "code",
   "execution_count": 456,
   "metadata": {},
   "outputs": [],
   "source": [
    "def balance_df_by_target(df, target_name):\n",
    "    target_counts = df[target_name].value_counts()\n",
    "#     print(target_counts)\n",
    "\n",
    "    major_class_name = target_counts.argmax()\n",
    "    minor_class_name = target_counts.argmin()\n",
    "\n",
    "    disbalance_coeff = int(target_counts[major_class_name] / target_counts[minor_class_name]) - 1\n",
    "\n",
    "    for i in range(disbalance_coeff):\n",
    "        sample = df[df[target_name] == minor_class_name].sample(target_counts[minor_class_name])\n",
    "        df = df.append(sample, ignore_index=True)\n",
    "\n",
    "    return df.sample(frac=1) "
   ]
  },
  {
   "cell_type": "code",
   "execution_count": 457,
   "metadata": {},
   "outputs": [],
   "source": [
    "def balancing(bal_x, bal_y):\n",
    "    df_for_balancing = pd.concat([bal_x, bal_y], axis=1)\n",
    "    df_balanced = balance_df_by_target(df_for_balancing, TARGET_NAME)\n",
    "    print(df_balanced[TARGET_NAME].value_counts())\n",
    "    return df_balanced.drop(columns=TARGET_NAME), df_balanced[TARGET_NAME]"
   ]
  },
  {
   "cell_type": "markdown",
   "metadata": {},
   "source": [
    "#  Создание и обучение модели"
   ]
  },
  {
   "cell_type": "markdown",
   "metadata": {},
   "source": [
    "Функция _get_classification_report_ выдает отчет _classification_report_"
   ]
  },
  {
   "cell_type": "code",
   "execution_count": 458,
   "metadata": {},
   "outputs": [],
   "source": [
    "def get_classification_report(y_train_true, y_train_pred, y_test_true, y_test_pred):\n",
    "    print('TRAIN\\n\\n' + classification_report(y_train_true, y_train_pred))\n",
    "    print('TEST\\n\\n' + classification_report(y_test_true, y_test_pred))\n",
    "    print('CONFUSION MATRIX\\n')\n",
    "    print(pd.crosstab(y_test_true, y_test_pred))"
   ]
  },
  {
   "cell_type": "markdown",
   "metadata": {},
   "source": [
    "## CatBoost (cat_features=cat_cols)"
   ]
  },
  {
   "cell_type": "code",
   "execution_count": 188,
   "metadata": {},
   "outputs": [],
   "source": [
    "train_full_norm = norm_stand_scal(train_full, cont_cols)"
   ]
  },
  {
   "cell_type": "code",
   "execution_count": 189,
   "metadata": {},
   "outputs": [],
   "source": [
    "X_train, X_test, y_train, y_test = train_test_dev(train_full_norm, TRAIN_FEATURES_NAMES)"
   ]
  },
  {
   "cell_type": "code",
   "execution_count": 190,
   "metadata": {},
   "outputs": [
    {
     "name": "stdout",
     "output_type": "stream",
     "text": [
      "0    3983\n",
      "1    3118\n",
      "Name: Credit Default, dtype: int64\n"
     ]
    }
   ],
   "source": [
    "X_train, y_train = balancing(X_train, y_train)"
   ]
  },
  {
   "cell_type": "code",
   "execution_count": 191,
   "metadata": {},
   "outputs": [],
   "source": [
    "X_train[cat_cols] = X_train[cat_cols].astype(str)\n",
    "X_test[cat_cols] = X_test[cat_cols].astype(str)"
   ]
  },
  {
   "cell_type": "code",
   "execution_count": 192,
   "metadata": {},
   "outputs": [
    {
     "name": "stdout",
     "output_type": "stream",
     "text": [
      "TRAIN\n",
      "\n",
      "              precision    recall  f1-score   support\n",
      "\n",
      "           0       0.87      0.91      0.89      3983\n",
      "           1       0.87      0.83      0.85      3118\n",
      "\n",
      "    accuracy                           0.87      7101\n",
      "   macro avg       0.87      0.87      0.87      7101\n",
      "weighted avg       0.87      0.87      0.87      7101\n",
      "\n",
      "TEST\n",
      "\n",
      "              precision    recall  f1-score   support\n",
      "\n",
      "           0       0.79      0.79      0.79      1324\n",
      "           1       0.47      0.46      0.46       524\n",
      "\n",
      "    accuracy                           0.70      1848\n",
      "   macro avg       0.63      0.63      0.63      1848\n",
      "weighted avg       0.70      0.70      0.70      1848\n",
      "\n",
      "CONFUSION MATRIX\n",
      "\n",
      "col_0              0    1\n",
      "Credit Default           \n",
      "0               1049  275\n",
      "1                283  241\n"
     ]
    }
   ],
   "source": [
    "model_catb = catb.CatBoostClassifier(\n",
    "    silent=True, \n",
    "    cat_features=cat_cols\n",
    ")\n",
    "model_catb.fit(X_train, y_train)\n",
    "y_train_pred = model_catb.predict(X_train)\n",
    "y_test_pred = model_catb.predict(X_test)\n",
    "get_classification_report(y_train, y_train_pred, y_test, y_test_pred)"
   ]
  },
  {
   "cell_type": "markdown",
   "metadata": {},
   "source": [
    "#### Подбор гиперпараметров"
   ]
  },
  {
   "cell_type": "code",
   "execution_count": 194,
   "metadata": {},
   "outputs": [],
   "source": [
    "params = {'n_estimators':[50, 100, 150, 250, 300], \n",
    "          'max_depth':[3, 5, 7, 10],\n",
    "          'learning_rate':[0.001, 0.01, 0.05, 0.1]}"
   ]
  },
  {
   "cell_type": "code",
   "execution_count": 195,
   "metadata": {},
   "outputs": [],
   "source": [
    "cv=KFold(n_splits=3, shuffle=True)"
   ]
  },
  {
   "cell_type": "code",
   "execution_count": 196,
   "metadata": {},
   "outputs": [
    {
     "data": {
      "text/plain": [
       "RandomizedSearchCV(cv=KFold(n_splits=3, random_state=None, shuffle=True),\n",
       "                   estimator=<catboost.core.CatBoostClassifier object at 0x7f172b87ef90>,\n",
       "                   n_jobs=-1,\n",
       "                   param_distributions={'learning_rate': [0.001, 0.01, 0.05,\n",
       "                                                          0.1],\n",
       "                                        'max_depth': [3, 5, 7, 10],\n",
       "                                        'n_estimators': [50, 100, 150, 250,\n",
       "                                                         300]},\n",
       "                   scoring='f1')"
      ]
     },
     "execution_count": 196,
     "metadata": {},
     "output_type": "execute_result"
    }
   ],
   "source": [
    "rs = RandomizedSearchCV(model_catb, params, scoring='f1', cv=cv, n_jobs=-1)\n",
    "rs.fit(X_train, y_train)"
   ]
  },
  {
   "cell_type": "code",
   "execution_count": 197,
   "metadata": {},
   "outputs": [
    {
     "data": {
      "text/plain": [
       "{'n_estimators': 150, 'max_depth': 10, 'learning_rate': 0.1}"
      ]
     },
     "execution_count": 197,
     "metadata": {},
     "output_type": "execute_result"
    }
   ],
   "source": [
    "rs.best_params_"
   ]
  },
  {
   "cell_type": "code",
   "execution_count": 198,
   "metadata": {},
   "outputs": [
    {
     "data": {
      "text/plain": [
       "0.6720230721855524"
      ]
     },
     "execution_count": 198,
     "metadata": {},
     "output_type": "execute_result"
    }
   ],
   "source": [
    "rs.best_score_"
   ]
  },
  {
   "cell_type": "markdown",
   "metadata": {},
   "source": [
    "### Обучение и оценка модели"
   ]
  },
  {
   "cell_type": "code",
   "execution_count": 276,
   "metadata": {},
   "outputs": [],
   "source": [
    "final_model = catb.CatBoostClassifier(\n",
    "    n_estimators=150, \n",
    "    max_depth=10, \n",
    "    learning_rate=0.1, \n",
    "    cat_features=cat_cols,\n",
    "    silent=True)\n",
    "\n",
    "final_model.fit(X_train, y_train)\n",
    "\n",
    "y_train_pred = final_model.predict(X_train)\n",
    "y_test_pred = final_model.predict(X_test)\n",
    "\n",
    "get_classification_report(y_train, y_train_pred, y_test, y_test_pred)"
   ]
  },
  {
   "cell_type": "markdown",
   "metadata": {},
   "source": [
    "## CatBoost (dummies)"
   ]
  },
  {
   "cell_type": "code",
   "execution_count": 459,
   "metadata": {},
   "outputs": [],
   "source": [
    "train_full_norm = norm_stand_scal(train_full_dum, cont_cols)"
   ]
  },
  {
   "cell_type": "code",
   "execution_count": 460,
   "metadata": {},
   "outputs": [],
   "source": [
    "X_train, X_test, y_train, y_test = train_test_dev(train_full_norm, TRAIN_FEATURES_NAMES_DUM)"
   ]
  },
  {
   "cell_type": "code",
   "execution_count": 461,
   "metadata": {},
   "outputs": [
    {
     "name": "stdout",
     "output_type": "stream",
     "text": [
      "0    3967\n",
      "1    3150\n",
      "Name: Credit Default, dtype: int64\n"
     ]
    }
   ],
   "source": [
    "X_train, y_train = balancing(X_train, y_train)"
   ]
  },
  {
   "cell_type": "code",
   "execution_count": 462,
   "metadata": {},
   "outputs": [],
   "source": [
    "# X_train[cat_cols] = X_train[cat_cols].astype(str)\n",
    "# X_test[cat_cols] = X_test[cat_cols].astype(str)"
   ]
  },
  {
   "cell_type": "code",
   "execution_count": 463,
   "metadata": {
    "scrolled": true
   },
   "outputs": [
    {
     "name": "stdout",
     "output_type": "stream",
     "text": [
      "TRAIN\n",
      "\n",
      "              precision    recall  f1-score   support\n",
      "\n",
      "           0       0.89      0.91      0.90      3967\n",
      "           1       0.88      0.86      0.87      3150\n",
      "\n",
      "    accuracy                           0.88      7117\n",
      "   macro avg       0.88      0.88      0.88      7117\n",
      "weighted avg       0.88      0.88      0.88      7117\n",
      "\n",
      "TEST\n",
      "\n",
      "              precision    recall  f1-score   support\n",
      "\n",
      "           0       0.79      0.76      0.78      1340\n",
      "           1       0.43      0.48      0.46       508\n",
      "\n",
      "    accuracy                           0.69      1848\n",
      "   macro avg       0.61      0.62      0.62      1848\n",
      "weighted avg       0.70      0.69      0.69      1848\n",
      "\n",
      "CONFUSION MATRIX\n",
      "\n",
      "col_0              0    1\n",
      "Credit Default           \n",
      "0               1024  316\n",
      "1                265  243\n"
     ]
    }
   ],
   "source": [
    "model_catb = catb.CatBoostClassifier(\n",
    "    silent=True\n",
    ")\n",
    "calib = CalibratedClassifierCV(base_estimator=final_model, method='sigmoid', cv=2)\n",
    "\n",
    "model_catb.fit(X_train, y_train)\n",
    "calib.fit(X_train, y_train)\n",
    "\n",
    "y_train_pred = model_catb.predict(X_train)\n",
    "y_test_pred = model_catb.predict(X_test)\n",
    "get_classification_report(y_train, y_train_pred, y_test, y_test_pred)"
   ]
  },
  {
   "cell_type": "markdown",
   "metadata": {},
   "source": [
    "#### Подбор гиперпараметров"
   ]
  },
  {
   "cell_type": "code",
   "execution_count": 464,
   "metadata": {},
   "outputs": [],
   "source": [
    "params = {'n_estimators':[50, 100, 150, 250, 300], \n",
    "          'max_depth':[3, 5, 7, 10],\n",
    "          'learning_rate':[0.001, 0.01, 0.05, 0.1]}"
   ]
  },
  {
   "cell_type": "code",
   "execution_count": 465,
   "metadata": {},
   "outputs": [],
   "source": [
    "cv=KFold(n_splits=3, shuffle=True)"
   ]
  },
  {
   "cell_type": "code",
   "execution_count": 466,
   "metadata": {},
   "outputs": [
    {
     "data": {
      "text/plain": [
       "RandomizedSearchCV(cv=KFold(n_splits=3, random_state=None, shuffle=True),\n",
       "                   estimator=<catboost.core.CatBoostClassifier object at 0x7f172955f550>,\n",
       "                   n_jobs=-1,\n",
       "                   param_distributions={'learning_rate': [0.001, 0.01, 0.05,\n",
       "                                                          0.1],\n",
       "                                        'max_depth': [3, 5, 7, 10],\n",
       "                                        'n_estimators': [50, 100, 150, 250,\n",
       "                                                         300]},\n",
       "                   scoring='f1')"
      ]
     },
     "execution_count": 466,
     "metadata": {},
     "output_type": "execute_result"
    }
   ],
   "source": [
    "rs = RandomizedSearchCV(model_catb, params, scoring='f1', cv=cv, n_jobs=-1)\n",
    "rs.fit(X_train, y_train)"
   ]
  },
  {
   "cell_type": "code",
   "execution_count": 469,
   "metadata": {},
   "outputs": [
    {
     "data": {
      "text/plain": [
       "{'n_estimators': 50, 'max_depth': 10, 'learning_rate': 0.1}"
      ]
     },
     "execution_count": 469,
     "metadata": {},
     "output_type": "execute_result"
    }
   ],
   "source": [
    "rs.best_params_"
   ]
  },
  {
   "cell_type": "code",
   "execution_count": 363,
   "metadata": {},
   "outputs": [
    {
     "data": {
      "text/plain": [
       "0.6630474888812682"
      ]
     },
     "execution_count": 363,
     "metadata": {},
     "output_type": "execute_result"
    }
   ],
   "source": [
    "rs.best_score_"
   ]
  },
  {
   "cell_type": "markdown",
   "metadata": {},
   "source": [
    "### Обучение и оценка модели"
   ]
  },
  {
   "cell_type": "code",
   "execution_count": 470,
   "metadata": {},
   "outputs": [
    {
     "name": "stdout",
     "output_type": "stream",
     "text": [
      "TRAIN\n",
      "\n",
      "              precision    recall  f1-score   support\n",
      "\n",
      "           0       0.88      0.92      0.90      3967\n",
      "           1       0.89      0.85      0.87      3150\n",
      "\n",
      "    accuracy                           0.89      7117\n",
      "   macro avg       0.89      0.88      0.88      7117\n",
      "weighted avg       0.89      0.89      0.89      7117\n",
      "\n",
      "TEST\n",
      "\n",
      "              precision    recall  f1-score   support\n",
      "\n",
      "           0       0.79      0.79      0.79      1340\n",
      "           1       0.45      0.46      0.45       508\n",
      "\n",
      "    accuracy                           0.70      1848\n",
      "   macro avg       0.62      0.62      0.62      1848\n",
      "weighted avg       0.70      0.70      0.70      1848\n",
      "\n",
      "CONFUSION MATRIX\n",
      "\n",
      "col_0              0    1\n",
      "Credit Default           \n",
      "0               1060  280\n",
      "1                276  232\n"
     ]
    }
   ],
   "source": [
    "final_model = catb.CatBoostClassifier(\n",
    "    n_estimators=rs.best_params_['n_estimators'], \n",
    "    max_depth=rs.best_params_['max_depth'], \n",
    "    learning_rate=rs.best_params_['learning_rate'], \n",
    "    silent=True)\n",
    "\n",
    "calib = CalibratedClassifierCV(base_estimator=final_model, method='sigmoid', cv=2)\n",
    "final_model.fit(X_train, y_train)\n",
    "\n",
    "calib.fit(X_train, y_train)\n",
    "# print(final_model.predict_proba(X_train))\n",
    "# print(calib.predict_proba(X_train))\n",
    "\n",
    "y_train_pred = final_model.predict(X_train)\n",
    "y_test_pred = final_model.predict(X_test)\n",
    "\n",
    "get_classification_report(y_train, y_train_pred, y_test, y_test_pred)"
   ]
  },
  {
   "cell_type": "markdown",
   "metadata": {},
   "source": [
    "### Выбор наиболее важных признаков"
   ]
  },
  {
   "cell_type": "code",
   "execution_count": 471,
   "metadata": {},
   "outputs": [],
   "source": [
    "def show_feature_importances(feature_names, feature_importances, get_top=None):\n",
    "    feature_importances = pd.DataFrame({'feature': feature_names, 'importance': feature_importances})\n",
    "    feature_importances = feature_importances.sort_values('importance', ascending=False)\n",
    "       \n",
    "    plt.figure(figsize = (10, len(feature_importances) * 0.355))\n",
    "    \n",
    "    sns.barplot(feature_importances['importance'], feature_importances['feature'])\n",
    "    \n",
    "    plt.xlabel('Importance')\n",
    "    plt.title('Importance of features')\n",
    "    plt.show()\n",
    "    \n",
    "    if get_top is not None:\n",
    "        return feature_importances['feature'][:get_top].tolist()"
   ]
  },
  {
   "cell_type": "code",
   "execution_count": 472,
   "metadata": {},
   "outputs": [
    {
     "data": {
      "image/png": "[encoded data removed]",
      "text/plain": [
       "<Figure size 720x945.72 with 1 Axes>"
      ]
     },
     "metadata": {
      "needs_background": "light"
     },
     "output_type": "display_data"
    }
   ],
   "source": [
    "important_features_top = show_feature_importances(X_train.columns, final_model.feature_importances_, get_top=15)"
   ]
  },
  {
   "cell_type": "code",
   "execution_count": 473,
   "metadata": {},
   "outputs": [],
   "source": [
    "# important_features_top"
   ]
  },
  {
   "cell_type": "code",
   "execution_count": 474,
   "metadata": {},
   "outputs": [
    {
     "name": "stdout",
     "output_type": "stream",
     "text": [
      "TRAIN\n",
      "\n",
      "              precision    recall  f1-score   support\n",
      "\n",
      "           0       0.79      0.86      0.82      3967\n",
      "           1       0.80      0.70      0.75      3150\n",
      "\n",
      "    accuracy                           0.79      7117\n",
      "   macro avg       0.79      0.78      0.79      7117\n",
      "weighted avg       0.79      0.79      0.79      7117\n",
      "\n",
      "TEST\n",
      "\n",
      "              precision    recall  f1-score   support\n",
      "\n",
      "           0       0.81      0.77      0.79      1340\n",
      "           1       0.46      0.51      0.49       508\n",
      "\n",
      "    accuracy                           0.70      1848\n",
      "   macro avg       0.63      0.64      0.64      1848\n",
      "weighted avg       0.71      0.70      0.71      1848\n",
      "\n",
      "CONFUSION MATRIX\n",
      "\n",
      "col_0              0    1\n",
      "Credit Default           \n",
      "0               1034  306\n",
      "1                247  261\n"
     ]
    }
   ],
   "source": [
    "# final_model = catb.CatBoostClassifier(n_estimators=500, max_depth=7, l2_leaf_reg=10, silent=True, random_state=123)\n",
    "# final_model = catb.CatBoostClassifier(\n",
    "#     n_estimators=500, \n",
    "#     max_depth=7, \n",
    "#     learning_rate=0.05, \n",
    "#     cat_features=cat_cols,\n",
    "#     silent=True)\n",
    "final_model.fit(X_train[important_features_top], y_train)\n",
    "\n",
    "y_train_pred = final_model.predict(X_train[important_features_top])\n",
    "y_test_pred = final_model.predict(X_test[important_features_top])\n",
    "y_test_pred_probs = final_model.predict_proba(X_test[important_features_top])\n",
    "\n",
    "\n",
    "get_classification_report(y_train, y_train_pred, y_test, y_test_pred)"
   ]
  },
  {
   "cell_type": "markdown",
   "metadata": {},
   "source": [
    "## Предсказания тестовых данных¶"
   ]
  },
  {
   "cell_type": "code",
   "execution_count": 475,
   "metadata": {},
   "outputs": [],
   "source": [
    "test_full = pd.read_csv(TEST_DATASET_PATH)"
   ]
  },
  {
   "cell_type": "code",
   "execution_count": 476,
   "metadata": {},
   "outputs": [
    {
     "data": {
      "text/plain": [
       "(2500, 17)"
      ]
     },
     "execution_count": 476,
     "metadata": {},
     "output_type": "execute_result"
    }
   ],
   "source": [
    "test_full.shape"
   ]
  },
  {
   "cell_type": "code",
   "execution_count": 477,
   "metadata": {},
   "outputs": [
    {
     "name": "stdout",
     "output_type": "stream",
     "text": [
      "\u001b[1mId\u001b[0m\n",
      "\t\u001b[1mUnique values:\u001b[0m\n",
      "\t[7500 7501 7502 7503 7504] ... [9995 9996 9997 9998 9999]\n",
      "\t\u001b[1mFeature not NaN size:\u001b[0m 2500\n",
      "\t\u001b[1mType of values:\u001b[0m int64\n",
      "\u001b[95mПропусков нет\u001b[0m\n",
      "**************************************************\n",
      "\u001b[1mHome Ownership\u001b[0m\n",
      "\t\u001b[1mUnique values:\u001b[0m\n",
      "\t['Rent' 'Home Mortgage' 'Own Home' 'Have Mortgage']\n",
      "\t\u001b[1mFeature not NaN size:\u001b[0m 2500\n",
      "\t\u001b[1mType of values:\u001b[0m object\n",
      "\u001b[95mПропусков нет\u001b[0m\n",
      "**************************************************\n",
      "\u001b[1mAnnual Income\u001b[0m\n",
      "\t\u001b[1mUnique values:\u001b[0m\n",
      "\t[     nan  231838. 1152540. 1220313. 2340952.] ... [ 907839. 1020053. 1171806.  723520. 1694439.]\n",
      "\t\u001b[1mFeature not NaN size:\u001b[0m 1987\n",
      "\t\u001b[1mType of values:\u001b[0m float64\n",
      "\u001b[95mМного пропусков\u001b[0m 513\n",
      "**************************************************\n",
      "\u001b[1mYears in current job\u001b[0m\n",
      "\t\u001b[1mUnique values:\u001b[0m\n",
      "\t['4 years' '1 year' '3 years' '10+ years' '6 years' '5 years' '< 1 year'\n",
      " '2 years' '9 years' '8 years' '7 years' nan]\n",
      "\t\u001b[1mFeature not NaN size:\u001b[0m 2414\n",
      "\t\u001b[1mType of values:\u001b[0m object\n",
      "\u001b[95mНемного пропусков\u001b[0m 86\n",
      "**************************************************\n",
      "\u001b[1mTax Liens\u001b[0m\n",
      "\t\u001b[1mUnique values:\u001b[0m\n",
      "\t[ 0.  1.  5.  4.  2.  6.  3. 15.]\n",
      "\t\u001b[1mFeature not NaN size:\u001b[0m 2500\n",
      "\t\u001b[1mType of values:\u001b[0m float64\n",
      "\u001b[95mПропусков нет\u001b[0m\n",
      "\u001b[92mПреобразовать в INT\u001b[0m\n",
      "**************************************************\n",
      "\u001b[1mNumber of Open Accounts\u001b[0m\n",
      "\t\u001b[1mUnique values:\u001b[0m\n",
      "\t[ 9.  6. 10. 16. 11.] ... [ 1. 36. 29. 34. 48.]\n",
      "\t\u001b[1mFeature not NaN size:\u001b[0m 2500\n",
      "\t\u001b[1mType of values:\u001b[0m float64\n",
      "\u001b[95mПропусков нет\u001b[0m\n",
      "\u001b[92mПреобразовать в INT\u001b[0m\n",
      "**************************************************\n",
      "\u001b[1mYears of Credit History\u001b[0m\n",
      "\t\u001b[1mUnique values:\u001b[0m\n",
      "\t[12.5 32.7 13.7 17.  23.6] ... [35.4  6.8 33.9  7.3 45.6]\n",
      "\t\u001b[1mFeature not NaN size:\u001b[0m 2500\n",
      "\t\u001b[1mType of values:\u001b[0m float64\n",
      "\u001b[95mПропусков нет\u001b[0m\n",
      "**************************************************\n",
      "\u001b[1mMaximum Open Credit\u001b[0m\n",
      "\t\u001b[1mUnique values:\u001b[0m\n",
      "\t[ 220968.   55946.  204600.  456302. 1207272.] ... [ 559152. 1737780. 1706430.  945780. 1199748.]\n",
      "\t\u001b[1mFeature not NaN size:\u001b[0m 2500\n",
      "\t\u001b[1mType of values:\u001b[0m float64\n",
      "\u001b[95mПропусков нет\u001b[0m\n",
      "\u001b[92mПреобразовать в INT\u001b[0m\n",
      "**************************************************\n",
      "\u001b[1mNumber of Credit Problems\u001b[0m\n",
      "\t\u001b[1mUnique values:\u001b[0m\n",
      "\t[ 0.  1.  5.  2.  3.  7.  4. 15.]\n",
      "\t\u001b[1mFeature not NaN size:\u001b[0m 2500\n",
      "\t\u001b[1mType of values:\u001b[0m float64\n",
      "\u001b[95mПропусков нет\u001b[0m\n",
      "\u001b[92mПреобразовать в INT\u001b[0m\n",
      "**************************************************\n",
      "\u001b[1mMonths since last delinquent\u001b[0m\n",
      "\t\u001b[1mUnique values:\u001b[0m\n",
      "\t[70.  8. nan 41. 43.] ... [72. 76. 35. 82. 77.]\n",
      "\t\u001b[1mFeature not NaN size:\u001b[0m 1142\n",
      "\t\u001b[1mType of values:\u001b[0m float64\n",
      "\u001b[95mМного пропусков\u001b[0m 1358\n",
      "**************************************************\n",
      "\u001b[1mBankruptcies\u001b[0m\n",
      "\t\u001b[1mUnique values:\u001b[0m\n",
      "\t[ 0.  1.  5. nan  2.  3.  4.]\n",
      "\t\u001b[1mFeature not NaN size:\u001b[0m 2497\n",
      "\t\u001b[1mType of values:\u001b[0m float64\n",
      "\u001b[95mНемного пропусков\u001b[0m 3\n",
      "**************************************************\n",
      "\u001b[1mPurpose\u001b[0m\n",
      "\t\u001b[1mUnique values:\u001b[0m\n",
      "\t['debt consolidation' 'educational expenses' 'home improvements'\n",
      " 'major purchase' 'other' 'buy a car' 'medical bills' 'buy house'\n",
      " 'business loan' 'take a trip' 'small business' 'moving' 'vacation'\n",
      " 'wedding']\n",
      "\t\u001b[1mFeature not NaN size:\u001b[0m 2500\n",
      "\t\u001b[1mType of values:\u001b[0m object\n",
      "\u001b[95mПропусков нет\u001b[0m\n",
      "**************************************************\n",
      "\u001b[1mTerm\u001b[0m\n",
      "\t\u001b[1mUnique values:\u001b[0m\n",
      "\t['Short Term' 'Long Term']\n",
      "\t\u001b[1mFeature not NaN size:\u001b[0m 2500\n",
      "\t\u001b[1mType of values:\u001b[0m object\n",
      "\u001b[95mПропусков нет\u001b[0m\n",
      "\u001b[94mПреобразовать значения категориального признака Term в 0 и 1\u001b[0m\n",
      "**************************************************\n",
      "\u001b[1mCurrent Loan Amount\u001b[0m\n",
      "\t\u001b[1mUnique values:\u001b[0m\n",
      "\t[162470.  78298. 200178. 217382. 777634.] ... [368786. 468512. 430496. 257774. 763004.]\n",
      "\t\u001b[1mFeature not NaN size:\u001b[0m 2500\n",
      "\t\u001b[1mType of values:\u001b[0m float64\n",
      "\u001b[95mПропусков нет\u001b[0m\n",
      "\u001b[92mПреобразовать в INT\u001b[0m\n",
      "**************************************************\n",
      "\u001b[1mCurrent Credit Balance\u001b[0m\n",
      "\t\u001b[1mUnique values:\u001b[0m\n",
      "\t[105906.  46037. 146490. 213199. 425391.] ... [ 162735. 1439269.  676438.  391248.  559531.]\n",
      "\t\u001b[1mFeature not NaN size:\u001b[0m 2500\n",
      "\t\u001b[1mType of values:\u001b[0m float64\n",
      "\u001b[95mПропусков нет\u001b[0m\n",
      "\u001b[92mПреобразовать в INT\u001b[0m\n",
      "**************************************************\n",
      "\u001b[1mMonthly Debt\u001b[0m\n",
      "\t\u001b[1mUnique values:\u001b[0m\n",
      "\t[ 6813.  2318. 18729. 27559. 42605.] ... [15046. 32996. 36912. 13506. 23440.]\n",
      "\t\u001b[1mFeature not NaN size:\u001b[0m 2500\n",
      "\t\u001b[1mType of values:\u001b[0m float64\n",
      "\u001b[95mПропусков нет\u001b[0m\n",
      "\u001b[92mПреобразовать в INT\u001b[0m\n",
      "**************************************************\n",
      "\u001b[1mCredit Score\u001b[0m\n",
      "\t\u001b[1mUnique values:\u001b[0m\n",
      "\t[  nan  699. 7260.  739.  706.] ... [6660.  639. 7300.  631. 6470.]\n",
      "\t\u001b[1mFeature not NaN size:\u001b[0m 1987\n",
      "\t\u001b[1mType of values:\u001b[0m float64\n",
      "\u001b[95mМного пропусков\u001b[0m 513\n",
      "**************************************************\n"
     ]
    }
   ],
   "source": [
    "# Тестовый датасет\n",
    "test_pass_features, test_features_to_int, test_features_binary, test_features_dummies = check_feature_values(test_full)"
   ]
  },
  {
   "cell_type": "markdown",
   "metadata": {},
   "source": [
    "### Изменение типа признаков на int"
   ]
  },
  {
   "cell_type": "code",
   "execution_count": 478,
   "metadata": {},
   "outputs": [
    {
     "name": "stdout",
     "output_type": "stream",
     "text": [
      "\tПреобразование типа признаков для датасета \u001b[1mtest_full\u001b[0m:\n",
      "Значения признака \u001b[1mTax Liens\u001b[0m преобразованы в int\n",
      "Значения признака \u001b[1mNumber of Open Accounts\u001b[0m преобразованы в int\n",
      "Значения признака \u001b[1mMaximum Open Credit\u001b[0m преобразованы в int\n",
      "Значения признака \u001b[1mNumber of Credit Problems\u001b[0m преобразованы в int\n",
      "Значения признака \u001b[1mCurrent Loan Amount\u001b[0m преобразованы в int\n",
      "Значения признака \u001b[1mCurrent Credit Balance\u001b[0m преобразованы в int\n",
      "Значения признака \u001b[1mMonthly Debt\u001b[0m преобразованы в int\n"
     ]
    }
   ],
   "source": [
    "f_features_to_int(test_full, 'test_full', test_features_to_int)"
   ]
  },
  {
   "cell_type": "markdown",
   "metadata": {},
   "source": [
    "Преобразование признака \"Years in current job\" для тестового датасета:"
   ]
  },
  {
   "cell_type": "code",
   "execution_count": 483,
   "metadata": {},
   "outputs": [],
   "source": [
    "replace_year_to_num(test_full)"
   ]
  },
  {
   "cell_type": "code",
   "execution_count": 484,
   "metadata": {},
   "outputs": [],
   "source": [
    "test_full.loc[test_full['Current Loan Amount'] == 99999999, 'Current Loan Amount'] = test_full['Current Loan Amount'].median()"
   ]
  },
  {
   "cell_type": "code",
   "execution_count": 485,
   "metadata": {},
   "outputs": [],
   "source": [
    "test_full.loc[test_full['Credit Score'] > 850, 'Credit Score'] = test_full.loc[test_full['Credit Score'] > 850, 'Credit Score'] / 10"
   ]
  },
  {
   "cell_type": "code",
   "execution_count": 486,
   "metadata": {},
   "outputs": [
    {
     "name": "stdout",
     "output_type": "stream",
     "text": [
      "TEST:\n",
      "{'Annual Income': 513, 'Years in current job': 86, 'Months since last delinquent': 1358, 'Bankruptcies': 3, 'Credit Score': 513}\n"
     ]
    }
   ],
   "source": [
    "print(f\"TEST:\\n{test_pass_features}\")"
   ]
  },
  {
   "cell_type": "code",
   "execution_count": 487,
   "metadata": {},
   "outputs": [],
   "source": [
    "# Медианы\n",
    "annual_income_median = test_full['Annual Income'].median()\n",
    "credit_score_median = test_full['Credit Score'].median()\n",
    "years_in_current_job_median = test_full['Years in current job'].median()"
   ]
  },
  {
   "cell_type": "code",
   "execution_count": 488,
   "metadata": {},
   "outputs": [],
   "source": [
    "test_full.loc[test_full['Annual Income'].isna(), 'Annual Income'] = annual_income_median\n",
    "test_full.loc[test_full['Credit Score'].isna(), 'Credit Score'] = credit_score_median\n",
    "test_full.loc[test_full['Years in current job'].isna(), 'Years in current job'] = years_in_current_job_median\n",
    "test_full['Bankruptcies'].fillna(test_full['Bankruptcies'].mode().iloc[0], inplace=True)"
   ]
  },
  {
   "cell_type": "code",
   "execution_count": 489,
   "metadata": {},
   "outputs": [],
   "source": [
    "test_full[\"Bankruptcies\"] = test_full[\"Bankruptcies\"].astype(object)"
   ]
  },
  {
   "cell_type": "code",
   "execution_count": 490,
   "metadata": {},
   "outputs": [],
   "source": [
    "# test_full.drop(['Months since last delinquent'], axis=1, inplace=True)\n",
    "test_full.loc[test_full['Months since last delinquent'].isna(), 'Months since last delinquent'] = 0"
   ]
  },
  {
   "cell_type": "code",
   "execution_count": 491,
   "metadata": {},
   "outputs": [
    {
     "name": "stdout",
     "output_type": "stream",
     "text": [
      "Число пропусков в TEST:\n",
      "0\n"
     ]
    }
   ],
   "source": [
    "print(f'Число пропусков в TEST:\\n{test_full.isna().sum().sum()}')"
   ]
  },
  {
   "cell_type": "code",
   "execution_count": 492,
   "metadata": {},
   "outputs": [],
   "source": [
    "test_full.replace({'Term': {'Short Term': 0, 'Long Term': 1}}, inplace=True)"
   ]
  },
  {
   "cell_type": "code",
   "execution_count": 493,
   "metadata": {},
   "outputs": [
    {
     "name": "stdout",
     "output_type": "stream",
     "text": [
      "Значения признака \u001b[1mHome Ownership\u001b[0m преобразованы в DUMMIES\n",
      "Значения признака \u001b[1mBankruptcies\u001b[0m преобразованы в DUMMIES\n",
      "Значения признака \u001b[1mPurpose\u001b[0m преобразованы в DUMMIES\n"
     ]
    }
   ],
   "source": [
    "test_full = cat_to_dummies(test_full)"
   ]
  },
  {
   "cell_type": "code",
   "execution_count": 494,
   "metadata": {},
   "outputs": [],
   "source": [
    "test_full.drop(['Home Ownership', 'Bankruptcies', 'Purpose'], axis=1, inplace=True)"
   ]
  },
  {
   "cell_type": "code",
   "execution_count": 495,
   "metadata": {},
   "outputs": [],
   "source": [
    "test_full = norm_stand_scal(test_full, cont_cols)"
   ]
  },
  {
   "cell_type": "code",
   "execution_count": 496,
   "metadata": {},
   "outputs": [],
   "source": [
    "# test_full[cat_cols] = test_full[cat_cols].astype(str)"
   ]
  },
  {
   "cell_type": "code",
   "execution_count": 497,
   "metadata": {},
   "outputs": [],
   "source": [
    "# test_full = test_full[TRAIN_FEATURES_NAMES]\n",
    "# test_full.info()"
   ]
  },
  {
   "cell_type": "code",
   "execution_count": 498,
   "metadata": {},
   "outputs": [],
   "source": [
    "# Проводим предсказание на тестовых данных\n",
    "TEST_FEATURES_NAMES_DUM = TRAIN_FEATURES_NAMES_DUM.drop('Purpose_renewable energy')\n",
    "pred_test = final_model.predict(test_full[TEST_FEATURES_NAMES_DUM])"
   ]
  },
  {
   "cell_type": "code",
   "execution_count": 499,
   "metadata": {},
   "outputs": [],
   "source": [
    "test_full[TARGET_NAME] = pred_test\n",
    "test_full[TARGET_NAME] = test_full[TARGET_NAME].astype('int')"
   ]
  },
  {
   "cell_type": "code",
   "execution_count": 500,
   "metadata": {},
   "outputs": [],
   "source": [
    "# Сохраняем полученные предсказания\n",
    "# test_full.loc[:, ['Id', TARGET_NAME]].to_csv('./kaggle/damkkh_predictions_20201027_0827.csv', index=None)\n",
    "test_full[['Id', TARGET_NAME]].to_csv('./kaggle/damkkh_predictions_20201028_0746.csv', index=False)"
   ]
  },
  {
   "cell_type": "code",
   "execution_count": null,
   "metadata": {},
   "outputs": [],
   "source": []
  }
 ],
 "metadata": {
  "kernelspec": {
   "display_name": "Python 3",
   "language": "python",
   "name": "python3"
  },
  "language_info": {
   "codemirror_mode": {
    "name": "ipython",
    "version": 3
   },
   "file_extension": ".py",
   "mimetype": "text/x-python",
   "name": "python",
   "nbconvert_exporter": "python",
   "pygments_lexer": "ipython3",
   "version": "3.7.9"
  }
 },
 "nbformat": 4,
 "nbformat_minor": 4
}
