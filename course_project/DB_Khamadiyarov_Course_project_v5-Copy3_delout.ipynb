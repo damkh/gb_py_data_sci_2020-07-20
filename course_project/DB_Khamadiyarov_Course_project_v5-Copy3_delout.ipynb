{
 "cells": [
  {
   "cell_type": "markdown",
   "metadata": {},
   "source": [
    "# Курсовой проект"
   ]
  },
  {
   "cell_type": "markdown",
   "metadata": {},
   "source": [
    "## Описание проекта\n",
    "**Задача**\n",
    "\n",
    "Требуется, на основании имеющихся данных о клиентах банка, построить модель, используя обучающий датасет, для прогнозирования невыполнения долговых обязательств по текущему кредиту. Выполнить прогноз для примеров из тестового датасета.\n",
    "\n",
    "**Наименование файлов с данными**\n",
    "\n",
    "course_project_train.csv - обучающий датасет<br>\n",
    "course_project_test.csv - тестовый датасет\n",
    "\n",
    "**Целевая переменная**\n",
    "\n",
    "Credit Default - факт невыполнения кредитных обязательств\n",
    "\n",
    "**Метрика качества**\n",
    "\n",
    "F1-score (sklearn.metrics.f1_score)\n",
    "\n",
    "**Требования к решению**\n",
    "\n",
    "*Целевая метрика*\n",
    "* F1 > 0.5\n",
    "* Метрика оценивается по качеству прогноза для главного класса (1 - просрочка по кредиту)\n",
    "\n",
    "*Решение должно содержать*\n",
    "1. Тетрадка Jupyter Notebook с кодом Вашего решения, названная по образцу {ФИО}\\_solution.ipynb, пример SShirkin\\_solution.ipynb\n",
    "2. Файл CSV с прогнозами целевой переменной для тестового датасета, названный по образцу {ФИО}\\_predictions.csv, пример SShirkin\\_predictions.csv\n",
    "\n",
    "*Рекомендации для файла с кодом (ipynb)*\n",
    "1. Файл должен содержать заголовки и комментарии (markdown)\n",
    "2. Повторяющиеся операции лучше оформлять в виде функций\n",
    "3. Не делать вывод большого количества строк таблиц (5-10 достаточно)\n",
    "4. По возможности добавлять графики, описывающие данные (около 3-5)\n",
    "5. Добавлять только лучшую модель, то есть не включать в код все варианты решения проекта\n",
    "6. Скрипт проекта должен отрабатывать от начала и до конца (от загрузки данных до выгрузки предсказаний)\n",
    "7. Весь проект должен быть в одном скрипте (файл ipynb).\n",
    "8. Допускается применение библиотек Python и моделей машинного обучения,\n",
    "которые были в данном курсе."
   ]
  },
  {
   "cell_type": "markdown",
   "metadata": {},
   "source": [
    "## Обзор данных<a class=\"anchor\" id=\"course_project_review\"></a>\n",
    "**Описание датасета**\n",
    "\n",
    "* **Home Ownership** - домовладение\n",
    "* **Annual Income** - годовой доход\n",
    "* **Years in current job** - количество лет на текущем месте работы\n",
    "* **Tax Liens** - налоговые обременения\n",
    "* **Number of Open Accounts** - количество открытых счетов\n",
    "* **Years of Credit History** - количество лет кредитной истории\n",
    "* **Maximum Open Credit** - наибольший открытый кредит\n",
    "* **Number of Credit Problems** - количество проблем с кредитом\n",
    "* **Months since last delinquent** - количество месяцев с последней просрочки платежа\n",
    "* **Bankruptcies** - банкротства\n",
    "* **Purpose** - цель кредита\n",
    "* **Term** - срок кредита\n",
    "* **Current Loan Amount** - текущая сумма кредита\n",
    "* **Current Credit Balance** - текущий кредитный баланс\n",
    "* **Monthly Debt** - ежемесячный долг\n",
    "* **Credit Score** - кредитный рейтинг\n",
    "* **Credit Default** - факт невыполнения кредитных обязательств (0 - погашен вовремя, 1 - просрочка)"
   ]
  },
  {
   "cell_type": "code",
   "execution_count": 487,
   "metadata": {},
   "outputs": [],
   "source": [
    "import numpy as np\n",
    "import pandas as pd\n",
    "import scipy as sc\n",
    "import matplotlib.pyplot as plt\n",
    "import seaborn as sns\n",
    "import time\n",
    "import warnings\n",
    "\n",
    "from scipy.stats import chi2_contingency\n",
    "\n",
    "from sklearn.model_selection import train_test_split\n",
    "from sklearn.linear_model import LinearRegression\n",
    "from sklearn.ensemble import RandomForestRegressor\n",
    "from sklearn.preprocessing import StandardScaler\n",
    "from sklearn.calibration import CalibratedClassifierCV\n",
    "\n",
    "%matplotlib inline\n",
    "warnings.filterwarnings('ignore')"
   ]
  },
  {
   "cell_type": "markdown",
   "metadata": {},
   "source": [
    "**Пути к директориям и файлам**"
   ]
  },
  {
   "cell_type": "code",
   "execution_count": 488,
   "metadata": {},
   "outputs": [],
   "source": [
    "TRAIN_DATASET_PATH = './kaggle/train.csv'\n",
    "TEST_DATASET_PATH = './kaggle/test.csv'"
   ]
  },
  {
   "cell_type": "code",
   "execution_count": 489,
   "metadata": {},
   "outputs": [],
   "source": [
    "tfull = pd.read_csv(TRAIN_DATASET_PATH)\n",
    "train_full = tfull.copy()"
   ]
  },
  {
   "cell_type": "code",
   "execution_count": 490,
   "metadata": {},
   "outputs": [],
   "source": [
    "# N = 5000\n",
    "# #train\n",
    "# train_full = tfull.iloc[:N,:].copy()\n",
    "# #test\n",
    "# test_full = tfull.iloc[N:,:-1].copy()\n",
    "# #key ans\n",
    "# test_full_ans = tfull.iloc[N:,-1].copy()\n",
    "\n",
    "# display(train_full.shape)\n",
    "# display(test_full.shape)"
   ]
  },
  {
   "cell_type": "code",
   "execution_count": 491,
   "metadata": {},
   "outputs": [],
   "source": [
    "TARGET_NAME = 'Credit Default'\n",
    "BASE_FEATURE_NAMES = train_full.columns.drop(TARGET_NAME).tolist()\n",
    "# TEST_BASE_FEATURE_NAMES = test_full.columns.tolist()\n",
    "NEW_FEATURE_NAMES = train_full.columns.drop([TARGET_NAME] + BASE_FEATURE_NAMES)"
   ]
  },
  {
   "cell_type": "code",
   "execution_count": 492,
   "metadata": {},
   "outputs": [
    {
     "data": {
      "text/html": [
       "<div>\n",
       "<style scoped>\n",
       "    .dataframe tbody tr th:only-of-type {\n",
       "        vertical-align: middle;\n",
       "    }\n",
       "\n",
       "    .dataframe tbody tr th {\n",
       "        vertical-align: top;\n",
       "    }\n",
       "\n",
       "    .dataframe thead th {\n",
       "        text-align: right;\n",
       "    }\n",
       "</style>\n",
       "<table border=\"1\" class=\"dataframe\">\n",
       "  <thead>\n",
       "    <tr style=\"text-align: right;\">\n",
       "      <th></th>\n",
       "      <th>count</th>\n",
       "      <th>mean</th>\n",
       "      <th>std</th>\n",
       "      <th>min</th>\n",
       "      <th>25%</th>\n",
       "      <th>50%</th>\n",
       "      <th>75%</th>\n",
       "      <th>max</th>\n",
       "    </tr>\n",
       "  </thead>\n",
       "  <tbody>\n",
       "    <tr>\n",
       "      <th>Id</th>\n",
       "      <td>7500.0</td>\n",
       "      <td>3.749500e+03</td>\n",
       "      <td>2.165208e+03</td>\n",
       "      <td>0.0</td>\n",
       "      <td>1874.75</td>\n",
       "      <td>3749.5</td>\n",
       "      <td>5624.25</td>\n",
       "      <td>7.499000e+03</td>\n",
       "    </tr>\n",
       "    <tr>\n",
       "      <th>Annual Income</th>\n",
       "      <td>5943.0</td>\n",
       "      <td>1.366392e+06</td>\n",
       "      <td>8.453392e+05</td>\n",
       "      <td>164597.0</td>\n",
       "      <td>844341.00</td>\n",
       "      <td>1168386.0</td>\n",
       "      <td>1640137.00</td>\n",
       "      <td>1.014934e+07</td>\n",
       "    </tr>\n",
       "    <tr>\n",
       "      <th>Tax Liens</th>\n",
       "      <td>7500.0</td>\n",
       "      <td>3.013333e-02</td>\n",
       "      <td>2.716035e-01</td>\n",
       "      <td>0.0</td>\n",
       "      <td>0.00</td>\n",
       "      <td>0.0</td>\n",
       "      <td>0.00</td>\n",
       "      <td>7.000000e+00</td>\n",
       "    </tr>\n",
       "    <tr>\n",
       "      <th>Number of Open Accounts</th>\n",
       "      <td>7500.0</td>\n",
       "      <td>1.113093e+01</td>\n",
       "      <td>4.908924e+00</td>\n",
       "      <td>2.0</td>\n",
       "      <td>8.00</td>\n",
       "      <td>10.0</td>\n",
       "      <td>14.00</td>\n",
       "      <td>4.300000e+01</td>\n",
       "    </tr>\n",
       "    <tr>\n",
       "      <th>Years of Credit History</th>\n",
       "      <td>7500.0</td>\n",
       "      <td>1.831747e+01</td>\n",
       "      <td>7.041946e+00</td>\n",
       "      <td>4.0</td>\n",
       "      <td>13.50</td>\n",
       "      <td>17.0</td>\n",
       "      <td>21.80</td>\n",
       "      <td>5.770000e+01</td>\n",
       "    </tr>\n",
       "    <tr>\n",
       "      <th>Maximum Open Credit</th>\n",
       "      <td>7500.0</td>\n",
       "      <td>9.451537e+05</td>\n",
       "      <td>1.602622e+07</td>\n",
       "      <td>0.0</td>\n",
       "      <td>279229.50</td>\n",
       "      <td>478159.0</td>\n",
       "      <td>793501.50</td>\n",
       "      <td>1.304726e+09</td>\n",
       "    </tr>\n",
       "    <tr>\n",
       "      <th>Number of Credit Problems</th>\n",
       "      <td>7500.0</td>\n",
       "      <td>1.700000e-01</td>\n",
       "      <td>4.985978e-01</td>\n",
       "      <td>0.0</td>\n",
       "      <td>0.00</td>\n",
       "      <td>0.0</td>\n",
       "      <td>0.00</td>\n",
       "      <td>7.000000e+00</td>\n",
       "    </tr>\n",
       "    <tr>\n",
       "      <th>Months since last delinquent</th>\n",
       "      <td>3419.0</td>\n",
       "      <td>3.469260e+01</td>\n",
       "      <td>2.168881e+01</td>\n",
       "      <td>0.0</td>\n",
       "      <td>16.00</td>\n",
       "      <td>32.0</td>\n",
       "      <td>50.00</td>\n",
       "      <td>1.180000e+02</td>\n",
       "    </tr>\n",
       "    <tr>\n",
       "      <th>Bankruptcies</th>\n",
       "      <td>7486.0</td>\n",
       "      <td>1.171520e-01</td>\n",
       "      <td>3.471917e-01</td>\n",
       "      <td>0.0</td>\n",
       "      <td>0.00</td>\n",
       "      <td>0.0</td>\n",
       "      <td>0.00</td>\n",
       "      <td>4.000000e+00</td>\n",
       "    </tr>\n",
       "    <tr>\n",
       "      <th>Current Loan Amount</th>\n",
       "      <td>7500.0</td>\n",
       "      <td>1.187318e+07</td>\n",
       "      <td>3.192612e+07</td>\n",
       "      <td>11242.0</td>\n",
       "      <td>180169.00</td>\n",
       "      <td>309573.0</td>\n",
       "      <td>519882.00</td>\n",
       "      <td>1.000000e+08</td>\n",
       "    </tr>\n",
       "    <tr>\n",
       "      <th>Current Credit Balance</th>\n",
       "      <td>7500.0</td>\n",
       "      <td>2.898332e+05</td>\n",
       "      <td>3.178714e+05</td>\n",
       "      <td>0.0</td>\n",
       "      <td>114256.50</td>\n",
       "      <td>209323.0</td>\n",
       "      <td>360406.25</td>\n",
       "      <td>6.506797e+06</td>\n",
       "    </tr>\n",
       "    <tr>\n",
       "      <th>Monthly Debt</th>\n",
       "      <td>7500.0</td>\n",
       "      <td>1.831445e+04</td>\n",
       "      <td>1.192676e+04</td>\n",
       "      <td>0.0</td>\n",
       "      <td>10067.50</td>\n",
       "      <td>16076.5</td>\n",
       "      <td>23818.00</td>\n",
       "      <td>1.366790e+05</td>\n",
       "    </tr>\n",
       "    <tr>\n",
       "      <th>Credit Score</th>\n",
       "      <td>5943.0</td>\n",
       "      <td>1.151087e+03</td>\n",
       "      <td>1.604451e+03</td>\n",
       "      <td>585.0</td>\n",
       "      <td>711.00</td>\n",
       "      <td>731.0</td>\n",
       "      <td>743.00</td>\n",
       "      <td>7.510000e+03</td>\n",
       "    </tr>\n",
       "    <tr>\n",
       "      <th>Credit Default</th>\n",
       "      <td>7500.0</td>\n",
       "      <td>2.817333e-01</td>\n",
       "      <td>4.498740e-01</td>\n",
       "      <td>0.0</td>\n",
       "      <td>0.00</td>\n",
       "      <td>0.0</td>\n",
       "      <td>1.00</td>\n",
       "      <td>1.000000e+00</td>\n",
       "    </tr>\n",
       "  </tbody>\n",
       "</table>\n",
       "</div>"
      ],
      "text/plain": [
       "                               count          mean           std       min  \\\n",
       "Id                            7500.0  3.749500e+03  2.165208e+03       0.0   \n",
       "Annual Income                 5943.0  1.366392e+06  8.453392e+05  164597.0   \n",
       "Tax Liens                     7500.0  3.013333e-02  2.716035e-01       0.0   \n",
       "Number of Open Accounts       7500.0  1.113093e+01  4.908924e+00       2.0   \n",
       "Years of Credit History       7500.0  1.831747e+01  7.041946e+00       4.0   \n",
       "Maximum Open Credit           7500.0  9.451537e+05  1.602622e+07       0.0   \n",
       "Number of Credit Problems     7500.0  1.700000e-01  4.985978e-01       0.0   \n",
       "Months since last delinquent  3419.0  3.469260e+01  2.168881e+01       0.0   \n",
       "Bankruptcies                  7486.0  1.171520e-01  3.471917e-01       0.0   \n",
       "Current Loan Amount           7500.0  1.187318e+07  3.192612e+07   11242.0   \n",
       "Current Credit Balance        7500.0  2.898332e+05  3.178714e+05       0.0   \n",
       "Monthly Debt                  7500.0  1.831445e+04  1.192676e+04       0.0   \n",
       "Credit Score                  5943.0  1.151087e+03  1.604451e+03     585.0   \n",
       "Credit Default                7500.0  2.817333e-01  4.498740e-01       0.0   \n",
       "\n",
       "                                    25%        50%         75%           max  \n",
       "Id                              1874.75     3749.5     5624.25  7.499000e+03  \n",
       "Annual Income                 844341.00  1168386.0  1640137.00  1.014934e+07  \n",
       "Tax Liens                          0.00        0.0        0.00  7.000000e+00  \n",
       "Number of Open Accounts            8.00       10.0       14.00  4.300000e+01  \n",
       "Years of Credit History           13.50       17.0       21.80  5.770000e+01  \n",
       "Maximum Open Credit           279229.50   478159.0   793501.50  1.304726e+09  \n",
       "Number of Credit Problems          0.00        0.0        0.00  7.000000e+00  \n",
       "Months since last delinquent      16.00       32.0       50.00  1.180000e+02  \n",
       "Bankruptcies                       0.00        0.0        0.00  4.000000e+00  \n",
       "Current Loan Amount           180169.00   309573.0   519882.00  1.000000e+08  \n",
       "Current Credit Balance        114256.50   209323.0   360406.25  6.506797e+06  \n",
       "Monthly Debt                   10067.50    16076.5    23818.00  1.366790e+05  \n",
       "Credit Score                     711.00      731.0      743.00  7.510000e+03  \n",
       "Credit Default                     0.00        0.0        1.00  1.000000e+00  "
      ]
     },
     "execution_count": 492,
     "metadata": {},
     "output_type": "execute_result"
    }
   ],
   "source": [
    "train_full.describe().T"
   ]
  },
  {
   "cell_type": "code",
   "execution_count": 493,
   "metadata": {
    "scrolled": true
   },
   "outputs": [
    {
     "name": "stdout",
     "output_type": "stream",
     "text": [
      "<class 'pandas.core.frame.DataFrame'>\n",
      "RangeIndex: 7500 entries, 0 to 7499\n",
      "Data columns (total 18 columns):\n",
      " #   Column                        Non-Null Count  Dtype  \n",
      "---  ------                        --------------  -----  \n",
      " 0   Id                            7500 non-null   int64  \n",
      " 1   Home Ownership                7500 non-null   object \n",
      " 2   Annual Income                 5943 non-null   float64\n",
      " 3   Years in current job          7129 non-null   object \n",
      " 4   Tax Liens                     7500 non-null   float64\n",
      " 5   Number of Open Accounts       7500 non-null   float64\n",
      " 6   Years of Credit History       7500 non-null   float64\n",
      " 7   Maximum Open Credit           7500 non-null   float64\n",
      " 8   Number of Credit Problems     7500 non-null   float64\n",
      " 9   Months since last delinquent  3419 non-null   float64\n",
      " 10  Bankruptcies                  7486 non-null   float64\n",
      " 11  Purpose                       7500 non-null   object \n",
      " 12  Term                          7500 non-null   object \n",
      " 13  Current Loan Amount           7500 non-null   float64\n",
      " 14  Current Credit Balance        7500 non-null   float64\n",
      " 15  Monthly Debt                  7500 non-null   float64\n",
      " 16  Credit Score                  5943 non-null   float64\n",
      " 17  Credit Default                7500 non-null   int64  \n",
      "dtypes: float64(12), int64(2), object(4)\n",
      "memory usage: 1.0+ MB\n"
     ]
    }
   ],
   "source": [
    "train_full.info()"
   ]
  },
  {
   "cell_type": "markdown",
   "metadata": {},
   "source": [
    "### Проверка значений базовых признаков\n",
    "Функция _check_feature_values(df)_ выводит информацию о типе данных признака, количество пропусков, уникальные значения, определяет возможность преобразования float &#8594; int"
   ]
  },
  {
   "cell_type": "code",
   "execution_count": 494,
   "metadata": {},
   "outputs": [],
   "source": [
    "def check_feature_values(df):\n",
    "    FEATURE_NAMES = BASE_FEATURE_NAMES\n",
    "    dataset_size = df.index.size\n",
    "    features_to_int = []\n",
    "    features_with_nans = {}\n",
    "    features_binary = []\n",
    "    features_dummies = []\n",
    "    for feature in FEATURE_NAMES:\n",
    "        non_nan_count = df[feature].count()\n",
    "        unique_values = df[feature].unique()\n",
    "        if len(unique_values) > 20:\n",
    "            unique_values_str = str(unique_values[:5]) + ' ... ' + str(unique_values[len(unique_values) - 5:])\n",
    "        else:\n",
    "            unique_values_str = str(unique_values)\n",
    "        print(f\"\\033[1m{feature}\\033[0m\")\n",
    "        print(f\"\\t\\033[1mUnique values:\\033[0m\\n\\t{unique_values_str}\")\n",
    "        print(f\"\\t\\033[1mFeature not NaN size:\\033[0m {non_nan_count}\")\n",
    "        print(f\"\\t\\033[1mType of values:\\033[0m {df.dtypes[feature]}\")\n",
    "        if non_nan_count == dataset_size:\n",
    "            print(f\"\\033[95mПропусков нет\\033[0m\")\n",
    "        elif non_nan_count / dataset_size > 0.9:\n",
    "            print(f\"\\033[95mНемного пропусков\\033[0m {dataset_size - non_nan_count}\")\n",
    "        else:\n",
    "            print(f\"\\033[95mМного пропусков\\033[0m {dataset_size - non_nan_count}\")\n",
    "\n",
    "        # Проверка float-значений на целые.\n",
    "        # Если тип float, но при этом дробные части всех элементов равны 0, можно преобразовать в int\n",
    "        int_flag = True\n",
    "\n",
    "        if df.dtypes[feature] == np.float64 and dataset_size == non_nan_count:\n",
    "            for i in df[feature]:\n",
    "                try:      \n",
    "                    if not pd.isna(i) and i != int(i):\n",
    "                        int_flag = False\n",
    "                        break\n",
    "                except:\n",
    "                    int_flag = False\n",
    "        else:\n",
    "            int_flag = False\n",
    "        if int_flag:\n",
    "            print(f\"\\033[92mПреобразовать в INT\\033[0m\")\n",
    "            features_to_int.append(feature)\n",
    "\n",
    "        # Формирование словаря признаков с пропусками\n",
    "        if dataset_size != non_nan_count:\n",
    "            features_with_nans[feature] = dataset_size - non_nan_count\n",
    "\n",
    "        # Если признак состоит из 2 значений типа object, можно заменить их на 0 и 1\n",
    "        if df.dtypes[feature] == np.object and len(unique_values) == 2:\n",
    "            features_binary.append(feature)\n",
    "            print(f\"\\033[94mПреобразовать значения категориального признака {feature} в 0 и 1\\033[0m\")\n",
    "        if df.dtypes[feature] == np.object and len(unique_values) > 2:\n",
    "            features_dummies.append(feature)\n",
    "        print('*' * 50)\n",
    "    return features_with_nans, features_to_int, features_binary, features_dummies"
   ]
  },
  {
   "cell_type": "code",
   "execution_count": 495,
   "metadata": {},
   "outputs": [
    {
     "name": "stdout",
     "output_type": "stream",
     "text": [
      "\u001b[1mId\u001b[0m\n",
      "\t\u001b[1mUnique values:\u001b[0m\n",
      "\t[0 1 2 3 4] ... [7495 7496 7497 7498 7499]\n",
      "\t\u001b[1mFeature not NaN size:\u001b[0m 7500\n",
      "\t\u001b[1mType of values:\u001b[0m int64\n",
      "\u001b[95mПропусков нет\u001b[0m\n",
      "**************************************************\n",
      "\u001b[1mHome Ownership\u001b[0m\n",
      "\t\u001b[1mUnique values:\u001b[0m\n",
      "\t['Own Home' 'Home Mortgage' 'Rent' 'Have Mortgage']\n",
      "\t\u001b[1mFeature not NaN size:\u001b[0m 7500\n",
      "\t\u001b[1mType of values:\u001b[0m object\n",
      "\u001b[95mПропусков нет\u001b[0m\n",
      "**************************************************\n",
      "\u001b[1mAnnual Income\u001b[0m\n",
      "\t\u001b[1mUnique values:\u001b[0m\n",
      "\t[ 482087. 1025487.  751412.  805068.  776264.] ... [5327372. 1368000. 2833185. 1257610.  402192.]\n",
      "\t\u001b[1mFeature not NaN size:\u001b[0m 5943\n",
      "\t\u001b[1mType of values:\u001b[0m float64\n",
      "\u001b[95mМного пропусков\u001b[0m 1557\n",
      "**************************************************\n",
      "\u001b[1mYears in current job\u001b[0m\n",
      "\t\u001b[1mUnique values:\u001b[0m\n",
      "\t[nan '10+ years' '8 years' '6 years' '7 years' '5 years' '1 year'\n",
      " '< 1 year' '4 years' '3 years' '2 years' '9 years']\n",
      "\t\u001b[1mFeature not NaN size:\u001b[0m 7129\n",
      "\t\u001b[1mType of values:\u001b[0m object\n",
      "\u001b[95mНемного пропусков\u001b[0m 371\n",
      "**************************************************\n",
      "\u001b[1mTax Liens\u001b[0m\n",
      "\t\u001b[1mUnique values:\u001b[0m\n",
      "\t[0. 3. 1. 2. 4. 6. 5. 7.]\n",
      "\t\u001b[1mFeature not NaN size:\u001b[0m 7500\n",
      "\t\u001b[1mType of values:\u001b[0m float64\n",
      "\u001b[95mПропусков нет\u001b[0m\n",
      "\u001b[92mПреобразовать в INT\u001b[0m\n",
      "**************************************************\n",
      "\u001b[1mNumber of Open Accounts\u001b[0m\n",
      "\t\u001b[1mUnique values:\u001b[0m\n",
      "\t[11. 15.  8. 13. 12.] ... [34. 38. 35. 37. 42.]\n",
      "\t\u001b[1mFeature not NaN size:\u001b[0m 7500\n",
      "\t\u001b[1mType of values:\u001b[0m float64\n",
      "\u001b[95mПропусков нет\u001b[0m\n",
      "\u001b[92mПреобразовать в INT\u001b[0m\n",
      "**************************************************\n",
      "\u001b[1mYears of Credit History\u001b[0m\n",
      "\t\u001b[1mUnique values:\u001b[0m\n",
      "\t[26.3 15.3 35.  22.5 13.6] ... [38.9 42.  51.  34.7 48.3]\n",
      "\t\u001b[1mFeature not NaN size:\u001b[0m 7500\n",
      "\t\u001b[1mType of values:\u001b[0m float64\n",
      "\u001b[95mПропусков нет\u001b[0m\n",
      "**************************************************\n",
      "\u001b[1mMaximum Open Credit\u001b[0m\n",
      "\t\u001b[1mUnique values:\u001b[0m\n",
      "\t[ 685960. 1181730. 1182434.  147400.  385836.] ... [ 107866.  686312. 1778920. 1141250.  480832.]\n",
      "\t\u001b[1mFeature not NaN size:\u001b[0m 7500\n",
      "\t\u001b[1mType of values:\u001b[0m float64\n",
      "\u001b[95mПропусков нет\u001b[0m\n",
      "\u001b[92mПреобразовать в INT\u001b[0m\n",
      "**************************************************\n",
      "\u001b[1mNumber of Credit Problems\u001b[0m\n",
      "\t\u001b[1mUnique values:\u001b[0m\n",
      "\t[1. 0. 3. 2. 6. 4. 5. 7.]\n",
      "\t\u001b[1mFeature not NaN size:\u001b[0m 7500\n",
      "\t\u001b[1mType of values:\u001b[0m float64\n",
      "\u001b[95mПропусков нет\u001b[0m\n",
      "\u001b[92mПреобразовать в INT\u001b[0m\n",
      "**************************************************\n",
      "\u001b[1mMonths since last delinquent\u001b[0m\n",
      "\t\u001b[1mUnique values:\u001b[0m\n",
      "\t[nan 73. 18.  6. 40.] ... [ 83. 118.  84.  91.  92.]\n",
      "\t\u001b[1mFeature not NaN size:\u001b[0m 3419\n",
      "\t\u001b[1mType of values:\u001b[0m float64\n",
      "\u001b[95mМного пропусков\u001b[0m 4081\n",
      "**************************************************\n",
      "\u001b[1mBankruptcies\u001b[0m\n",
      "\t\u001b[1mUnique values:\u001b[0m\n",
      "\t[ 1.  0.  3. nan  2.  4.]\n",
      "\t\u001b[1mFeature not NaN size:\u001b[0m 7486\n",
      "\t\u001b[1mType of values:\u001b[0m float64\n",
      "\u001b[95mНемного пропусков\u001b[0m 14\n",
      "**************************************************\n",
      "\u001b[1mPurpose\u001b[0m\n",
      "\t\u001b[1mUnique values:\u001b[0m\n",
      "\t['debt consolidation' 'other' 'home improvements' 'take a trip'\n",
      " 'buy a car' 'small business' 'business loan' 'wedding'\n",
      " 'educational expenses' 'buy house' 'medical bills' 'moving'\n",
      " 'major purchase' 'vacation' 'renewable energy']\n",
      "\t\u001b[1mFeature not NaN size:\u001b[0m 7500\n",
      "\t\u001b[1mType of values:\u001b[0m object\n",
      "\u001b[95mПропусков нет\u001b[0m\n",
      "**************************************************\n",
      "\u001b[1mTerm\u001b[0m\n",
      "\t\u001b[1mUnique values:\u001b[0m\n",
      "\t['Short Term' 'Long Term']\n",
      "\t\u001b[1mFeature not NaN size:\u001b[0m 7500\n",
      "\t\u001b[1mType of values:\u001b[0m object\n",
      "\u001b[95mПропусков нет\u001b[0m\n",
      "\u001b[94mПреобразовать значения категориального признака Term в 0 и 1\u001b[0m\n",
      "**************************************************\n",
      "\u001b[1mCurrent Loan Amount\u001b[0m\n",
      "\t\u001b[1mUnique values:\u001b[0m\n",
      "\t[99999999.   264968.   121396.   125840.   337304.] ... [448052. 290400. 444048. 615274.  26928.]\n",
      "\t\u001b[1mFeature not NaN size:\u001b[0m 7500\n",
      "\t\u001b[1mType of values:\u001b[0m float64\n",
      "\u001b[95mПропусков нет\u001b[0m\n",
      "\u001b[92mПреобразовать в INT\u001b[0m\n",
      "**************************************************\n",
      "\u001b[1mCurrent Credit Balance\u001b[0m\n",
      "\t\u001b[1mUnique values:\u001b[0m\n",
      "\t[ 47386. 394972. 308389.  95855.  93309.] ... [ 73492. 456399. 477812. 476064. 288192.]\n",
      "\t\u001b[1mFeature not NaN size:\u001b[0m 7500\n",
      "\t\u001b[1mType of values:\u001b[0m float64\n",
      "\u001b[95mПропусков нет\u001b[0m\n",
      "\u001b[92mПреобразовать в INT\u001b[0m\n",
      "**************************************************\n",
      "\u001b[1mMonthly Debt\u001b[0m\n",
      "\t\u001b[1mUnique values:\u001b[0m\n",
      "\t[ 7914. 18373. 13651. 11338.  7180.] ... [ 1900. 12783. 12479. 37118.  9061.]\n",
      "\t\u001b[1mFeature not NaN size:\u001b[0m 7500\n",
      "\t\u001b[1mType of values:\u001b[0m float64\n",
      "\u001b[95mПропусков нет\u001b[0m\n",
      "\u001b[92mПреобразовать в INT\u001b[0m\n",
      "**************************************************\n",
      "\u001b[1mCredit Score\u001b[0m\n",
      "\t\u001b[1mUnique values:\u001b[0m\n",
      "\t[749. 737. 742. 694. 719.] ... [6750. 6880. 6770. 6410. 6060.]\n",
      "\t\u001b[1mFeature not NaN size:\u001b[0m 5943\n",
      "\t\u001b[1mType of values:\u001b[0m float64\n",
      "\u001b[95mМного пропусков\u001b[0m 1557\n",
      "**************************************************\n"
     ]
    }
   ],
   "source": [
    "# Тренировочный датасет\n",
    "train_pass_features, train_features_to_int, train_features_binary, train_features_dummies = check_feature_values(train_full)"
   ]
  },
  {
   "cell_type": "markdown",
   "metadata": {},
   "source": [
    "### Обзор целевого признака"
   ]
  },
  {
   "cell_type": "code",
   "execution_count": 496,
   "metadata": {},
   "outputs": [
    {
     "data": {
      "text/plain": [
       "0    5387\n",
       "1    2113\n",
       "Name: Credit Default, dtype: int64"
      ]
     },
     "execution_count": 496,
     "metadata": {},
     "output_type": "execute_result"
    }
   ],
   "source": [
    "train_full[TARGET_NAME].value_counts()"
   ]
  },
  {
   "cell_type": "markdown",
   "metadata": {},
   "source": [
    "Данные разбалансированы"
   ]
  },
  {
   "cell_type": "markdown",
   "metadata": {},
   "source": [
    "### Удаление строк с пропусками"
   ]
  },
  {
   "cell_type": "code",
   "execution_count": 497,
   "metadata": {},
   "outputs": [],
   "source": [
    "# train_full.columns"
   ]
  },
  {
   "cell_type": "code",
   "execution_count": 498,
   "metadata": {},
   "outputs": [],
   "source": [
    "# train_full.dropna(inplace=True)"
   ]
  },
  {
   "cell_type": "code",
   "execution_count": 499,
   "metadata": {},
   "outputs": [],
   "source": [
    "# train_full.info()"
   ]
  },
  {
   "cell_type": "code",
   "execution_count": null,
   "metadata": {},
   "outputs": [],
   "source": []
  },
  {
   "cell_type": "markdown",
   "metadata": {},
   "source": [
    "## Анализ и обработка признаков"
   ]
  },
  {
   "cell_type": "code",
   "execution_count": 500,
   "metadata": {},
   "outputs": [],
   "source": [
    "def CHi_check(df, col, list_samp, sample_num):\n",
    "#     print(f\"col: {col}\")\n",
    "    p = 0\n",
    "    df_isin_samp = df[col].isin(list_samp)\n",
    "    numb_sample = np.sum(df_isin_samp)\n",
    "#     print(numb_sample)\n",
    "    if numb_sample > sample_num:\n",
    "#         numb_sample = 500\n",
    "#         if numb_sample > 50:\n",
    "        col_and_target_s = df.loc[df_isin_samp, ['Id', col, TARGET_NAME]].sample(sample_num)\n",
    "#         print(col_and_target_s) \n",
    "        table = col_and_target_s.pivot_table(values='Id', index=col, columns=TARGET_NAME, aggfunc='count')\n",
    "#         print(table)\n",
    "\n",
    "        chi2, p, dof, expected = chi2_contingency(table, correction=False)\n",
    "        return p"
   ]
  },
  {
   "cell_type": "code",
   "execution_count": 501,
   "metadata": {},
   "outputs": [],
   "source": [
    "alpha = 0.05\n",
    "def check_feature_chi(df, feature, sample_num):\n",
    "    f_uniq = df[feature].unique()\n",
    "    #print(feature,': ',f_uniq)\n",
    "    for i in f_uniq:\n",
    "        for j in f_uniq:\n",
    "            if i != j:\n",
    "                try:\n",
    "                    p = CHi_check(df, feature, [i,j], sample_num)\n",
    "                    if p > alpha:\n",
    "                        print(f\"{feature}: [{i}, {j}] - {p}\")\n",
    "                except:\n",
    "                    pass"
   ]
  },
  {
   "cell_type": "code",
   "execution_count": 502,
   "metadata": {},
   "outputs": [],
   "source": [
    "# countplot по отношению к целевому признаку\n",
    "def countplot_by_target(df, feature, rotation=0):\n",
    "    plt.figure(figsize=(14, 6))\n",
    "    chart = sns.countplot(data=df, x=feature, hue=TARGET_NAME)\n",
    "    chart.set_xticklabels(chart.get_xticklabels(), rotation=rotation)\n",
    "    plt.legend(title=TARGET_NAME, loc='lower right')"
   ]
  },
  {
   "cell_type": "code",
   "execution_count": 503,
   "metadata": {},
   "outputs": [],
   "source": [
    "NEW_FEATURES = []"
   ]
  },
  {
   "cell_type": "markdown",
   "metadata": {},
   "source": [
    "### Категориальные признаки"
   ]
  },
  {
   "cell_type": "markdown",
   "metadata": {},
   "source": [
    "#### Признак \"Home Ownership\""
   ]
  },
  {
   "cell_type": "code",
   "execution_count": 504,
   "metadata": {},
   "outputs": [],
   "source": [
    "CURRENT_FEATURE = 'Home Ownership'"
   ]
  },
  {
   "cell_type": "code",
   "execution_count": 505,
   "metadata": {},
   "outputs": [
    {
     "data": {
      "image/png": "[encoded data removed]",
      "text/plain": [
       "<Figure size 1008x432 with 1 Axes>"
      ]
     },
     "metadata": {
      "needs_background": "light"
     },
     "output_type": "display_data"
    }
   ],
   "source": [
    "countplot_by_target(train_full, CURRENT_FEATURE)"
   ]
  },
  {
   "cell_type": "code",
   "execution_count": 506,
   "metadata": {},
   "outputs": [
    {
     "name": "stdout",
     "output_type": "stream",
     "text": [
      "Home Ownership: [Own Home, Home Mortgage] - 0.18911500849922896\n",
      "Home Ownership: [Own Home, Rent] - 0.7842888405798815\n",
      "Home Ownership: [Own Home, Have Mortgage] - 0.34745986221114566\n",
      "Home Ownership: [Home Mortgage, Own Home] - 0.3808933024673564\n",
      "Home Ownership: [Home Mortgage, Have Mortgage] - 0.403307001976971\n",
      "Home Ownership: [Rent, Own Home] - 0.6592673827887483\n",
      "Home Ownership: [Rent, Home Mortgage] - 0.21281549384753687\n",
      "Home Ownership: [Have Mortgage, Own Home] - 0.5180536947971539\n"
     ]
    }
   ],
   "source": [
    "check_feature_chi(train_full, CURRENT_FEATURE, 500)"
   ]
  },
  {
   "cell_type": "markdown",
   "metadata": {},
   "source": [
    "Объединим категории [Have Mortgage, Home Mortgage] "
   ]
  },
  {
   "cell_type": "code",
   "execution_count": 507,
   "metadata": {},
   "outputs": [],
   "source": [
    "train_full.loc[train_full[\"Home Ownership\"] == 'Have Mortgage', \"Home Ownership\"] = 'Home Mortgage'"
   ]
  },
  {
   "cell_type": "markdown",
   "metadata": {},
   "source": [
    "#### Признак \"Years in current job\" "
   ]
  },
  {
   "cell_type": "code",
   "execution_count": 508,
   "metadata": {},
   "outputs": [],
   "source": [
    "CURRENT_FEATURE = 'Years in current job'"
   ]
  },
  {
   "cell_type": "markdown",
   "metadata": {},
   "source": [
    "Признак \"Years in current job\" обладает числовыми значениями, но в каждом значении присутствует слово \"year(s)\". Предлагается оставить только числовые значения. Строки со значениями \"10+ years\" и  \"< 1 year\" преобразовать в 10 и 0"
   ]
  },
  {
   "cell_type": "markdown",
   "metadata": {},
   "source": [
    "Функция _replace_year_to_num_ преобразовывает категориальные значения признака \"Years in current job\" в числовые int:"
   ]
  },
  {
   "cell_type": "code",
   "execution_count": 509,
   "metadata": {},
   "outputs": [],
   "source": [
    "def replace_year_to_num(df):\n",
    "    df.replace({'Years in current job': {\n",
    "    '< 1 year': 0,\n",
    "    '1 year': 1,\n",
    "    '2 years': 2, \n",
    "    '3 years': 3,\n",
    "    '4 years': 4,\n",
    "    '5 years': 5,\n",
    "    '6 years': 6,\n",
    "    '7 years': 7,\n",
    "    '8 years': 8,\n",
    "    '9 years': 9,\n",
    "    '10+ years': 10      \n",
    "}}, inplace=True)"
   ]
  },
  {
   "cell_type": "markdown",
   "metadata": {},
   "source": [
    "Преобразование признака \"Years in current job\" в числовой:"
   ]
  },
  {
   "cell_type": "code",
   "execution_count": 510,
   "metadata": {},
   "outputs": [],
   "source": [
    "replace_year_to_num(train_full)"
   ]
  },
  {
   "cell_type": "code",
   "execution_count": 511,
   "metadata": {},
   "outputs": [
    {
     "data": {
      "image/png": "[encoded data removed]",
      "text/plain": [
       "<Figure size 1008x432 with 1 Axes>"
      ]
     },
     "metadata": {
      "needs_background": "light"
     },
     "output_type": "display_data"
    }
   ],
   "source": [
    "countplot_by_target(train_full, CURRENT_FEATURE)"
   ]
  },
  {
   "cell_type": "markdown",
   "metadata": {},
   "source": [
    "#### Признак \"Purpose\" "
   ]
  },
  {
   "cell_type": "code",
   "execution_count": 512,
   "metadata": {},
   "outputs": [],
   "source": [
    "CURRENT_FEATURE = 'Purpose'"
   ]
  },
  {
   "cell_type": "code",
   "execution_count": 513,
   "metadata": {},
   "outputs": [
    {
     "data": {
      "image/png": "[encoded data removed]",
      "text/plain": [
       "<Figure size 1008x432 with 1 Axes>"
      ]
     },
     "metadata": {
      "needs_background": "light"
     },
     "output_type": "display_data"
    }
   ],
   "source": [
    "countplot_by_target(train_full, CURRENT_FEATURE, rotation=45)"
   ]
  },
  {
   "cell_type": "markdown",
   "metadata": {},
   "source": [
    "Предлагается уменьшить количество категорий.\n",
    "Заменим отдельные категории покупок, требующие большого количества средств (раз на них всзяли кредит), на 'major purchase'"
   ]
  },
  {
   "cell_type": "code",
   "execution_count": 514,
   "metadata": {},
   "outputs": [],
   "source": [
    "train_full.loc[train_full['Purpose'] == 'buy a car', 'Purpose'] = 'major purchase'\n",
    "train_full.loc[train_full['Purpose'] == 'buy house', 'Purpose'] = 'major purchase'\n",
    "train_full.loc[train_full['Purpose'] == 'educational expenses', 'Purpose'] = 'major purchase'\n",
    "train_full.loc[train_full['Purpose'] == 'medical bills', 'Purpose'] = 'major purchase'\n",
    "train_full.loc[train_full['Purpose'] == 'moving', 'Purpose'] = 'major purchase'\n",
    "train_full.loc[train_full['Purpose'] == 'renewable energy', 'Purpose'] = 'major purchase'\n",
    "train_full.loc[train_full['Purpose'] == 'take a trip', 'Purpose'] = 'major purchase'\n",
    "train_full.loc[train_full['Purpose'] == 'vacation', 'Purpose'] = 'major purchase'\n",
    "train_full.loc[train_full['Purpose'] == 'wedding', 'Purpose'] = 'major purchase'"
   ]
  },
  {
   "cell_type": "markdown",
   "metadata": {},
   "source": [
    "Заменим категорию 'small business' на 'business loan'"
   ]
  },
  {
   "cell_type": "code",
   "execution_count": 515,
   "metadata": {},
   "outputs": [],
   "source": [
    "train_full.loc[train_full['Purpose'] == 'small business', 'Purpose'] = 'business loan'"
   ]
  },
  {
   "cell_type": "code",
   "execution_count": 516,
   "metadata": {},
   "outputs": [
    {
     "data": {
      "image/png": "[encoded data removed]",
      "text/plain": [
       "<Figure size 1008x432 with 1 Axes>"
      ]
     },
     "metadata": {
      "needs_background": "light"
     },
     "output_type": "display_data"
    }
   ],
   "source": [
    "countplot_by_target(train_full, CURRENT_FEATURE, rotation=45)"
   ]
  },
  {
   "cell_type": "code",
   "execution_count": 517,
   "metadata": {},
   "outputs": [],
   "source": [
    "# check_feature_chi(train_full, CURRENT_FEATURE, 1000)"
   ]
  },
  {
   "cell_type": "markdown",
   "metadata": {},
   "source": [
    "#### Признак \"Term\" "
   ]
  },
  {
   "cell_type": "code",
   "execution_count": 518,
   "metadata": {},
   "outputs": [],
   "source": [
    "CURRENT_FEATURE = 'Term'"
   ]
  },
  {
   "cell_type": "markdown",
   "metadata": {},
   "source": [
    "Преобразуем значения признака Term в 0 и 1:"
   ]
  },
  {
   "cell_type": "code",
   "execution_count": 519,
   "metadata": {},
   "outputs": [
    {
     "data": {
      "image/png": "[encoded data removed]",
      "text/plain": [
       "<Figure size 1008x432 with 1 Axes>"
      ]
     },
     "metadata": {
      "needs_background": "light"
     },
     "output_type": "display_data"
    }
   ],
   "source": [
    "countplot_by_target(train_full, CURRENT_FEATURE)"
   ]
  },
  {
   "cell_type": "code",
   "execution_count": 520,
   "metadata": {
    "scrolled": true
   },
   "outputs": [],
   "source": [
    "train_full.replace({'Term': {'Short Term': 0, 'Long Term': 1}}, inplace=True)"
   ]
  },
  {
   "cell_type": "code",
   "execution_count": 521,
   "metadata": {},
   "outputs": [],
   "source": [
    "train_full['Term'] = train_full['Term'].astype('int')"
   ]
  },
  {
   "cell_type": "code",
   "execution_count": 522,
   "metadata": {
    "scrolled": true
   },
   "outputs": [
    {
     "name": "stdout",
     "output_type": "stream",
     "text": [
      "<class 'pandas.core.frame.DataFrame'>\n",
      "RangeIndex: 7500 entries, 0 to 7499\n",
      "Data columns (total 18 columns):\n",
      " #   Column                        Non-Null Count  Dtype  \n",
      "---  ------                        --------------  -----  \n",
      " 0   Id                            7500 non-null   int64  \n",
      " 1   Home Ownership                7500 non-null   object \n",
      " 2   Annual Income                 5943 non-null   float64\n",
      " 3   Years in current job          7129 non-null   float64\n",
      " 4   Tax Liens                     7500 non-null   float64\n",
      " 5   Number of Open Accounts       7500 non-null   float64\n",
      " 6   Years of Credit History       7500 non-null   float64\n",
      " 7   Maximum Open Credit           7500 non-null   float64\n",
      " 8   Number of Credit Problems     7500 non-null   float64\n",
      " 9   Months since last delinquent  3419 non-null   float64\n",
      " 10  Bankruptcies                  7486 non-null   float64\n",
      " 11  Purpose                       7500 non-null   object \n",
      " 12  Term                          7500 non-null   int64  \n",
      " 13  Current Loan Amount           7500 non-null   float64\n",
      " 14  Current Credit Balance        7500 non-null   float64\n",
      " 15  Monthly Debt                  7500 non-null   float64\n",
      " 16  Credit Score                  5943 non-null   float64\n",
      " 17  Credit Default                7500 non-null   int64  \n",
      "dtypes: float64(13), int64(3), object(2)\n",
      "memory usage: 1.0+ MB\n"
     ]
    }
   ],
   "source": [
    "train_full.info()"
   ]
  },
  {
   "cell_type": "markdown",
   "metadata": {},
   "source": [
    "## Обработка пропусков"
   ]
  },
  {
   "cell_type": "markdown",
   "metadata": {},
   "source": [
    "### Признаки с пропусками"
   ]
  },
  {
   "cell_type": "code",
   "execution_count": 523,
   "metadata": {},
   "outputs": [
    {
     "name": "stdout",
     "output_type": "stream",
     "text": [
      "TRAIN:\n",
      "{'Annual Income': 1557, 'Years in current job': 371, 'Months since last delinquent': 4081, 'Bankruptcies': 14, 'Credit Score': 1557}\n"
     ]
    }
   ],
   "source": [
    "print(f\"TRAIN:\\n{train_pass_features}\")"
   ]
  },
  {
   "cell_type": "markdown",
   "metadata": {},
   "source": [
    "#### Признак 'Annual Income' \n",
    "Данный признак имеет то же количество пропусков, что и 'Credit Score'."
   ]
  },
  {
   "cell_type": "code",
   "execution_count": 524,
   "metadata": {},
   "outputs": [],
   "source": [
    "for idx_1, idx_2 in zip(train_full['Annual Income'].isna(), train_full['Credit Score'].isna()):\n",
    "    if idx_1 != idx_2:\n",
    "        print('not OK')"
   ]
  },
  {
   "cell_type": "markdown",
   "metadata": {},
   "source": [
    "Более того, индексы пропусков совпадают. Проверим корреляцию признаков."
   ]
  },
  {
   "cell_type": "markdown",
   "metadata": {},
   "source": [
    "### Анализ отоншения между признаками"
   ]
  },
  {
   "cell_type": "code",
   "execution_count": 525,
   "metadata": {},
   "outputs": [],
   "source": [
    "def feature_corr_plot(feature):\n",
    "    plt.figure(figsize=(8, 6))\n",
    "    sns.barplot(x=train_full.corr().loc[feature].sort_values(ascending=False).values, \n",
    "                y=train_full.corr().loc[feature].sort_values(ascending=False).index)\n",
    "    plt.title(f'Correlation with {feature}')"
   ]
  },
  {
   "cell_type": "markdown",
   "metadata": {},
   "source": [
    "#### Признак 'Annual Income'"
   ]
  },
  {
   "cell_type": "code",
   "execution_count": 526,
   "metadata": {},
   "outputs": [
    {
     "data": {
      "image/png": "[encoded data removed]",
      "text/plain": [
       "<Figure size 576x432 with 1 Axes>"
      ]
     },
     "metadata": {
      "needs_background": "light"
     },
     "output_type": "display_data"
    }
   ],
   "source": [
    "feature_corr_plot('Annual Income')"
   ]
  },
  {
   "cell_type": "markdown",
   "metadata": {},
   "source": [
    "Самая высокая корреляция с признаками 'Monthly Debt' и 'Current Credit Balance'. Попробуем рассчитать недостающие значение 'Annual Income' следующим образом:\n",
    " - вычислим коэффициент, как отношение среднего 'Annual Income' к 'Monthly Debt'\n",
    " - вычислим 'Annual Income' как произведение коэффициента на значение 'Monthly Debt'"
   ]
  },
  {
   "cell_type": "code",
   "execution_count": 527,
   "metadata": {},
   "outputs": [],
   "source": [
    "notnull_annual_income = train_full.loc[train_full['Annual Income'].notnull(), :]\n",
    "coeff_1 = notnull_annual_income['Annual Income'].mean() / notnull_annual_income['Monthly Debt'].mean()\n",
    "train_full['Annual Income'].fillna(train_full['Monthly Debt'] * coeff_1, inplace=True)"
   ]
  },
  {
   "cell_type": "code",
   "execution_count": 528,
   "metadata": {
    "scrolled": true
   },
   "outputs": [
    {
     "data": {
      "text/plain": [
       "7500"
      ]
     },
     "execution_count": 528,
     "metadata": {},
     "output_type": "execute_result"
    }
   ],
   "source": [
    "train_full['Annual Income'].count()"
   ]
  },
  {
   "cell_type": "markdown",
   "metadata": {},
   "source": [
    "#### Признак 'Months since last delinquent'\n",
    "Данный имеет пропуски более чем 50%\n",
    "1) попробуем удалить этот признак  \n",
    "2) предположим, что пропуски - это отсутсвие просрочек, заменим пропуски нулями  \n",
    "3) учтем признак 'Number of Credit Problems' "
   ]
  },
  {
   "cell_type": "code",
   "execution_count": 529,
   "metadata": {},
   "outputs": [],
   "source": [
    "# 1)"
   ]
  },
  {
   "cell_type": "code",
   "execution_count": 530,
   "metadata": {},
   "outputs": [],
   "source": [
    "#train_full.drop(['Months since last delinquent'], axis=1, inplace=True)\n",
    "#num_cols.remove('Months since last delinquent')"
   ]
  },
  {
   "cell_type": "code",
   "execution_count": 531,
   "metadata": {},
   "outputs": [],
   "source": [
    "# 2)"
   ]
  },
  {
   "cell_type": "code",
   "execution_count": 532,
   "metadata": {},
   "outputs": [],
   "source": [
    "train_full.loc[train_full['Months since last delinquent'].isna(), 'Months since last delinquent'] = 0"
   ]
  },
  {
   "cell_type": "code",
   "execution_count": 533,
   "metadata": {},
   "outputs": [],
   "source": [
    "# 3)\n",
    "#train_full.loc[train_full['Months since last delinquent'].isna(), ['Number of Credit Problems', 'Months since last delinquent']]"
   ]
  },
  {
   "cell_type": "markdown",
   "metadata": {},
   "source": [
    "#### Признак 'Credit Score'"
   ]
  },
  {
   "cell_type": "code",
   "execution_count": 534,
   "metadata": {
    "scrolled": true
   },
   "outputs": [
    {
     "data": {
      "image/png": "[encoded data removed]",
      "text/plain": [
       "<Figure size 576x432 with 1 Axes>"
      ]
     },
     "metadata": {
      "needs_background": "light"
     },
     "output_type": "display_data"
    }
   ],
   "source": [
    "feature_corr_plot('Credit Score')"
   ]
  },
  {
   "cell_type": "markdown",
   "metadata": {},
   "source": [
    "Самая высокая корреляция с целевым признаком 'Credit Default'."
   ]
  },
  {
   "cell_type": "code",
   "execution_count": 535,
   "metadata": {},
   "outputs": [
    {
     "name": "stdout",
     "output_type": "stream",
     "text": [
      "(400,)\n"
     ]
    }
   ],
   "source": [
    "print(train_full.loc[(train_full[\"Credit Score\"] > 850 ), \"Credit Score\"].shape)"
   ]
  },
  {
   "cell_type": "markdown",
   "metadata": {},
   "source": [
    "Данный признак имеет много значений больше 850 (850 - максимальный кредитный рейтинг по всем найденным шкалам). Все такие значения больше 6000, скорее всего это выброс. Проверим эти значения:"
   ]
  },
  {
   "cell_type": "code",
   "execution_count": 536,
   "metadata": {},
   "outputs": [
    {
     "data": {
      "text/plain": [
       "69     6470.0\n",
       "87     7440.0\n",
       "94     7010.0\n",
       "96     7320.0\n",
       "116    7390.0\n",
       "Name: Credit Score, dtype: float64"
      ]
     },
     "execution_count": 536,
     "metadata": {},
     "output_type": "execute_result"
    }
   ],
   "source": [
    "train_full.loc[(train_full[\"Credit Score\"] > 6000 ), \"Credit Score\"].head()"
   ]
  },
  {
   "cell_type": "markdown",
   "metadata": {},
   "source": [
    "Замечено, что многие значения оканчиваются на 0. Возможно он лишний, проверим все выбросные значения.\n",
    "Функция _check_credit_score_outliers_ проверяет значения выбросов, б**о**льших 850. Предполагается, что в эти значения дописан лишний 0:"
   ]
  },
  {
   "cell_type": "code",
   "execution_count": 537,
   "metadata": {},
   "outputs": [],
   "source": [
    "def check_credit_score_outliers(df):\n",
    "    x = []\n",
    "    for i in df.loc[(df[\"Credit Score\"] > 850 ), \"Credit Score\"]:\n",
    "        if i % 10 != 0:\n",
    "            x.append(i)\n",
    "    print(len(x))"
   ]
  },
  {
   "cell_type": "code",
   "execution_count": 538,
   "metadata": {},
   "outputs": [
    {
     "name": "stdout",
     "output_type": "stream",
     "text": [
      "0\n"
     ]
    }
   ],
   "source": [
    "check_credit_score_outliers(train_full)"
   ]
  },
  {
   "cell_type": "markdown",
   "metadata": {},
   "source": [
    " Таким образом, все выбросные значения оканчиваются на 0. Поделим все эти значения на 10:"
   ]
  },
  {
   "cell_type": "code",
   "execution_count": 539,
   "metadata": {},
   "outputs": [],
   "source": [
    "train_full.loc[train_full['Credit Score'] > 850, 'Credit Score'] = train_full.loc[train_full['Credit Score'] > 850, 'Credit Score'] / 10"
   ]
  },
  {
   "cell_type": "code",
   "execution_count": 540,
   "metadata": {
    "scrolled": true
   },
   "outputs": [
    {
     "data": {
      "text/plain": [
       "0"
      ]
     },
     "execution_count": 540,
     "metadata": {},
     "output_type": "execute_result"
    }
   ],
   "source": [
    "train_full.loc[(train_full[\"Credit Score\"] > 850 ), \"Credit Score\"].count()"
   ]
  },
  {
   "cell_type": "markdown",
   "metadata": {},
   "source": [
    "Заполним пропуски признака 'Credit Score' медианными значениями:"
   ]
  },
  {
   "cell_type": "code",
   "execution_count": 541,
   "metadata": {},
   "outputs": [],
   "source": [
    "credit_score_median = train_full['Credit Score'].median()"
   ]
  },
  {
   "cell_type": "code",
   "execution_count": 542,
   "metadata": {},
   "outputs": [],
   "source": [
    "train_full.loc[train_full['Credit Score'].isna(), 'Credit Score'] = credit_score_median"
   ]
  },
  {
   "cell_type": "markdown",
   "metadata": {},
   "source": [
    "#### Признак 'Years in current job'"
   ]
  },
  {
   "cell_type": "code",
   "execution_count": 543,
   "metadata": {},
   "outputs": [
    {
     "data": {
      "image/png": "[encoded data removed]",
      "text/plain": [
       "<Figure size 576x432 with 1 Axes>"
      ]
     },
     "metadata": {
      "needs_background": "light"
     },
     "output_type": "display_data"
    }
   ],
   "source": [
    "feature_corr_plot('Years in current job')"
   ]
  },
  {
   "cell_type": "markdown",
   "metadata": {},
   "source": [
    "Самая высокая корреляция с признаком 'Years of Credit History', но не высокая.\n",
    "Заполним пропуски признака 'Years in current job' медианными значениями:"
   ]
  },
  {
   "cell_type": "code",
   "execution_count": 544,
   "metadata": {},
   "outputs": [],
   "source": [
    "years_in_current_job_median = train_full['Years in current job'].median()"
   ]
  },
  {
   "cell_type": "code",
   "execution_count": 545,
   "metadata": {},
   "outputs": [],
   "source": [
    "train_full.loc[train_full['Years in current job'].isna(), 'Years in current job'] = years_in_current_job_median"
   ]
  },
  {
   "cell_type": "markdown",
   "metadata": {},
   "source": [
    "#### Признак \"Bankruptcies\""
   ]
  },
  {
   "cell_type": "code",
   "execution_count": 546,
   "metadata": {
    "scrolled": true
   },
   "outputs": [
    {
     "data": {
      "image/png": "[encoded data removed]",
      "text/plain": [
       "<Figure size 576x432 with 1 Axes>"
      ]
     },
     "metadata": {
      "needs_background": "light"
     },
     "output_type": "display_data"
    }
   ],
   "source": [
    "feature_corr_plot('Bankruptcies')"
   ]
  },
  {
   "cell_type": "markdown",
   "metadata": {},
   "source": [
    "Высокая корреляция с признаком 'Number of Credit Problems'. Проверим значения признака 'Number of Credit Problems' при отсутствующих значениях признака 'Bankruptcies'"
   ]
  },
  {
   "cell_type": "code",
   "execution_count": 547,
   "metadata": {},
   "outputs": [
    {
     "data": {
      "text/html": [
       "<div>\n",
       "<style scoped>\n",
       "    .dataframe tbody tr th:only-of-type {\n",
       "        vertical-align: middle;\n",
       "    }\n",
       "\n",
       "    .dataframe tbody tr th {\n",
       "        vertical-align: top;\n",
       "    }\n",
       "\n",
       "    .dataframe thead th {\n",
       "        text-align: right;\n",
       "    }\n",
       "</style>\n",
       "<table border=\"1\" class=\"dataframe\">\n",
       "  <thead>\n",
       "    <tr style=\"text-align: right;\">\n",
       "      <th></th>\n",
       "      <th>count</th>\n",
       "      <th>mean</th>\n",
       "      <th>std</th>\n",
       "      <th>min</th>\n",
       "      <th>25%</th>\n",
       "      <th>50%</th>\n",
       "      <th>75%</th>\n",
       "      <th>max</th>\n",
       "    </tr>\n",
       "  </thead>\n",
       "  <tbody>\n",
       "    <tr>\n",
       "      <th>Number of Credit Problems</th>\n",
       "      <td>14.0</td>\n",
       "      <td>0.0</td>\n",
       "      <td>0.0</td>\n",
       "      <td>0.0</td>\n",
       "      <td>0.0</td>\n",
       "      <td>0.0</td>\n",
       "      <td>0.0</td>\n",
       "      <td>0.0</td>\n",
       "    </tr>\n",
       "  </tbody>\n",
       "</table>\n",
       "</div>"
      ],
      "text/plain": [
       "                           count  mean  std  min  25%  50%  75%  max\n",
       "Number of Credit Problems   14.0   0.0  0.0  0.0  0.0  0.0  0.0  0.0"
      ]
     },
     "execution_count": 547,
     "metadata": {},
     "output_type": "execute_result"
    }
   ],
   "source": [
    "train_full.loc[train_full['Bankruptcies'].isnull() == True, ['Number of Credit Problems']].describe().T"
   ]
  },
  {
   "cell_type": "markdown",
   "metadata": {},
   "source": [
    "Так как признак 'Number of Credit Problems' содержит только 0, заменим пропуски признака 'Bankruptcies' медианными значениями при 'Number of Credit Problems'=0 "
   ]
  },
  {
   "cell_type": "code",
   "execution_count": 548,
   "metadata": {},
   "outputs": [],
   "source": [
    "bankruptcies_median = train_full.loc[train_full['Number of Credit Problems'] == 0, 'Bankruptcies'].median()"
   ]
  },
  {
   "cell_type": "code",
   "execution_count": 549,
   "metadata": {},
   "outputs": [],
   "source": [
    "train_full.loc[train_full['Bankruptcies'].isna(), 'Bankruptcies'] = bankruptcies_median"
   ]
  },
  {
   "cell_type": "markdown",
   "metadata": {},
   "source": [
    "Предположим, что признак \"Bankruptcies\" категориальный. Заменим все значения >1 на 1. Таким образом, 0 - отсутствие банкротств, 1 - наличие банкротств."
   ]
  },
  {
   "cell_type": "code",
   "execution_count": 550,
   "metadata": {},
   "outputs": [],
   "source": [
    "train_full.loc[train_full['Bankruptcies'] > 0, 'Bankruptcies'] = 1"
   ]
  },
  {
   "cell_type": "code",
   "execution_count": 551,
   "metadata": {},
   "outputs": [
    {
     "name": "stdout",
     "output_type": "stream",
     "text": [
      "<class 'pandas.core.frame.DataFrame'>\n",
      "RangeIndex: 7500 entries, 0 to 7499\n",
      "Data columns (total 18 columns):\n",
      " #   Column                        Non-Null Count  Dtype  \n",
      "---  ------                        --------------  -----  \n",
      " 0   Id                            7500 non-null   int64  \n",
      " 1   Home Ownership                7500 non-null   object \n",
      " 2   Annual Income                 7500 non-null   float64\n",
      " 3   Years in current job          7500 non-null   float64\n",
      " 4   Tax Liens                     7500 non-null   float64\n",
      " 5   Number of Open Accounts       7500 non-null   float64\n",
      " 6   Years of Credit History       7500 non-null   float64\n",
      " 7   Maximum Open Credit           7500 non-null   float64\n",
      " 8   Number of Credit Problems     7500 non-null   float64\n",
      " 9   Months since last delinquent  7500 non-null   float64\n",
      " 10  Bankruptcies                  7500 non-null   float64\n",
      " 11  Purpose                       7500 non-null   object \n",
      " 12  Term                          7500 non-null   int64  \n",
      " 13  Current Loan Amount           7500 non-null   float64\n",
      " 14  Current Credit Balance        7500 non-null   float64\n",
      " 15  Monthly Debt                  7500 non-null   float64\n",
      " 16  Credit Score                  7500 non-null   float64\n",
      " 17  Credit Default                7500 non-null   int64  \n",
      "dtypes: float64(13), int64(3), object(2)\n",
      "memory usage: 1.0+ MB\n"
     ]
    }
   ],
   "source": [
    "# Все пропуски заполнены\n",
    "train_full.info()"
   ]
  },
  {
   "cell_type": "markdown",
   "metadata": {},
   "source": [
    "#### Признак 'Tax Liens'"
   ]
  },
  {
   "cell_type": "code",
   "execution_count": 552,
   "metadata": {
    "scrolled": true
   },
   "outputs": [
    {
     "data": {
      "text/plain": [
       "array([0., 3., 1., 2., 4., 6., 5., 7.])"
      ]
     },
     "execution_count": 552,
     "metadata": {},
     "output_type": "execute_result"
    }
   ],
   "source": [
    "train_full['Tax Liens'].unique()"
   ]
  },
  {
   "cell_type": "code",
   "execution_count": 553,
   "metadata": {},
   "outputs": [
    {
     "data": {
      "text/html": [
       "<div>\n",
       "<style scoped>\n",
       "    .dataframe tbody tr th:only-of-type {\n",
       "        vertical-align: middle;\n",
       "    }\n",
       "\n",
       "    .dataframe tbody tr th {\n",
       "        vertical-align: top;\n",
       "    }\n",
       "\n",
       "    .dataframe thead th {\n",
       "        text-align: right;\n",
       "    }\n",
       "</style>\n",
       "<table border=\"1\" class=\"dataframe\">\n",
       "  <thead>\n",
       "    <tr style=\"text-align: right;\">\n",
       "      <th></th>\n",
       "      <th>count</th>\n",
       "      <th>mean</th>\n",
       "      <th>std</th>\n",
       "      <th>min</th>\n",
       "      <th>25%</th>\n",
       "      <th>50%</th>\n",
       "      <th>75%</th>\n",
       "      <th>max</th>\n",
       "    </tr>\n",
       "  </thead>\n",
       "  <tbody>\n",
       "    <tr>\n",
       "      <th>Tax Liens</th>\n",
       "      <td>7500.0</td>\n",
       "      <td>0.030133</td>\n",
       "      <td>0.271604</td>\n",
       "      <td>0.0</td>\n",
       "      <td>0.0</td>\n",
       "      <td>0.0</td>\n",
       "      <td>0.0</td>\n",
       "      <td>7.0</td>\n",
       "    </tr>\n",
       "  </tbody>\n",
       "</table>\n",
       "</div>"
      ],
      "text/plain": [
       "            count      mean       std  min  25%  50%  75%  max\n",
       "Tax Liens  7500.0  0.030133  0.271604  0.0  0.0  0.0  0.0  7.0"
      ]
     },
     "execution_count": 553,
     "metadata": {},
     "output_type": "execute_result"
    }
   ],
   "source": [
    "train_full[['Tax Liens']].describe().T"
   ]
  },
  {
   "cell_type": "markdown",
   "metadata": {},
   "source": [
    "Большинство значений признака равны 0, проверим количество значений больше 0:"
   ]
  },
  {
   "cell_type": "code",
   "execution_count": 554,
   "metadata": {},
   "outputs": [
    {
     "data": {
      "text/plain": [
       "134"
      ]
     },
     "execution_count": 554,
     "metadata": {},
     "output_type": "execute_result"
    }
   ],
   "source": [
    "train_full.loc[train_full['Tax Liens'] > 0, 'Tax Liens'].count()"
   ]
  },
  {
   "cell_type": "markdown",
   "metadata": {},
   "source": [
    "Преобразуем признак 'Tax Liens' в категориальный: 0 - отсутствие обременений, 1 - наличие обременений."
   ]
  },
  {
   "cell_type": "code",
   "execution_count": 555,
   "metadata": {},
   "outputs": [],
   "source": [
    "train_full.loc[train_full['Tax Liens'] > 0, 'Tax Liens'] = 1"
   ]
  },
  {
   "cell_type": "code",
   "execution_count": 556,
   "metadata": {},
   "outputs": [
    {
     "data": {
      "text/plain": [
       "array([0., 1.])"
      ]
     },
     "execution_count": 556,
     "metadata": {},
     "output_type": "execute_result"
    }
   ],
   "source": [
    "train_full['Tax Liens'].unique()"
   ]
  },
  {
   "cell_type": "markdown",
   "metadata": {},
   "source": [
    "#### Признак 'Number of Credit Problems'"
   ]
  },
  {
   "cell_type": "code",
   "execution_count": 557,
   "metadata": {},
   "outputs": [
    {
     "data": {
      "text/plain": [
       "array([1., 0., 3., 2., 6., 4., 5., 7.])"
      ]
     },
     "execution_count": 557,
     "metadata": {},
     "output_type": "execute_result"
    }
   ],
   "source": [
    "train_full['Number of Credit Problems'].unique()"
   ]
  },
  {
   "cell_type": "code",
   "execution_count": 558,
   "metadata": {},
   "outputs": [
    {
     "data": {
      "text/html": [
       "<div>\n",
       "<style scoped>\n",
       "    .dataframe tbody tr th:only-of-type {\n",
       "        vertical-align: middle;\n",
       "    }\n",
       "\n",
       "    .dataframe tbody tr th {\n",
       "        vertical-align: top;\n",
       "    }\n",
       "\n",
       "    .dataframe thead th {\n",
       "        text-align: right;\n",
       "    }\n",
       "</style>\n",
       "<table border=\"1\" class=\"dataframe\">\n",
       "  <thead>\n",
       "    <tr style=\"text-align: right;\">\n",
       "      <th></th>\n",
       "      <th>count</th>\n",
       "      <th>mean</th>\n",
       "      <th>std</th>\n",
       "      <th>min</th>\n",
       "      <th>25%</th>\n",
       "      <th>50%</th>\n",
       "      <th>75%</th>\n",
       "      <th>max</th>\n",
       "    </tr>\n",
       "  </thead>\n",
       "  <tbody>\n",
       "    <tr>\n",
       "      <th>Number of Credit Problems</th>\n",
       "      <td>7500.0</td>\n",
       "      <td>0.17</td>\n",
       "      <td>0.498598</td>\n",
       "      <td>0.0</td>\n",
       "      <td>0.0</td>\n",
       "      <td>0.0</td>\n",
       "      <td>0.0</td>\n",
       "      <td>7.0</td>\n",
       "    </tr>\n",
       "  </tbody>\n",
       "</table>\n",
       "</div>"
      ],
      "text/plain": [
       "                            count  mean       std  min  25%  50%  75%  max\n",
       "Number of Credit Problems  7500.0  0.17  0.498598  0.0  0.0  0.0  0.0  7.0"
      ]
     },
     "execution_count": 558,
     "metadata": {},
     "output_type": "execute_result"
    }
   ],
   "source": [
    "train_full[['Number of Credit Problems']].describe().T"
   ]
  },
  {
   "cell_type": "markdown",
   "metadata": {},
   "source": [
    "Большинство значений признака равны 0, проверим количество значений больше 1:"
   ]
  },
  {
   "cell_type": "code",
   "execution_count": 559,
   "metadata": {},
   "outputs": [
    {
     "data": {
      "text/plain": [
       "149"
      ]
     },
     "execution_count": 559,
     "metadata": {},
     "output_type": "execute_result"
    }
   ],
   "source": [
    "train_full.loc[train_full['Number of Credit Problems'] > 1, 'Number of Credit Problems'].count()"
   ]
  },
  {
   "cell_type": "markdown",
   "metadata": {},
   "source": [
    "Преобразуем признак 'Number of Credit Problems' в категориальный: 0 - отсутствие проблема с кредитами, 1 - наличие проблема."
   ]
  },
  {
   "cell_type": "code",
   "execution_count": 560,
   "metadata": {},
   "outputs": [],
   "source": [
    "train_full.loc[train_full['Number of Credit Problems'] > 0, 'Number of Credit Problems'] = 1"
   ]
  },
  {
   "cell_type": "markdown",
   "metadata": {},
   "source": [
    "### Изменение типа признаков на int"
   ]
  },
  {
   "cell_type": "markdown",
   "metadata": {},
   "source": [
    "Функция *f_features_to_int* преобразует признаки из списка features_to_int к типу int:"
   ]
  },
  {
   "cell_type": "code",
   "execution_count": 561,
   "metadata": {
    "scrolled": true
   },
   "outputs": [],
   "source": [
    "def f_features_to_int(df, df_name, features_to_int):\n",
    "    print(f\"\\tПреобразование типа признаков для датасета \\033[1m{df_name}\\033[0m:\")\n",
    "    for feature in features_to_int:\n",
    "        try:\n",
    "            df[feature] = df[feature].astype(int)\n",
    "            print(f\"Значения признака \\033[1m{feature}\\033[0m преобразованы в int\")\n",
    "        except:\n",
    "            print(f\"Проблема с признаком {feature}:\\n {i}\")"
   ]
  },
  {
   "cell_type": "code",
   "execution_count": 562,
   "metadata": {},
   "outputs": [
    {
     "name": "stdout",
     "output_type": "stream",
     "text": [
      "\u001b[1mId\u001b[0m\n",
      "\t\u001b[1mUnique values:\u001b[0m\n",
      "\t[0 1 2 3 4] ... [7495 7496 7497 7498 7499]\n",
      "\t\u001b[1mFeature not NaN size:\u001b[0m 7500\n",
      "\t\u001b[1mType of values:\u001b[0m int64\n",
      "\u001b[95mПропусков нет\u001b[0m\n",
      "**************************************************\n",
      "\u001b[1mHome Ownership\u001b[0m\n",
      "\t\u001b[1mUnique values:\u001b[0m\n",
      "\t['Own Home' 'Home Mortgage' 'Rent']\n",
      "\t\u001b[1mFeature not NaN size:\u001b[0m 7500\n",
      "\t\u001b[1mType of values:\u001b[0m object\n",
      "\u001b[95mПропусков нет\u001b[0m\n",
      "**************************************************\n",
      "\u001b[1mAnnual Income\u001b[0m\n",
      "\t\u001b[1mUnique values:\u001b[0m\n",
      "\t[ 482087. 1025487.  751412.  805068.  776264.] ... [1257610.          378999.82358018  402192.         2774697.32774148\n",
      "  677340.71034715]\n",
      "\t\u001b[1mFeature not NaN size:\u001b[0m 7500\n",
      "\t\u001b[1mType of values:\u001b[0m float64\n",
      "\u001b[95mПропусков нет\u001b[0m\n",
      "**************************************************\n",
      "\u001b[1mYears in current job\u001b[0m\n",
      "\t\u001b[1mUnique values:\u001b[0m\n",
      "\t[ 6. 10.  8.  7.  5.  1.  0.  4.  3.  2.  9.]\n",
      "\t\u001b[1mFeature not NaN size:\u001b[0m 7500\n",
      "\t\u001b[1mType of values:\u001b[0m float64\n",
      "\u001b[95mПропусков нет\u001b[0m\n",
      "\u001b[92mПреобразовать в INT\u001b[0m\n",
      "**************************************************\n",
      "\u001b[1mTax Liens\u001b[0m\n",
      "\t\u001b[1mUnique values:\u001b[0m\n",
      "\t[0. 1.]\n",
      "\t\u001b[1mFeature not NaN size:\u001b[0m 7500\n",
      "\t\u001b[1mType of values:\u001b[0m float64\n",
      "\u001b[95mПропусков нет\u001b[0m\n",
      "\u001b[92mПреобразовать в INT\u001b[0m\n",
      "**************************************************\n",
      "\u001b[1mNumber of Open Accounts\u001b[0m\n",
      "\t\u001b[1mUnique values:\u001b[0m\n",
      "\t[11. 15.  8. 13. 12.] ... [34. 38. 35. 37. 42.]\n",
      "\t\u001b[1mFeature not NaN size:\u001b[0m 7500\n",
      "\t\u001b[1mType of values:\u001b[0m float64\n",
      "\u001b[95mПропусков нет\u001b[0m\n",
      "\u001b[92mПреобразовать в INT\u001b[0m\n",
      "**************************************************\n",
      "\u001b[1mYears of Credit History\u001b[0m\n",
      "\t\u001b[1mUnique values:\u001b[0m\n",
      "\t[26.3 15.3 35.  22.5 13.6] ... [38.9 42.  51.  34.7 48.3]\n",
      "\t\u001b[1mFeature not NaN size:\u001b[0m 7500\n",
      "\t\u001b[1mType of values:\u001b[0m float64\n",
      "\u001b[95mПропусков нет\u001b[0m\n",
      "**************************************************\n",
      "\u001b[1mMaximum Open Credit\u001b[0m\n",
      "\t\u001b[1mUnique values:\u001b[0m\n",
      "\t[ 685960. 1181730. 1182434.  147400.  385836.] ... [ 107866.  686312. 1778920. 1141250.  480832.]\n",
      "\t\u001b[1mFeature not NaN size:\u001b[0m 7500\n",
      "\t\u001b[1mType of values:\u001b[0m float64\n",
      "\u001b[95mПропусков нет\u001b[0m\n",
      "\u001b[92mПреобразовать в INT\u001b[0m\n",
      "**************************************************\n",
      "\u001b[1mNumber of Credit Problems\u001b[0m\n",
      "\t\u001b[1mUnique values:\u001b[0m\n",
      "\t[1. 0.]\n",
      "\t\u001b[1mFeature not NaN size:\u001b[0m 7500\n",
      "\t\u001b[1mType of values:\u001b[0m float64\n",
      "\u001b[95mПропусков нет\u001b[0m\n",
      "\u001b[92mПреобразовать в INT\u001b[0m\n",
      "**************************************************\n",
      "\u001b[1mMonths since last delinquent\u001b[0m\n",
      "\t\u001b[1mUnique values:\u001b[0m\n",
      "\t[ 0. 73. 18.  6. 40.] ... [ 83. 118.  84.  91.  92.]\n",
      "\t\u001b[1mFeature not NaN size:\u001b[0m 7500\n",
      "\t\u001b[1mType of values:\u001b[0m float64\n",
      "\u001b[95mПропусков нет\u001b[0m\n",
      "\u001b[92mПреобразовать в INT\u001b[0m\n",
      "**************************************************\n",
      "\u001b[1mBankruptcies\u001b[0m\n",
      "\t\u001b[1mUnique values:\u001b[0m\n",
      "\t[1. 0.]\n",
      "\t\u001b[1mFeature not NaN size:\u001b[0m 7500\n",
      "\t\u001b[1mType of values:\u001b[0m float64\n",
      "\u001b[95mПропусков нет\u001b[0m\n",
      "\u001b[92mПреобразовать в INT\u001b[0m\n",
      "**************************************************\n",
      "\u001b[1mPurpose\u001b[0m\n",
      "\t\u001b[1mUnique values:\u001b[0m\n",
      "\t['debt consolidation' 'other' 'home improvements' 'major purchase'\n",
      " 'business loan']\n",
      "\t\u001b[1mFeature not NaN size:\u001b[0m 7500\n",
      "\t\u001b[1mType of values:\u001b[0m object\n",
      "\u001b[95mПропусков нет\u001b[0m\n",
      "**************************************************\n",
      "\u001b[1mTerm\u001b[0m\n",
      "\t\u001b[1mUnique values:\u001b[0m\n",
      "\t[0 1]\n",
      "\t\u001b[1mFeature not NaN size:\u001b[0m 7500\n",
      "\t\u001b[1mType of values:\u001b[0m int64\n",
      "\u001b[95mПропусков нет\u001b[0m\n",
      "**************************************************\n",
      "\u001b[1mCurrent Loan Amount\u001b[0m\n",
      "\t\u001b[1mUnique values:\u001b[0m\n",
      "\t[99999999.   264968.   121396.   125840.   337304.] ... [448052. 290400. 444048. 615274.  26928.]\n",
      "\t\u001b[1mFeature not NaN size:\u001b[0m 7500\n",
      "\t\u001b[1mType of values:\u001b[0m float64\n",
      "\u001b[95mПропусков нет\u001b[0m\n",
      "\u001b[92mПреобразовать в INT\u001b[0m\n",
      "**************************************************\n",
      "\u001b[1mCurrent Credit Balance\u001b[0m\n",
      "\t\u001b[1mUnique values:\u001b[0m\n",
      "\t[ 47386. 394972. 308389.  95855.  93309.] ... [ 73492. 456399. 477812. 476064. 288192.]\n",
      "\t\u001b[1mFeature not NaN size:\u001b[0m 7500\n",
      "\t\u001b[1mType of values:\u001b[0m float64\n",
      "\u001b[95mПропусков нет\u001b[0m\n",
      "\u001b[92mПреобразовать в INT\u001b[0m\n",
      "**************************************************\n",
      "\u001b[1mMonthly Debt\u001b[0m\n",
      "\t\u001b[1mUnique values:\u001b[0m\n",
      "\t[ 7914. 18373. 13651. 11338.  7180.] ... [ 1900. 12783. 12479. 37118.  9061.]\n",
      "\t\u001b[1mFeature not NaN size:\u001b[0m 7500\n",
      "\t\u001b[1mType of values:\u001b[0m float64\n",
      "\u001b[95mПропусков нет\u001b[0m\n",
      "\u001b[92mПреобразовать в INT\u001b[0m\n",
      "**************************************************\n",
      "\u001b[1mCredit Score\u001b[0m\n",
      "\t\u001b[1mUnique values:\u001b[0m\n",
      "\t[749. 737. 742. 694. 719.] ... [612. 607. 602. 586. 641.]\n",
      "\t\u001b[1mFeature not NaN size:\u001b[0m 7500\n",
      "\t\u001b[1mType of values:\u001b[0m float64\n",
      "\u001b[95mПропусков нет\u001b[0m\n",
      "\u001b[92mПреобразовать в INT\u001b[0m\n",
      "**************************************************\n"
     ]
    }
   ],
   "source": [
    "# Заполненный тренировочный датасет\n",
    "train_pass_features, train_features_to_int, train_features_binary, train_features_dummies = check_feature_values(train_full)"
   ]
  },
  {
   "cell_type": "code",
   "execution_count": 563,
   "metadata": {
    "scrolled": false
   },
   "outputs": [
    {
     "name": "stdout",
     "output_type": "stream",
     "text": [
      "\tПреобразование типа признаков для датасета \u001b[1mtrain_full\u001b[0m:\n",
      "Значения признака \u001b[1mYears in current job\u001b[0m преобразованы в int\n",
      "Значения признака \u001b[1mTax Liens\u001b[0m преобразованы в int\n",
      "Значения признака \u001b[1mNumber of Open Accounts\u001b[0m преобразованы в int\n",
      "Значения признака \u001b[1mMaximum Open Credit\u001b[0m преобразованы в int\n",
      "Значения признака \u001b[1mNumber of Credit Problems\u001b[0m преобразованы в int\n",
      "Значения признака \u001b[1mMonths since last delinquent\u001b[0m преобразованы в int\n",
      "Значения признака \u001b[1mBankruptcies\u001b[0m преобразованы в int\n",
      "Значения признака \u001b[1mCurrent Loan Amount\u001b[0m преобразованы в int\n",
      "Значения признака \u001b[1mCurrent Credit Balance\u001b[0m преобразованы в int\n",
      "Значения признака \u001b[1mMonthly Debt\u001b[0m преобразованы в int\n",
      "Значения признака \u001b[1mCredit Score\u001b[0m преобразованы в int\n"
     ]
    }
   ],
   "source": [
    "f_features_to_int(train_full, 'train_full', train_features_to_int)"
   ]
  },
  {
   "cell_type": "code",
   "execution_count": 564,
   "metadata": {},
   "outputs": [
    {
     "name": "stdout",
     "output_type": "stream",
     "text": [
      "<class 'pandas.core.frame.DataFrame'>\n",
      "RangeIndex: 7500 entries, 0 to 7499\n",
      "Data columns (total 18 columns):\n",
      " #   Column                        Non-Null Count  Dtype  \n",
      "---  ------                        --------------  -----  \n",
      " 0   Id                            7500 non-null   int64  \n",
      " 1   Home Ownership                7500 non-null   object \n",
      " 2   Annual Income                 7500 non-null   float64\n",
      " 3   Years in current job          7500 non-null   int64  \n",
      " 4   Tax Liens                     7500 non-null   int64  \n",
      " 5   Number of Open Accounts       7500 non-null   int64  \n",
      " 6   Years of Credit History       7500 non-null   float64\n",
      " 7   Maximum Open Credit           7500 non-null   int64  \n",
      " 8   Number of Credit Problems     7500 non-null   int64  \n",
      " 9   Months since last delinquent  7500 non-null   int64  \n",
      " 10  Bankruptcies                  7500 non-null   int64  \n",
      " 11  Purpose                       7500 non-null   object \n",
      " 12  Term                          7500 non-null   int64  \n",
      " 13  Current Loan Amount           7500 non-null   int64  \n",
      " 14  Current Credit Balance        7500 non-null   int64  \n",
      " 15  Monthly Debt                  7500 non-null   int64  \n",
      " 16  Credit Score                  7500 non-null   int64  \n",
      " 17  Credit Default                7500 non-null   int64  \n",
      "dtypes: float64(2), int64(14), object(2)\n",
      "memory usage: 1.0+ MB\n"
     ]
    }
   ],
   "source": [
    "train_full.info()"
   ]
  },
  {
   "cell_type": "markdown",
   "metadata": {},
   "source": [
    "### Проверка выбросов"
   ]
  },
  {
   "cell_type": "markdown",
   "metadata": {},
   "source": [
    "**Функция _plot_outliers_ распечатывает 1 график для каждого признака:**\n",
    " - Ящик с усами (BoxPlot)"
   ]
  },
  {
   "cell_type": "code",
   "execution_count": 565,
   "metadata": {},
   "outputs": [],
   "source": [
    "def plot_outliers(df, col_n):\n",
    "# def plot_outliers(df_tr, df_te, col_n):\n",
    "#     fig, ax = plt.subplots(1, 2, figsize=(16,5))\n",
    "#     ax[0].set_title(f'KDE for both datasets on {col_n}')\n",
    "#     plt.set_title('Train Dataset')\n",
    "#     ax[2].set_title('Test Dataset')\n",
    "#     df_tr[col_n].plot.kde(color='#628cbf', ax=ax[0])\n",
    "#     df_te[col_n].plot.kde(color='#c95556', ax=ax[0])\n",
    "    sns.boxplot(data=df, x=col_n, color='#628cbf')\n",
    "#     sns.boxplot(data=df_te, x=col_name, color='#c95556', ax=ax[2])\n",
    "    plt.show()"
   ]
  },
  {
   "cell_type": "code",
   "execution_count": 566,
   "metadata": {},
   "outputs": [],
   "source": [
    "num_cols = [\n",
    "    'Annual Income',\n",
    "    'Years in current job',\n",
    "    'Tax Liens',\n",
    "    'Number of Open Accounts',\n",
    "    'Years of Credit History',\n",
    "    'Maximum Open Credit',\n",
    "    'Number of Credit Problems',\n",
    "    'Months since last delinquent',\n",
    "    'Bankruptcies',\n",
    "    'Term',\n",
    "    'Current Loan Amount',\n",
    "    'Current Credit Balance',\n",
    "    'Monthly Debt',\n",
    "    'Credit Score']\n",
    "\n",
    "cat_cols =[\n",
    "    'Home Ownership',\n",
    "    'Purpose'\n",
    "]\n",
    "\n",
    "TARGET = ['Credit Default']\n",
    "\n",
    "# for col_name in num_cols:\n",
    "#     plot_outliers(train_full, col_name)\n",
    "    \n",
    "#     plot_outliers(train_full, test_full, col_name)"
   ]
  },
  {
   "cell_type": "markdown",
   "metadata": {},
   "source": [
    "#### Выводы из визуального анализа:\n",
    "* Возможно есть выбросы сверху, особо заметные из них:\n",
    "    * В признаке **'Current Loan Amount'** есть много одинаковых больших значений  \n",
    "    \n",
    "Рассмотрим каждый из пунктов по отдельности"
   ]
  },
  {
   "cell_type": "markdown",
   "metadata": {},
   "source": [
    "### Обработка выбросов<a class=\"anchor\" id=\"outliers\"></a>"
   ]
  },
  {
   "cell_type": "markdown",
   "metadata": {},
   "source": [
    "#### Признак 'Current Loan Amount'"
   ]
  },
  {
   "cell_type": "code",
   "execution_count": 567,
   "metadata": {},
   "outputs": [
    {
     "data": {
      "text/html": [
       "<div>\n",
       "<style scoped>\n",
       "    .dataframe tbody tr th:only-of-type {\n",
       "        vertical-align: middle;\n",
       "    }\n",
       "\n",
       "    .dataframe tbody tr th {\n",
       "        vertical-align: top;\n",
       "    }\n",
       "\n",
       "    .dataframe thead th {\n",
       "        text-align: right;\n",
       "    }\n",
       "</style>\n",
       "<table border=\"1\" class=\"dataframe\">\n",
       "  <thead>\n",
       "    <tr style=\"text-align: right;\">\n",
       "      <th></th>\n",
       "      <th>count</th>\n",
       "      <th>mean</th>\n",
       "      <th>std</th>\n",
       "      <th>min</th>\n",
       "      <th>25%</th>\n",
       "      <th>50%</th>\n",
       "      <th>75%</th>\n",
       "      <th>max</th>\n",
       "    </tr>\n",
       "  </thead>\n",
       "  <tbody>\n",
       "    <tr>\n",
       "      <th>Credit Score</th>\n",
       "      <td>870.0</td>\n",
       "      <td>730.225287</td>\n",
       "      <td>21.39523</td>\n",
       "      <td>601.0</td>\n",
       "      <td>726.0</td>\n",
       "      <td>737.0</td>\n",
       "      <td>744.0</td>\n",
       "      <td>751.0</td>\n",
       "    </tr>\n",
       "    <tr>\n",
       "      <th>Credit Default</th>\n",
       "      <td>870.0</td>\n",
       "      <td>0.000000</td>\n",
       "      <td>0.00000</td>\n",
       "      <td>0.0</td>\n",
       "      <td>0.0</td>\n",
       "      <td>0.0</td>\n",
       "      <td>0.0</td>\n",
       "      <td>0.0</td>\n",
       "    </tr>\n",
       "  </tbody>\n",
       "</table>\n",
       "</div>"
      ],
      "text/plain": [
       "                count        mean       std    min    25%    50%    75%    max\n",
       "Credit Score    870.0  730.225287  21.39523  601.0  726.0  737.0  744.0  751.0\n",
       "Credit Default  870.0    0.000000   0.00000    0.0    0.0    0.0    0.0    0.0"
      ]
     },
     "execution_count": 567,
     "metadata": {},
     "output_type": "execute_result"
    }
   ],
   "source": [
    "train_full.loc[(train_full[\"Current Loan Amount\"] == 99999999), ['Credit Score', 'Credit Default']].describe().T"
   ]
  },
  {
   "cell_type": "markdown",
   "metadata": {},
   "source": [
    "Заметим, что при всех выбросных значениях \"Current Loan Amount\"=99999999, значение целевого признака 'Credit Default'=0. Создадим новый признак \"Current Loan Amount_Credit Default\""
   ]
  },
  {
   "cell_type": "code",
   "execution_count": 568,
   "metadata": {},
   "outputs": [],
   "source": [
    "train_full['Current Loan Amount_Credit Default'] = 1\n",
    "train_full.loc[train_full['Current Loan Amount_Credit Default'] == 99999999, 'Current Loan Amount_Credit Default'] = 0"
   ]
  },
  {
   "cell_type": "code",
   "execution_count": 569,
   "metadata": {},
   "outputs": [],
   "source": [
    "num_cols.append('Current Loan Amount_Credit Default')"
   ]
  },
  {
   "cell_type": "code",
   "execution_count": 570,
   "metadata": {},
   "outputs": [
    {
     "name": "stdout",
     "output_type": "stream",
     "text": [
      "(870, 19)\n"
     ]
    }
   ],
   "source": [
    "print(train_full.loc[(train_full[\"Current Loan Amount\"] == 99999999), :].shape)"
   ]
  },
  {
   "cell_type": "markdown",
   "metadata": {},
   "source": [
    "Само значение 99999999 скорее всего является выбросом (ближайшее значение меньше 800000). Заменим эти значения медианными"
   ]
  },
  {
   "cell_type": "code",
   "execution_count": 571,
   "metadata": {},
   "outputs": [],
   "source": [
    "train_full.loc[train_full['Current Loan Amount'] == 99999999, 'Current Loan Amount'] = train_full['Current Loan Amount'].median()"
   ]
  },
  {
   "cell_type": "markdown",
   "metadata": {},
   "source": [
    "Проверим результат замены:"
   ]
  },
  {
   "cell_type": "code",
   "execution_count": 572,
   "metadata": {
    "scrolled": true
   },
   "outputs": [
    {
     "name": "stdout",
     "output_type": "stream",
     "text": [
      "(0, 19)\n"
     ]
    }
   ],
   "source": [
    "print(train_full.loc[(train_full[\"Current Loan Amount\"] == 99999999), :].shape)"
   ]
  },
  {
   "cell_type": "markdown",
   "metadata": {},
   "source": [
    "#### Остальные признаки"
   ]
  },
  {
   "cell_type": "code",
   "execution_count": 573,
   "metadata": {},
   "outputs": [],
   "source": [
    "from collections import Counter\n",
    "def check_outliers(df, n, features):\n",
    "    outlier_idxs = [] \n",
    "    for col in features:\n",
    "        # 25%\n",
    "        q1 = np.percentile(df[col], 25)\n",
    "        # 75%\n",
    "        q3 = np.percentile(df[col], 75)\n",
    "        # IQR\n",
    "        outlier_step = 1.5 * (q3 - q1)\n",
    "        \n",
    "        # Определение индексов с отклонениями\n",
    "        outlier_list_col = df[(df[col] < q1 - outlier_step) | (df[col] > q3 + outlier_step )].index\n",
    "        \n",
    "        # Добавить найденные индексы в общий список\n",
    "        outlier_idxs.extend(outlier_list_col)\n",
    "        \n",
    "    # Выбрать наблюдения, содержащие более n отклонений\n",
    "    outlier_idxs = Counter(outlier_idxs)        \n",
    "    multiple_outliers = [k for k, v in outlier_idxs.items() if v > n]\n",
    "    \n",
    "    return multiple_outliers"
   ]
  },
  {
   "cell_type": "code",
   "execution_count": 574,
   "metadata": {},
   "outputs": [],
   "source": [
    "outliers_to_drop = check_outliers(train_full, 2, num_cols)"
   ]
  },
  {
   "cell_type": "code",
   "execution_count": 575,
   "metadata": {},
   "outputs": [
    {
     "data": {
      "text/plain": [
       "499"
      ]
     },
     "execution_count": 575,
     "metadata": {},
     "output_type": "execute_result"
    }
   ],
   "source": [
    "len(outliers_to_drop)"
   ]
  },
  {
   "cell_type": "markdown",
   "metadata": {},
   "source": [
    "#### Удаление выбросных строк:"
   ]
  },
  {
   "cell_type": "code",
   "execution_count": 576,
   "metadata": {},
   "outputs": [],
   "source": [
    "# train_full = train_full.drop(outliers_to_drop, axis=0).reset_index(drop=True)"
   ]
  },
  {
   "cell_type": "code",
   "execution_count": 577,
   "metadata": {},
   "outputs": [
    {
     "name": "stdout",
     "output_type": "stream",
     "text": [
      "<class 'pandas.core.frame.DataFrame'>\n",
      "RangeIndex: 7500 entries, 0 to 7499\n",
      "Data columns (total 19 columns):\n",
      " #   Column                              Non-Null Count  Dtype  \n",
      "---  ------                              --------------  -----  \n",
      " 0   Id                                  7500 non-null   int64  \n",
      " 1   Home Ownership                      7500 non-null   object \n",
      " 2   Annual Income                       7500 non-null   float64\n",
      " 3   Years in current job                7500 non-null   int64  \n",
      " 4   Tax Liens                           7500 non-null   int64  \n",
      " 5   Number of Open Accounts             7500 non-null   int64  \n",
      " 6   Years of Credit History             7500 non-null   float64\n",
      " 7   Maximum Open Credit                 7500 non-null   int64  \n",
      " 8   Number of Credit Problems           7500 non-null   int64  \n",
      " 9   Months since last delinquent        7500 non-null   int64  \n",
      " 10  Bankruptcies                        7500 non-null   int64  \n",
      " 11  Purpose                             7500 non-null   object \n",
      " 12  Term                                7500 non-null   int64  \n",
      " 13  Current Loan Amount                 7500 non-null   int64  \n",
      " 14  Current Credit Balance              7500 non-null   int64  \n",
      " 15  Monthly Debt                        7500 non-null   int64  \n",
      " 16  Credit Score                        7500 non-null   int64  \n",
      " 17  Credit Default                      7500 non-null   int64  \n",
      " 18  Current Loan Amount_Credit Default  7500 non-null   int64  \n",
      "dtypes: float64(2), int64(15), object(2)\n",
      "memory usage: 1.1+ MB\n"
     ]
    }
   ],
   "source": [
    "train_full.info()"
   ]
  },
  {
   "cell_type": "markdown",
   "metadata": {},
   "source": [
    "Проверка пропусков после их удаления в обоих датасетах:"
   ]
  },
  {
   "cell_type": "code",
   "execution_count": 578,
   "metadata": {
    "scrolled": true
   },
   "outputs": [
    {
     "name": "stdout",
     "output_type": "stream",
     "text": [
      "Число пропусков в TRAIN:\n",
      "0\n"
     ]
    }
   ],
   "source": [
    "print(f'Число пропусков в TRAIN:\\n{train_full.isna().sum().sum()}')"
   ]
  },
  {
   "cell_type": "markdown",
   "metadata": {},
   "source": [
    "### Преобразование категориальных признаков в dummies"
   ]
  },
  {
   "cell_type": "code",
   "execution_count": 579,
   "metadata": {},
   "outputs": [
    {
     "data": {
      "text/plain": [
       "['Home Ownership', 'Purpose']"
      ]
     },
     "execution_count": 579,
     "metadata": {},
     "output_type": "execute_result"
    }
   ],
   "source": [
    "cat_cols"
   ]
  },
  {
   "cell_type": "markdown",
   "metadata": {},
   "source": [
    "#### Преобразование значений категориальных признаков, имеющих более 2 значений, в dummies переменные"
   ]
  },
  {
   "cell_type": "code",
   "execution_count": 580,
   "metadata": {},
   "outputs": [],
   "source": [
    "def cat_to_dummies(df):\n",
    "#     print(df)\n",
    "    for feature in df.select_dtypes(include='object').columns:\n",
    "        df = pd.concat([df, pd.get_dummies(df[feature], prefix=feature)], axis=1)\n",
    "        print(f\"Значения признака \\033[1m{feature}\\033[0m преобразованы в DUMMIES\")\n",
    "    return df"
   ]
  },
  {
   "cell_type": "markdown",
   "metadata": {},
   "source": [
    "### Удаление лишних признаков"
   ]
  },
  {
   "cell_type": "code",
   "execution_count": 581,
   "metadata": {},
   "outputs": [
    {
     "name": "stdout",
     "output_type": "stream",
     "text": [
      "Значения признака \u001b[1mHome Ownership\u001b[0m преобразованы в DUMMIES\n",
      "Значения признака \u001b[1mPurpose\u001b[0m преобразованы в DUMMIES\n"
     ]
    }
   ],
   "source": [
    "train_full_dum = cat_to_dummies(train_full)"
   ]
  },
  {
   "cell_type": "code",
   "execution_count": 582,
   "metadata": {},
   "outputs": [],
   "source": [
    "TRAIN_FEATURES_NAMES = train_full.columns\n",
    "TRAIN_FEATURES_NAMES_DUM = train_full_dum.columns\n",
    "# features_to_delete = ['Id', TARGET_NAME] + cat_cols\n",
    "TRAIN_FEATURES_NAMES_DUM = TRAIN_FEATURES_NAMES_DUM.drop(['Id', TARGET_NAME] + cat_cols)\n",
    "TRAIN_FEATURES_NAMES = TRAIN_FEATURES_NAMES.drop(['Id', TARGET_NAME])"
   ]
  },
  {
   "cell_type": "code",
   "execution_count": 583,
   "metadata": {},
   "outputs": [],
   "source": [
    "train_full_dum = train_full_dum.drop(columns=cat_cols)"
   ]
  },
  {
   "cell_type": "markdown",
   "metadata": {},
   "source": [
    "### Матрица корреляций"
   ]
  },
  {
   "cell_type": "code",
   "execution_count": 584,
   "metadata": {},
   "outputs": [],
   "source": [
    "def correl_matrix(df):\n",
    "    plt.figure(figsize = (25, 20))\n",
    "\n",
    "    sns.set(font_scale=0.8)\n",
    "    sns.heatmap(df[:].corr().round(3), annot=True, linewidths=.5, cmap='GnBu')\n",
    "\n",
    "    plt.title('Матрица корреляции всех признаков')\n",
    "    plt.show()"
   ]
  },
  {
   "cell_type": "code",
   "execution_count": 585,
   "metadata": {},
   "outputs": [],
   "source": [
    "# correl_matrix(train_full)"
   ]
  },
  {
   "cell_type": "markdown",
   "metadata": {},
   "source": [
    "## Подбор гиперпараметров"
   ]
  },
  {
   "cell_type": "code",
   "execution_count": 586,
   "metadata": {},
   "outputs": [],
   "source": [
    "from sklearn.svm import SVC, LinearSVC\n",
    "from sklearn.linear_model import LogisticRegression\n",
    "from sklearn.naive_bayes import GaussianNB\n",
    "from sklearn.ensemble import RandomForestClassifier\n",
    "from sklearn.model_selection import KFold, GridSearchCV, RandomizedSearchCV\n",
    "import xgboost as xgb, lightgbm as lgbm, catboost as catb\n",
    "from sklearn.metrics import classification_report, f1_score, confusion_matrix\n",
    "from sklearn.metrics import accuracy_score, recall_score, precision_score\n",
    "from imblearn.over_sampling import SMOTE\n",
    "import itertools\n",
    "from imblearn.pipeline import Pipeline as SM_Pipeline\n",
    "from sklearn.metrics import roc_curve, auc\n",
    "from sklearn.ensemble import AdaBoostClassifier\n",
    "from sklearn.preprocessing import MinMaxScaler"
   ]
  },
  {
   "cell_type": "markdown",
   "metadata": {},
   "source": [
    "### Нормализация данных<a class=\"anchor\" id=\"normalization\"></a>"
   ]
  },
  {
   "cell_type": "code",
   "execution_count": 587,
   "metadata": {},
   "outputs": [],
   "source": [
    "def norm_stand_scal(df, num_features):\n",
    "    scaler = StandardScaler()\n",
    "#     df_norm = df.copy()\n",
    "    df[num_features] = scaler.fit_transform(df[num_features])\n",
    "    return df"
   ]
  },
  {
   "cell_type": "markdown",
   "metadata": {},
   "source": [
    "### Разделение датасетов для обучения"
   ]
  },
  {
   "cell_type": "code",
   "execution_count": 588,
   "metadata": {},
   "outputs": [],
   "source": [
    "def train_test_dev(df, features, target):\n",
    "    X = df[features]\n",
    "    y = df[target]\n",
    "    return train_test_split(X, y, shuffle=True, test_size=0.25)"
   ]
  },
  {
   "cell_type": "markdown",
   "metadata": {},
   "source": [
    "### Балансировка целевого признака<a class=\"anchor\" id=\"target_balancing\"></a>"
   ]
  },
  {
   "cell_type": "markdown",
   "metadata": {},
   "source": [
    "Функция _balance_df_by_target_ проводит балансировку"
   ]
  },
  {
   "cell_type": "code",
   "execution_count": 589,
   "metadata": {},
   "outputs": [],
   "source": [
    "def balance_df_by_target(df, target_name):\n",
    "    target_counts = df[target_name].value_counts()\n",
    "#     print(target_counts)\n",
    "\n",
    "    major_class_name = target_counts.argmax()\n",
    "    minor_class_name = target_counts.argmin()\n",
    "\n",
    "    disbalance_coeff = int(target_counts[major_class_name] / target_counts[minor_class_name]) - 1\n",
    "\n",
    "    for i in range(disbalance_coeff):\n",
    "        sample = df[df[target_name] == minor_class_name].sample(target_counts[minor_class_name])\n",
    "        df = df.append(sample, ignore_index=True)\n",
    "\n",
    "    return df.sample(frac=1) "
   ]
  },
  {
   "cell_type": "code",
   "execution_count": 590,
   "metadata": {},
   "outputs": [],
   "source": [
    "def balancing(bal_x, bal_y):\n",
    "    df_for_balancing = pd.concat([bal_x, bal_y], axis=1)\n",
    "    df_balanced = balance_df_by_target(df_for_balancing, TARGET_NAME)\n",
    "    print(df_balanced[TARGET_NAME].value_counts())\n",
    "    return df_balanced.drop(columns=TARGET_NAME), df_balanced[TARGET_NAME]"
   ]
  },
  {
   "cell_type": "markdown",
   "metadata": {},
   "source": [
    "#  Создание и обучение модели"
   ]
  },
  {
   "cell_type": "markdown",
   "metadata": {},
   "source": [
    "Функция _get_classification_report_ выдает отчет _classification_report_"
   ]
  },
  {
   "cell_type": "code",
   "execution_count": 591,
   "metadata": {},
   "outputs": [],
   "source": [
    "def get_classification_report(y_train_true, y_train_pred, y_test_true, y_test_pred):\n",
    "    print('TRAIN\\n\\n' + classification_report(y_train_true, y_train_pred))\n",
    "    print('TEST\\n\\n' + classification_report(y_test_true, y_test_pred))\n",
    "    print('CONFUSION MATRIX\\n')\n",
    "    print(pd.crosstab(y_test_true, y_test_pred))"
   ]
  },
  {
   "cell_type": "markdown",
   "metadata": {},
   "source": [
    "## CatBoost (cat_features=cat_cols)"
   ]
  },
  {
   "cell_type": "code",
   "execution_count": 592,
   "metadata": {},
   "outputs": [],
   "source": [
    "train_full_norm = norm_stand_scal(train_full, num_cols)"
   ]
  },
  {
   "cell_type": "code",
   "execution_count": 593,
   "metadata": {},
   "outputs": [],
   "source": [
    "X_train, X_test, y_train, y_test = train_test_dev(train_full_norm, TRAIN_FEATURES_NAMES, TARGET_NAME)"
   ]
  },
  {
   "cell_type": "code",
   "execution_count": 594,
   "metadata": {},
   "outputs": [
    {
     "name": "stdout",
     "output_type": "stream",
     "text": [
      "0    4053\n",
      "1    3144\n",
      "Name: Credit Default, dtype: int64\n"
     ]
    }
   ],
   "source": [
    "X_train, y_train = balancing(X_train, y_train)"
   ]
  },
  {
   "cell_type": "code",
   "execution_count": 595,
   "metadata": {},
   "outputs": [],
   "source": [
    "X_train[cat_cols] = X_train[cat_cols].astype(str)\n",
    "X_test[cat_cols] = X_test[cat_cols].astype(str)"
   ]
  },
  {
   "cell_type": "code",
   "execution_count": 596,
   "metadata": {},
   "outputs": [
    {
     "name": "stdout",
     "output_type": "stream",
     "text": [
      "TRAIN\n",
      "\n",
      "              precision    recall  f1-score   support\n",
      "\n",
      "           0       0.88      0.91      0.90      4053\n",
      "           1       0.88      0.84      0.86      3144\n",
      "\n",
      "    accuracy                           0.88      7197\n",
      "   macro avg       0.88      0.88      0.88      7197\n",
      "weighted avg       0.88      0.88      0.88      7197\n",
      "\n",
      "TEST\n",
      "\n",
      "              precision    recall  f1-score   support\n",
      "\n",
      "           0       0.78      0.78      0.78      1334\n",
      "           1       0.46      0.46      0.46       541\n",
      "\n",
      "    accuracy                           0.69      1875\n",
      "   macro avg       0.62      0.62      0.62      1875\n",
      "weighted avg       0.69      0.69      0.69      1875\n",
      "\n",
      "CONFUSION MATRIX\n",
      "\n",
      "col_0              0    1\n",
      "Credit Default           \n",
      "0               1038  296\n",
      "1                292  249\n"
     ]
    }
   ],
   "source": [
    "model_catb = catb.CatBoostClassifier(\n",
    "    silent=True, \n",
    "    cat_features=cat_cols\n",
    ")\n",
    "model_catb.fit(X_train, y_train)\n",
    "y_train_pred = model_catb.predict(X_train)\n",
    "y_test_pred = model_catb.predict(X_test)\n",
    "get_classification_report(y_train, y_train_pred, y_test, y_test_pred)"
   ]
  },
  {
   "cell_type": "markdown",
   "metadata": {},
   "source": [
    "#### Подбор гиперпараметров"
   ]
  },
  {
   "cell_type": "code",
   "execution_count": 597,
   "metadata": {},
   "outputs": [],
   "source": [
    "model_catb_1 = catb.CatBoostClassifier(\n",
    "    silent=True, \n",
    "    cat_features=cat_cols\n",
    ")"
   ]
  },
  {
   "cell_type": "code",
   "execution_count": 598,
   "metadata": {},
   "outputs": [],
   "source": [
    "params = {'n_estimators':[50, 65, 80, 100], \n",
    "          'max_depth':[5, 7, 10],\n",
    "          'learning_rate':[0.001, 0.01, 0.05, 0.1]}"
   ]
  },
  {
   "cell_type": "code",
   "execution_count": 599,
   "metadata": {},
   "outputs": [],
   "source": [
    "cv=KFold(n_splits=3, shuffle=True)"
   ]
  },
  {
   "cell_type": "code",
   "execution_count": 600,
   "metadata": {},
   "outputs": [
    {
     "data": {
      "text/plain": [
       "RandomizedSearchCV(cv=KFold(n_splits=3, random_state=None, shuffle=True),\n",
       "                   estimator=<catboost.core.CatBoostClassifier object at 0x7fe99cc98290>,\n",
       "                   n_jobs=-1,\n",
       "                   param_distributions={'learning_rate': [0.001, 0.01, 0.05,\n",
       "                                                          0.1],\n",
       "                                        'max_depth': [5, 7, 10],\n",
       "                                        'n_estimators': [50, 65, 80, 100]},\n",
       "                   scoring='f1')"
      ]
     },
     "execution_count": 600,
     "metadata": {},
     "output_type": "execute_result"
    }
   ],
   "source": [
    "rs = RandomizedSearchCV(model_catb_1, params, scoring='f1', cv=cv, n_jobs=-1)\n",
    "rs.fit(X_train, y_train)"
   ]
  },
  {
   "cell_type": "code",
   "execution_count": 601,
   "metadata": {},
   "outputs": [
    {
     "data": {
      "text/plain": [
       "{'n_estimators': 65, 'max_depth': 10, 'learning_rate': 0.1}"
      ]
     },
     "execution_count": 601,
     "metadata": {},
     "output_type": "execute_result"
    }
   ],
   "source": [
    "rs.best_params_"
   ]
  },
  {
   "cell_type": "code",
   "execution_count": 602,
   "metadata": {},
   "outputs": [
    {
     "data": {
      "text/plain": [
       "0.6163898092444281"
      ]
     },
     "execution_count": 602,
     "metadata": {},
     "output_type": "execute_result"
    }
   ],
   "source": [
    "rs.best_score_"
   ]
  },
  {
   "cell_type": "markdown",
   "metadata": {},
   "source": [
    "### Обучение и оценка модели"
   ]
  },
  {
   "cell_type": "code",
   "execution_count": 603,
   "metadata": {},
   "outputs": [
    {
     "name": "stdout",
     "output_type": "stream",
     "text": [
      "TRAIN\n",
      "\n",
      "              precision    recall  f1-score   support\n",
      "\n",
      "           0       0.80      0.87      0.84      4053\n",
      "           1       0.82      0.72      0.77      3144\n",
      "\n",
      "    accuracy                           0.81      7197\n",
      "   macro avg       0.81      0.80      0.80      7197\n",
      "weighted avg       0.81      0.81      0.81      7197\n",
      "\n",
      "TEST\n",
      "\n",
      "              precision    recall  f1-score   support\n",
      "\n",
      "           0       0.78      0.79      0.78      1334\n",
      "           1       0.46      0.45      0.45       541\n",
      "\n",
      "    accuracy                           0.69      1875\n",
      "   macro avg       0.62      0.62      0.62      1875\n",
      "weighted avg       0.69      0.69      0.69      1875\n",
      "\n",
      "CONFUSION MATRIX\n",
      "\n",
      "col_0              0    1\n",
      "Credit Default           \n",
      "0               1048  286\n",
      "1                300  241\n"
     ]
    }
   ],
   "source": [
    "final_model = catb.CatBoostClassifier(\n",
    "    n_estimators=rs.best_params_['n_estimators'], \n",
    "    max_depth=rs.best_params_['max_depth'], \n",
    "    learning_rate=rs.best_params_['learning_rate'], \n",
    "    cat_features=cat_cols,\n",
    "    silent=True)\n",
    "\n",
    "final_model.fit(X_train, y_train)\n",
    "\n",
    "y_train_pred = final_model.predict(X_train)\n",
    "y_test_pred = final_model.predict(X_test)\n",
    "\n",
    "get_classification_report(y_train, y_train_pred, y_test, y_test_pred)"
   ]
  },
  {
   "cell_type": "markdown",
   "metadata": {},
   "source": [
    "## CatBoost (dummies)"
   ]
  },
  {
   "cell_type": "code",
   "execution_count": 604,
   "metadata": {},
   "outputs": [],
   "source": [
    "train_full_norm_dum = norm_stand_scal(train_full_dum, num_cols)\n",
    "# train_full_norm_dum = norm_stand_scal(train_full_dum, TRAIN_FEATURES_NAMES_DUM)"
   ]
  },
  {
   "cell_type": "code",
   "execution_count": 605,
   "metadata": {},
   "outputs": [],
   "source": [
    "X_train, X_test, y_train, y_test = train_test_dev(train_full_norm_dum, TRAIN_FEATURES_NAMES_DUM, TARGET_NAME)"
   ]
  },
  {
   "cell_type": "code",
   "execution_count": 606,
   "metadata": {},
   "outputs": [
    {
     "name": "stdout",
     "output_type": "stream",
     "text": [
      "0    4041\n",
      "1    3168\n",
      "Name: Credit Default, dtype: int64\n"
     ]
    }
   ],
   "source": [
    "X_train, y_train = balancing(X_train, y_train)"
   ]
  },
  {
   "cell_type": "code",
   "execution_count": 607,
   "metadata": {},
   "outputs": [],
   "source": [
    "# X_train[cat_cols] = X_train[cat_cols].astype(str)\n",
    "# X_test[cat_cols] = X_test[cat_cols].astype(str)"
   ]
  },
  {
   "cell_type": "code",
   "execution_count": 608,
   "metadata": {
    "scrolled": true
   },
   "outputs": [
    {
     "name": "stdout",
     "output_type": "stream",
     "text": [
      "TRAIN\n",
      "\n",
      "              precision    recall  f1-score   support\n",
      "\n",
      "           0       0.90      0.92      0.91      4041\n",
      "           1       0.89      0.87      0.88      3168\n",
      "\n",
      "    accuracy                           0.90      7209\n",
      "   macro avg       0.90      0.89      0.89      7209\n",
      "weighted avg       0.90      0.90      0.90      7209\n",
      "\n",
      "TEST\n",
      "\n",
      "              precision    recall  f1-score   support\n",
      "\n",
      "           0       0.78      0.77      0.78      1346\n",
      "           1       0.44      0.45      0.44       529\n",
      "\n",
      "    accuracy                           0.68      1875\n",
      "   macro avg       0.61      0.61      0.61      1875\n",
      "weighted avg       0.69      0.68      0.68      1875\n",
      "\n",
      "CONFUSION MATRIX\n",
      "\n",
      "col_0              0    1\n",
      "Credit Default           \n",
      "0               1042  304\n",
      "1                291  238\n"
     ]
    }
   ],
   "source": [
    "model_catb_dum = catb.CatBoostClassifier(\n",
    "    silent=True\n",
    ")\n",
    "calib = CalibratedClassifierCV(base_estimator=model_catb_dum, method='sigmoid', cv=2)\n",
    "\n",
    "model_catb_dum.fit(X_train, y_train)\n",
    "calib.fit(X_train, y_train)\n",
    "\n",
    "y_train_pred = model_catb_dum.predict(X_train)\n",
    "y_test_pred = model_catb_dum.predict(X_test)\n",
    "get_classification_report(y_train, y_train_pred, y_test, y_test_pred)"
   ]
  },
  {
   "cell_type": "markdown",
   "metadata": {},
   "source": [
    "#### Подбор гиперпараметров"
   ]
  },
  {
   "cell_type": "code",
   "execution_count": 611,
   "metadata": {},
   "outputs": [],
   "source": [
    "params = {'n_estimators':[50, 75, 100, 150], \n",
    "          'max_depth':[5, 7, 10],\n",
    "          'learning_rate':[0.001, 0.01, 0.05, 0.1]}"
   ]
  },
  {
   "cell_type": "code",
   "execution_count": 612,
   "metadata": {},
   "outputs": [],
   "source": [
    "cv=KFold(n_splits=5, shuffle=True)"
   ]
  },
  {
   "cell_type": "code",
   "execution_count": 613,
   "metadata": {},
   "outputs": [
    {
     "data": {
      "text/plain": [
       "RandomizedSearchCV(cv=KFold(n_splits=5, random_state=None, shuffle=True),\n",
       "                   estimator=<catboost.core.CatBoostClassifier object at 0x7fe99cc1afd0>,\n",
       "                   n_jobs=-1,\n",
       "                   param_distributions={'learning_rate': [0.001, 0.01, 0.05,\n",
       "                                                          0.1],\n",
       "                                        'max_depth': [5, 7, 10],\n",
       "                                        'n_estimators': [50, 75, 100, 150]},\n",
       "                   scoring='f1')"
      ]
     },
     "execution_count": 613,
     "metadata": {},
     "output_type": "execute_result"
    }
   ],
   "source": [
    "rs = RandomizedSearchCV(model_catb_dum, params, scoring='f1', cv=cv, n_jobs=-1)\n",
    "rs.fit(X_train, y_train)"
   ]
  },
  {
   "cell_type": "code",
   "execution_count": 614,
   "metadata": {},
   "outputs": [
    {
     "data": {
      "text/plain": [
       "{'n_estimators': 100, 'max_depth': 10, 'learning_rate': 0.1}"
      ]
     },
     "execution_count": 614,
     "metadata": {},
     "output_type": "execute_result"
    }
   ],
   "source": [
    "rs.best_params_"
   ]
  },
  {
   "cell_type": "code",
   "execution_count": 615,
   "metadata": {},
   "outputs": [
    {
     "data": {
      "text/plain": [
       "0.7824195014604944"
      ]
     },
     "execution_count": 615,
     "metadata": {},
     "output_type": "execute_result"
    }
   ],
   "source": [
    "rs.best_score_"
   ]
  },
  {
   "cell_type": "markdown",
   "metadata": {},
   "source": [
    "### Обучение и оценка модели"
   ]
  },
  {
   "cell_type": "code",
   "execution_count": 620,
   "metadata": {},
   "outputs": [
    {
     "name": "stdout",
     "output_type": "stream",
     "text": [
      "TRAIN\n",
      "\n",
      "              precision    recall  f1-score   support\n",
      "\n",
      "           0       0.77      0.84      0.80      4041\n",
      "           1       0.77      0.67      0.72      3168\n",
      "\n",
      "    accuracy                           0.77      7209\n",
      "   macro avg       0.77      0.76      0.76      7209\n",
      "weighted avg       0.77      0.77      0.76      7209\n",
      "\n",
      "TEST\n",
      "\n",
      "              precision    recall  f1-score   support\n",
      "\n",
      "           0       0.78      0.76      0.77      1346\n",
      "           1       0.43      0.46      0.44       529\n",
      "\n",
      "    accuracy                           0.68      1875\n",
      "   macro avg       0.61      0.61      0.61      1875\n",
      "weighted avg       0.68      0.68      0.68      1875\n",
      "\n",
      "CONFUSION MATRIX\n",
      "\n",
      "col_0              0    1\n",
      "Credit Default           \n",
      "0               1028  318\n",
      "1                287  242\n"
     ]
    }
   ],
   "source": [
    "final_model = catb.CatBoostClassifier(\n",
    "    n_estimators=50, \n",
    "    max_depth=7, \n",
    "    learning_rate=0.1, \n",
    "#     n_estimators=rs.best_params_['n_estimators'], \n",
    "#     max_depth=rs.best_params_['max_depth'], \n",
    "#     learning_rate=rs.best_params_['learning_rate'], \n",
    "    silent=True)\n",
    "\n",
    "calib = CalibratedClassifierCV(base_estimator=final_model, method='sigmoid', cv=3)\n",
    "final_model.fit(X_train, y_train)\n",
    "\n",
    "calib.fit(X_train, y_train)\n",
    "# print(final_model.predict_proba(X_train))\n",
    "# print(calib.predict_proba(X_train))\n",
    "\n",
    "y_train_pred = final_model.predict(X_train)\n",
    "y_test_pred = final_model.predict(X_test)\n",
    "\n",
    "get_classification_report(y_train, y_train_pred, y_test, y_test_pred)"
   ]
  },
  {
   "cell_type": "markdown",
   "metadata": {},
   "source": [
    "### Выбор наиболее важных признаков"
   ]
  },
  {
   "cell_type": "code",
   "execution_count": 343,
   "metadata": {},
   "outputs": [],
   "source": [
    "def show_feature_importances(feature_names, feature_importances, get_top=None):\n",
    "    feature_importances = pd.DataFrame({'feature': feature_names, 'importance': feature_importances})\n",
    "    feature_importances = feature_importances.sort_values('importance', ascending=False)\n",
    "       \n",
    "    plt.figure(figsize = (10, len(feature_importances) * 0.355))\n",
    "    \n",
    "    sns.barplot(feature_importances['importance'], feature_importances['feature'])\n",
    "    \n",
    "    plt.xlabel('Importance')\n",
    "    plt.title('Importance of features')\n",
    "    plt.show()\n",
    "    \n",
    "    if get_top is not None:\n",
    "        return feature_importances['feature'][:get_top].tolist()"
   ]
  },
  {
   "cell_type": "code",
   "execution_count": 350,
   "metadata": {},
   "outputs": [],
   "source": [
    "def get_top_important_features(x_tr, model, num):\n",
    "    return show_feature_importances(x_tr.columns, model.feature_importances_, num)"
   ]
  },
  {
   "cell_type": "code",
   "execution_count": 351,
   "metadata": {},
   "outputs": [
    {
     "data": {
      "image/png": "[encoded data removed]",
      "text/plain": [
       "<Figure size 720x587.88 with 1 Axes>"
      ]
     },
     "metadata": {
      "needs_background": "light"
     },
     "output_type": "display_data"
    }
   ],
   "source": [
    "important_features_top = get_top_important_features(X_train, final_model_dum, 15)"
   ]
  },
  {
   "cell_type": "code",
   "execution_count": 352,
   "metadata": {},
   "outputs": [],
   "source": [
    "# important_features_top"
   ]
  },
  {
   "cell_type": "code",
   "execution_count": 353,
   "metadata": {},
   "outputs": [
    {
     "name": "stdout",
     "output_type": "stream",
     "text": [
      "TRAIN\n",
      "\n",
      "              precision    recall  f1-score   support\n",
      "\n",
      "           0       1.00      1.00      1.00      3791\n",
      "           1       1.00      1.00      1.00      2918\n",
      "\n",
      "    accuracy                           1.00      6709\n",
      "   macro avg       1.00      1.00      1.00      6709\n",
      "weighted avg       1.00      1.00      1.00      6709\n",
      "\n",
      "TEST\n",
      "\n",
      "              precision    recall  f1-score   support\n",
      "\n",
      "           0       0.75      0.87      0.81      1235\n",
      "           1       0.50      0.32      0.39       516\n",
      "\n",
      "    accuracy                           0.71      1751\n",
      "   macro avg       0.63      0.59      0.60      1751\n",
      "weighted avg       0.68      0.71      0.68      1751\n",
      "\n",
      "CONFUSION MATRIX\n",
      "\n",
      "col_0              0    1\n",
      "Credit Default           \n",
      "0               1072  163\n",
      "1                353  163\n"
     ]
    }
   ],
   "source": [
    "# final_model = catb.CatBoostClassifier(n_estimators=500, max_depth=7, l2_leaf_reg=10, silent=True, random_state=123)\n",
    "# final_model = catb.CatBoostClassifier(\n",
    "#     n_estimators=500, \n",
    "#     max_depth=7, \n",
    "#     learning_rate=0.05, \n",
    "#     cat_features=cat_cols,\n",
    "#     silent=True)\n",
    "final_model.fit(X_train[important_features_top], y_train)\n",
    "\n",
    "y_train_pred = final_model.predict(X_train[important_features_top])\n",
    "y_test_pred = final_model.predict(X_test[important_features_top])\n",
    "y_test_pred_probs = final_model.predict_proba(X_test[important_features_top])\n",
    "\n",
    "\n",
    "get_classification_report(y_train, y_train_pred, y_test, y_test_pred)"
   ]
  },
  {
   "cell_type": "markdown",
   "metadata": {},
   "source": [
    "## Предсказания тестовых данных¶"
   ]
  },
  {
   "cell_type": "code",
   "execution_count": null,
   "metadata": {},
   "outputs": [],
   "source": [
    "test_full = pd.read_csv(TEST_DATASET_PATH)"
   ]
  },
  {
   "cell_type": "code",
   "execution_count": null,
   "metadata": {},
   "outputs": [],
   "source": [
    "test_full.shape"
   ]
  },
  {
   "cell_type": "code",
   "execution_count": null,
   "metadata": {},
   "outputs": [],
   "source": [
    "# Тестовый датасет\n",
    "test_pass_features, test_features_to_int, test_features_binary, test_features_dummies = check_feature_values(test_full)"
   ]
  },
  {
   "cell_type": "markdown",
   "metadata": {},
   "source": [
    "### Изменение типа признаков на int"
   ]
  },
  {
   "cell_type": "code",
   "execution_count": null,
   "metadata": {},
   "outputs": [],
   "source": [
    "f_features_to_int(test_full, 'test_full', test_features_to_int)"
   ]
  },
  {
   "cell_type": "markdown",
   "metadata": {},
   "source": [
    "Преобразование признака \"Years in current job\" для тестового датасета:"
   ]
  },
  {
   "cell_type": "code",
   "execution_count": null,
   "metadata": {},
   "outputs": [],
   "source": [
    "replace_year_to_num(test_full)"
   ]
  },
  {
   "cell_type": "code",
   "execution_count": null,
   "metadata": {},
   "outputs": [],
   "source": [
    "test_full.loc[test_full['Current Loan Amount'] == 99999999, 'Current Loan Amount'] = test_full['Current Loan Amount'].median()"
   ]
  },
  {
   "cell_type": "code",
   "execution_count": null,
   "metadata": {},
   "outputs": [],
   "source": [
    "test_full.loc[test_full['Credit Score'] > 850, 'Credit Score'] = test_full.loc[test_full['Credit Score'] > 850, 'Credit Score'] / 10"
   ]
  },
  {
   "cell_type": "code",
   "execution_count": null,
   "metadata": {},
   "outputs": [],
   "source": [
    "print(f\"TEST:\\n{test_pass_features}\")"
   ]
  },
  {
   "cell_type": "code",
   "execution_count": null,
   "metadata": {},
   "outputs": [],
   "source": [
    "# Медианы\n",
    "annual_income_median = test_full['Annual Income'].median()\n",
    "credit_score_median = test_full['Credit Score'].median()\n",
    "years_in_current_job_median = test_full['Years in current job'].median()"
   ]
  },
  {
   "cell_type": "code",
   "execution_count": null,
   "metadata": {},
   "outputs": [],
   "source": [
    "test_full.loc[test_full['Annual Income'].isna(), 'Annual Income'] = annual_income_median\n",
    "test_full.loc[test_full['Credit Score'].isna(), 'Credit Score'] = credit_score_median\n",
    "test_full.loc[test_full['Years in current job'].isna(), 'Years in current job'] = years_in_current_job_median\n",
    "test_full['Bankruptcies'].fillna(test_full['Bankruptcies'].mode().iloc[0], inplace=True)"
   ]
  },
  {
   "cell_type": "code",
   "execution_count": null,
   "metadata": {},
   "outputs": [],
   "source": [
    "test_full[\"Bankruptcies\"] = test_full[\"Bankruptcies\"].astype(object)"
   ]
  },
  {
   "cell_type": "code",
   "execution_count": null,
   "metadata": {},
   "outputs": [],
   "source": [
    "# test_full.drop(['Months since last delinquent'], axis=1, inplace=True)\n",
    "test_full.loc[test_full['Months since last delinquent'].isna(), 'Months since last delinquent'] = 0"
   ]
  },
  {
   "cell_type": "code",
   "execution_count": null,
   "metadata": {},
   "outputs": [],
   "source": [
    "print(f'Число пропусков в TEST:\\n{test_full.isna().sum().sum()}')"
   ]
  },
  {
   "cell_type": "code",
   "execution_count": null,
   "metadata": {},
   "outputs": [],
   "source": [
    "test_full.replace({'Term': {'Short Term': 0, 'Long Term': 1}}, inplace=True)"
   ]
  },
  {
   "cell_type": "code",
   "execution_count": null,
   "metadata": {},
   "outputs": [],
   "source": [
    "test_full = cat_to_dummies(test_full)"
   ]
  },
  {
   "cell_type": "code",
   "execution_count": null,
   "metadata": {},
   "outputs": [],
   "source": [
    "test_full.drop(['Home Ownership', 'Bankruptcies', 'Purpose'], axis=1, inplace=True)"
   ]
  },
  {
   "cell_type": "code",
   "execution_count": null,
   "metadata": {},
   "outputs": [],
   "source": [
    "test_full = norm_stand_scal(test_full, num_cols)"
   ]
  },
  {
   "cell_type": "code",
   "execution_count": null,
   "metadata": {},
   "outputs": [],
   "source": [
    "# test_full[cat_cols] = test_full[cat_cols].astype(str)"
   ]
  },
  {
   "cell_type": "code",
   "execution_count": null,
   "metadata": {},
   "outputs": [],
   "source": [
    "# test_full = test_full[TRAIN_FEATURES_NAMES]\n",
    "# test_full.info()"
   ]
  },
  {
   "cell_type": "code",
   "execution_count": null,
   "metadata": {},
   "outputs": [],
   "source": [
    "# Проводим предсказание на тестовых данных\n",
    "TEST_FEATURES_NAMES_DUM = TRAIN_FEATURES_NAMES_DUM.drop('Purpose_renewable energy')\n",
    "pred_test = final_model.predict(test_full[TEST_FEATURES_NAMES_DUM])"
   ]
  },
  {
   "cell_type": "code",
   "execution_count": null,
   "metadata": {},
   "outputs": [],
   "source": [
    "test_full[TARGET_NAME] = pred_test\n",
    "test_full[TARGET_NAME] = test_full[TARGET_NAME].astype('int')"
   ]
  },
  {
   "cell_type": "code",
   "execution_count": null,
   "metadata": {},
   "outputs": [],
   "source": [
    "# Сохраняем полученные предсказания\n",
    "# test_full.loc[:, ['Id', TARGET_NAME]].to_csv('./kaggle/damkkh_predictions_20201027_0827.csv', index=None)\n",
    "test_full[['Id', TARGET_NAME]].to_csv('./kaggle/damkkh_predictions_20201028_0746.csv', index=False)"
   ]
  },
  {
   "cell_type": "code",
   "execution_count": null,
   "metadata": {},
   "outputs": [],
   "source": []
  }
 ],
 "metadata": {
  "kernelspec": {
   "display_name": "Python 3",
   "language": "python",
   "name": "python3"
  },
  "language_info": {
   "codemirror_mode": {
    "name": "ipython",
    "version": 3
   },
   "file_extension": ".py",
   "mimetype": "text/x-python",
   "name": "python",
   "nbconvert_exporter": "python",
   "pygments_lexer": "ipython3",
   "version": "3.7.9"
  }
 },
 "nbformat": 4,
 "nbformat_minor": 4
}
